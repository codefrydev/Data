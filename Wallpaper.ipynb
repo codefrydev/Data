{
 "cells": [
  {
   "cell_type": "code",
   "execution_count": 46,
   "metadata": {
    "vscode": {
     "languageId": "polyglot-notebook"
    }
   },
   "outputs": [],
   "source": [
    "using System.Net.Http;\n",
    "using System.Text.Json;\n",
    "using System.IO;"
   ]
  },
  {
   "cell_type": "markdown",
   "metadata": {},
   "source": [
    "Below Each Morkdown File is Sample Do cange Any thing"
   ]
  },
  {
   "cell_type": "markdown",
   "metadata": {},
   "source": [
    "```json\n",
    "[\n",
    "    {\n",
    "      \"ID\": 123,\n",
    "      \"Name\": \"Hulk\",\n",
    "      \"Description\": \"Hulk \",\n",
    "      \"ThumbNailUrl\": \"https://raw.githubusercontent.com/codefrydev/Data/941c0c79a06d539f6115a680ad30efe25b8dedd3/Wallpapers/Abhijeet/hulk.JPG\",\n",
    "      \"OriginalDrawingUrl\": \"https://raw.githubusercontent.com/codefrydev/Data/941c0c79a06d539f6115a680ad30efe25b8dedd3/Wallpapers/Abhijeet/hulk.JPG\",\n",
    "      \"DrawingCreated\": \"2024-03-30\",\n",
    "      \"Categories\": \"Super hero\",\n",
    "      \"Genre\": \"Artistic\",\n",
    "      \"Amoled\": true\n",
    "    } \n",
    "]\n",
    "```\n",
    "Don't Touch me i am sample"
   ]
  },
  {
   "cell_type": "code",
   "execution_count": 47,
   "metadata": {
    "dotnet_interactive": {
     "language": "csharp"
    },
    "polyglot_notebook": {
     "kernelName": "csharp"
    },
    "vscode": {
     "languageId": "polyglot-notebook"
    }
   },
   "outputs": [],
   "source": [
    "public class Drawing\n",
    "{\n",
    "    public int ID { get; set; }\n",
    "    public string Name { get; set; } = string.Empty;\n",
    "    public string Description { get; set; } = string.Empty;\n",
    "    public string ThumbNailUrl { get; set; } = string.Empty;\n",
    "    public string OriginalDrawingUrl { get; set; } = string.Empty;\n",
    "    public string DrawingCreated { get; set; } = string.Empty;\n",
    "    public string Categories { get; set; } = string.Empty;\n",
    "    public string Genre { get; set; } = string.Empty;\n",
    "    public bool Amoled { get; set; }\n",
    "}"
   ]
  },
  {
   "cell_type": "code",
   "execution_count": 48,
   "metadata": {
    "vscode": {
     "languageId": "polyglot-notebook"
    }
   },
   "outputs": [],
   "source": [
    "string path = \"https://raw.githubusercontent.com/codefrydev/Data/941c0c79a06d539f6115a680ad30efe25b8dedd3/\";\n",
    "string jsonpath =@\"Wallpapers\\wallpaper.json\";"
   ]
  },
  {
   "cell_type": "markdown",
   "metadata": {},
   "source": [
    "```csharp\n",
    "var injectNewData = new Drawing();\n",
    "injectNewData.ID = 12; // give me random unique id\n",
    "injectNewData.Name = \"Reflessia\";\n",
    "injectNewData.Description = \"Flower Big Time\";\n",
    "\n",
    "/// right click on Image And Click on Coply relative path then cahnge backward slash to forward slash\n",
    "injectNewData.ThumbNailUrl = path +\"Wallpapers/Abhijeet/reflessia.PNG\"; \n",
    "injectNewData.OriginalDrawingUrl = path +\"Wallpapers/Abhijeet/reflessia.PNG\";\n",
    "\n",
    "injectNewData.DrawingCreated = \"2024-03-30\";\n",
    "injectNewData.Categories = \"Flower\";\n",
    "injectNewData.Genre = \"Flora\";\n",
    "injectNewData.Amoled = false;\n",
    "```"
   ]
  },
  {
   "cell_type": "code",
   "execution_count": 49,
   "metadata": {
    "vscode": {
     "languageId": "polyglot-notebook"
    }
   },
   "outputs": [],
   "source": [
    "var jsontext =File.ReadAllText(jsonpath);\n",
    "var data = JsonSerializer.Deserialize<List<Drawing>>(jsontext);"
   ]
  },
  {
   "cell_type": "code",
   "execution_count": 50,
   "metadata": {
    "vscode": {
     "languageId": "polyglot-notebook"
    }
   },
   "outputs": [],
   "source": [
    "var injectNewData = new Drawing();\n",
    "injectNewData.ID = 12; // give me random unique id\n",
    "injectNewData.Name = \"Reflessia\";\n",
    "injectNewData.Description = \"Flower Big Time\";\n",
    "\n",
    "/// right click on Image And Click on Coply relative path then cahnge backward slash to forward slash\n",
    "injectNewData.ThumbNailUrl = path +\"Wallpapers/Abhijeet/reflessia.PNG\"; \n",
    "injectNewData.OriginalDrawingUrl = path +\"Wallpapers/Abhijeet/reflessia.PNG\";\n",
    "\n",
    "injectNewData.DrawingCreated = \"2024-03-30\";\n",
    "injectNewData.Categories = \"Flower\";\n",
    "injectNewData.Genre = \"Flora\";\n",
    "injectNewData.Amoled = false;"
   ]
  },
  {
   "cell_type": "code",
   "execution_count": 51,
   "metadata": {
    "vscode": {
     "languageId": "polyglot-notebook"
    }
   },
   "outputs": [],
   "source": [
    "if(data.All(x=>x.ID!=injectNewData.ID))\n",
    "{\n",
    "    data.Add(injectNewData);\n",
    "}"
   ]
  },
  {
   "cell_type": "code",
   "execution_count": 52,
   "metadata": {
    "vscode": {
     "languageId": "polyglot-notebook"
    }
   },
   "outputs": [],
   "source": [
    "var options = new JsonSerializerOptions { WriteIndented = true };\n",
    "string jsonContent = JsonSerializer.Serialize(data, options); "
   ]
  },
  {
   "cell_type": "code",
   "execution_count": 53,
   "metadata": {
    "vscode": {
     "languageId": "polyglot-notebook"
    }
   },
   "outputs": [],
   "source": [
    "File.WriteAllText(jsonpath,jsonString); "
   ]
  }
 ],
 "metadata": {
  "kernelspec": {
   "display_name": ".NET (C#)",
   "language": "C#",
   "name": ".net-csharp"
  },
  "language_info": {
   "name": "python"
  },
  "polyglot_notebook": {
   "kernelInfo": {
    "defaultKernelName": "csharp",
    "items": [
     {
      "aliases": [],
      "name": "csharp"
     }
    ]
   }
  }
 },
 "nbformat": 4,
 "nbformat_minor": 2
}
