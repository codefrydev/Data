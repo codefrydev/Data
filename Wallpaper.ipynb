{
 "cells": [
  {
   "cell_type": "code",
   "execution_count": 38,
   "metadata": {
    "dotnet_interactive": {
     "language": "csharp"
    },
    "polyglot_notebook": {
     "kernelName": "csharp"
    },
    "vscode": {
     "languageId": "polyglot-notebook"
    }
   },
   "outputs": [],
   "source": [
    "using System.Net.Http;\n",
    "using System.Text.Json;\n",
    "using System.IO;"
   ]
  },
  {
   "cell_type": "markdown",
   "metadata": {},
   "source": [
    "Below Each Morkdown File is Sample Do cange Any thing"
   ]
  },
  {
   "cell_type": "code",
   "execution_count": 39,
   "metadata": {
    "dotnet_interactive": {
     "language": "csharp"
    },
    "polyglot_notebook": {
     "kernelName": "csharp"
    },
    "vscode": {
     "languageId": "polyglot-notebook"
    }
   },
   "outputs": [],
   "source": [
    "public class Drawing\n",
    "{\n",
    "    public int ID { get; set; }\n",
    "    public string Name { get; set; } = string.Empty;\n",
    "    public string Description { get; set; } = string.Empty;\n",
    "    public string ThumbNailUrl { get; set; } = string.Empty;\n",
    "    public string OriginalDrawingUrl { get; set; } = string.Empty;\n",
    "    public string DrawingCreated { get; set; } = string.Empty;\n",
    "    public string Categories { get; set; } = string.Empty;\n",
    "    public string Genre { get; set; } = string.Empty;\n",
    "    public bool Amoled { get; set; }\n",
    "}"
   ]
  },
  {
   "cell_type": "code",
   "execution_count": 40,
   "metadata": {
    "dotnet_interactive": {
     "language": "csharp"
    },
    "polyglot_notebook": {
     "kernelName": "csharp"
    },
    "vscode": {
     "languageId": "polyglot-notebook"
    }
   },
   "outputs": [],
   "source": [
    "string path = \"https://raw.githubusercontent.com/codefrydev/Data/941c0c79a06d539f6115a680ad30efe25b8dedd3/\";\n",
    "string jsonpath =@\"Wallpapers\\wallpaper.json\";"
   ]
  },
  {
   "cell_type": "code",
   "execution_count": 41,
   "metadata": {
    "dotnet_interactive": {
     "language": "csharp"
    },
    "polyglot_notebook": {
     "kernelName": "csharp"
    },
    "vscode": {
     "languageId": "polyglot-notebook"
    }
   },
   "outputs": [],
   "source": [
    "var jsontext =File.ReadAllText(jsonpath);\n",
    "var data = JsonSerializer.Deserialize<List<Drawing>>(jsontext);"
   ]
  },
  {
   "cell_type": "markdown",
   "metadata": {},
   "source": [
    "//Modification start from here"
   ]
  },
  {
   "cell_type": "code",
   "execution_count": 42,
   "metadata": {
    "dotnet_interactive": {
     "language": "csharp"
    },
    "polyglot_notebook": {
     "kernelName": "csharp"
    },
    "vscode": {
     "languageId": "polyglot-notebook"
    }
   },
   "outputs": [],
   "source": [
    "var injectNewData = new Drawing();\n",
    "injectNewData.ID = 1; // give me random unique id\n",
    "injectNewData.Name = \"Green Stomintos\";\n",
    "injectNewData.Description = \"It grows on the dead\";\n",
    "\n",
    "/// right click on Image And Click on Coply relative path then cahnge backward slash to forward slash\n",
    "injectNewData.ThumbNailUrl = path +\"Wallpapers/Abhijeet/cactie.PNG\"; \n",
    "injectNewData.OriginalDrawingUrl = path +\"Wallpapers/Abhijeet/cactie.PNG\";\n",
    "\n",
    "injectNewData.DrawingCreated = \"2024-03-30\";\n",
    "injectNewData.Categories = \"Flower\";\n",
    "injectNewData.Genre = \"Flora\";\n",
    "injectNewData.Amoled = false;"
   ]
  },
  {
   "cell_type": "markdown",
   "metadata": {},
   "source": [
    "//Modification stop here"
   ]
  },
  {
   "cell_type": "code",
   "execution_count": 43,
   "metadata": {
    "dotnet_interactive": {
     "language": "csharp"
    },
    "polyglot_notebook": {
     "kernelName": "csharp"
    },
    "vscode": {
     "languageId": "polyglot-notebook"
    }
   },
   "outputs": [],
   "source": [
    "if(data.All(x=>x.ID!=injectNewData.ID))\n",
    "{\n",
    "    data.Add(injectNewData);\n",
    "}"
   ]
  },
  {
   "cell_type": "code",
   "execution_count": 44,
   "metadata": {
    "dotnet_interactive": {
     "language": "csharp"
    },
    "polyglot_notebook": {
     "kernelName": "csharp"
    },
    "vscode": {
     "languageId": "polyglot-notebook"
    }
   },
   "outputs": [],
   "source": [
    "var options = new JsonSerializerOptions { WriteIndented = true };\n",
    "string jsonContent = JsonSerializer.Serialize(data, options); "
   ]
  },
  {
   "cell_type": "code",
   "execution_count": 45,
   "metadata": {
    "vscode": {
     "languageId": "polyglot-notebook"
    }
   },
   "outputs": [
    {
     "data": {
      "text/plain": [
       "[\r\n",
       "  {\r\n",
       "    \"ID\": 123,\r\n",
       "    \"Name\": \"Hulk\",\r\n",
       "    \"Description\": \"Hulk \",\r\n",
       "    \"ThumbNailUrl\": \"https://raw.githubusercontent.com/codefrydev/Data/941c0c79a06d539f6115a680ad30efe25b8dedd3/Wallpapers/Abhijeet/hulk.JPG\",\r\n",
       "    \"OriginalDrawingUrl\": \"https://raw.githubusercontent.com/codefrydev/Data/941c0c79a06d539f6115a680ad30efe25b8dedd3/Wallpapers/Abhijeet/hulk.JPG\",\r\n",
       "    \"DrawingCreated\": \"2024-03-30\",\r\n",
       "    \"Categories\": \"Super hero\",\r\n",
       "    \"Genre\": \"Artistic\",\r\n",
       "    \"Amoled\": true\r\n",
       "  },\r\n",
       "  {\r\n",
       "    \"ID\": 12,\r\n",
       "    \"Name\": \"Reflessia\",\r\n",
       "    \"Description\": \"Flower Big Time\",\r\n",
       "    \"ThumbNailUrl\": \"https://raw.githubusercontent.com/codefrydev/Data/941c0c79a06d539f6115a680ad30efe25b8dedd3/Wallpapers/Abhijeet/reflessia.PNG\",\r\n",
       "    \"OriginalDrawingUrl\": \"https://raw.githubusercontent.com/codefrydev/Data/941c0c79a06d539f6115a680ad30efe25b8dedd3/Wallpapers/Abhijeet/reflessia.PNG\",\r\n",
       "    \"DrawingCreated\": \"2024-03-30\",\r\n",
       "    \"Categories\": \"Flower\",\r\n",
       "    \"Genre\": \"Flora\",\r\n",
       "    \"Amoled\": false\r\n",
       "  },\r\n",
       "  {\r\n",
       "    \"ID\": 1,\r\n",
       "    \"Name\": \"Green Stomintos\",\r\n",
       "    \"Description\": \"It grows on the dead\",\r\n",
       "    \"ThumbNailUrl\": \"https://raw.githubusercontent.com/codefrydev/Data/941c0c79a06d539f6115a680ad30efe25b8dedd3/Wallpapers/Abhijeet/cactie.PNG\",\r\n",
       "    \"OriginalDrawingUrl\": \"https://raw.githubusercontent.com/codefrydev/Data/941c0c79a06d539f6115a680ad30efe25b8dedd3/Wallpapers/Abhijeet/cactie.PNG\",\r\n",
       "    \"DrawingCreated\": \"2024-03-30\",\r\n",
       "    \"Categories\": \"Flower\",\r\n",
       "    \"Genre\": \"Flora\",\r\n",
       "    \"Amoled\": false\r\n",
       "  }\r\n",
       "]"
      ]
     },
     "metadata": {},
     "output_type": "display_data"
    }
   ],
   "source": [
    "jsonContent"
   ]
  },
  {
   "cell_type": "code",
   "execution_count": 46,
   "metadata": {
    "dotnet_interactive": {
     "language": "csharp"
    },
    "polyglot_notebook": {
     "kernelName": "csharp"
    },
    "vscode": {
     "languageId": "polyglot-notebook"
    }
   },
   "outputs": [],
   "source": [
    "File.WriteAllText(jsonpath,jsonContent); "
   ]
  }
 ],
 "metadata": {
  "kernelspec": {
   "display_name": ".NET (C#)",
   "language": "C#",
   "name": ".net-csharp"
  },
  "language_info": {
   "name": "python"
  },
  "polyglot_notebook": {
   "kernelInfo": {
    "defaultKernelName": "csharp",
    "items": [
     {
      "aliases": [],
      "name": "csharp"
     }
    ]
   }
  }
 },
 "nbformat": 4,
 "nbformat_minor": 2
}
