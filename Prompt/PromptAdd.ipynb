{
 "cells": [
  {
   "cell_type": "code",
   "execution_count": 36,
   "id": "795e3d7f",
   "metadata": {
    "language_info": {
     "name": "polyglot-notebook"
    },
    "polyglot_notebook": {
     "kernelName": "csharp"
    }
   },
   "outputs": [],
   "source": [
    "using System.Text.Json;\n",
    "using System.Linq;\n",
    "using System.Collections.Generic;\n",
    "using System.Text.Json.Serialization;\n",
    "using System.IO;"
   ]
  },
  {
   "cell_type": "code",
   "execution_count": 37,
   "id": "05c9d419",
   "metadata": {
    "language_info": {
     "name": "polyglot-notebook"
    },
    "polyglot_notebook": {
     "kernelName": "csharp"
    }
   },
   "outputs": [],
   "source": [
    "public class Category\n",
    "{\n",
    "    [JsonPropertyName(\"id\")]\n",
    "    public string Id { get; set; } = Guid.NewGuid().ToString();\n",
    "\n",
    "    [JsonPropertyName(\"name\")]\n",
    "    public string Name { get; set; }\n",
    "\n",
    "    [JsonPropertyName(\"description\")]\n",
    "    public string Description { get; set; }\n",
    "\n",
    "    [JsonPropertyName(\"icon\")]\n",
    "    public string Icon { get; set; }\n",
    "\n",
    "    [JsonPropertyName(\"color\")]\n",
    "    public string Color { get; set; }\n",
    "\n",
    "    [JsonPropertyName(\"promptCount\")]\n",
    "    public int PromptCount { get; set; }\n",
    "\n",
    "    [JsonPropertyName(\"sortOrder\")]\n",
    "    public int SortOrder { get; set; }\n",
    "\n",
    "    [JsonPropertyName(\"filePathName\")]\n",
    "    public string FilePathName { get; set; }\n",
    "}\n",
    "\n",
    "public class AllSource\n",
    "{\n",
    "    [JsonPropertyName(\"categories\")]\n",
    "    public List<Category> Categories { get; set; }\n",
    "}"
   ]
  },
  {
   "cell_type": "code",
   "execution_count": 38,
   "id": "81d9e10a",
   "metadata": {
    "language_info": {
     "name": "polyglot-notebook"
    },
    "polyglot_notebook": {
     "kernelName": "csharp"
    }
   },
   "outputs": [],
   "source": [
    "var allSourcePath =\"allsources.json\";"
   ]
  },
  {
   "cell_type": "code",
   "execution_count": 39,
   "id": "f72dcdfa",
   "metadata": {
    "language_info": {
     "name": "polyglot-notebook"
    },
    "polyglot_notebook": {
     "kernelName": "csharp"
    }
   },
   "outputs": [],
   "source": [
    "var newPromptCategoriesName =\"gitcommand.json\";"
   ]
  },
  {
   "cell_type": "code",
   "execution_count": 40,
   "id": "99b45345",
   "metadata": {
    "language_info": {
     "name": "polyglot-notebook"
    },
    "polyglot_notebook": {
     "kernelName": "csharp"
    }
   },
   "outputs": [],
   "source": [
    "var allSourceResponse = File.ReadAllText(allSourcePath);\n"
   ]
  },
  {
   "cell_type": "code",
   "execution_count": 41,
   "id": "60a7ef5d",
   "metadata": {
    "language_info": {
     "name": "polyglot-notebook"
    },
    "polyglot_notebook": {
     "kernelName": "csharp"
    }
   },
   "outputs": [
    {
     "data": {
      "text/html": [
       "<table><thead><tr><th><i>index</i></th><th>value</th></tr></thead><tbody><tr><td>0</td><td><details class=\"dni-treeview\"><summary><span class=\"dni-code-hint\"><code>Submission#37+Category</code></span></summary><div><table><thead><tr></tr></thead><tbody><tr><td>Id</td><td><div class=\"dni-plaintext\"><pre>9d6c4cbf-1b53-4277-9377-69dcb14e9ad8</pre></div></td></tr><tr><td>Name</td><td><div class=\"dni-plaintext\"><pre>Generate Image</pre></div></td></tr><tr><td>Description</td><td><div class=\"dni-plaintext\"><pre>Prompts Related to Image Generation</pre></div></td></tr><tr><td>Icon</td><td><div class=\"dni-plaintext\"><pre>fa-clock</pre></div></td></tr><tr><td>Color</td><td><div class=\"dni-plaintext\"><pre>#3a8da6ff</pre></div></td></tr><tr><td>PromptCount</td><td><div class=\"dni-plaintext\"><pre>25</pre></div></td></tr><tr><td>SortOrder</td><td><div class=\"dni-plaintext\"><pre>2</pre></div></td></tr><tr><td>FilePathName</td><td><div class=\"dni-plaintext\"><pre>image.json</pre></div></td></tr></tbody></table></div></details></td></tr><tr><td>1</td><td><details class=\"dni-treeview\"><summary><span class=\"dni-code-hint\"><code>Submission#37+Category</code></span></summary><div><table><thead><tr></tr></thead><tbody><tr><td>Id</td><td><div class=\"dni-plaintext\"><pre>cd34d71b-0af4-4c22-b520-59bd9f641bc6</pre></div></td></tr><tr><td>Name</td><td><div class=\"dni-plaintext\"><pre>Git Command</pre></div></td></tr><tr><td>Description</td><td><div class=\"dni-plaintext\"><pre>Prompts Related to Git Command</pre></div></td></tr><tr><td>Icon</td><td><div class=\"dni-plaintext\"><pre>fa-clock</pre></div></td></tr><tr><td>Color</td><td><div class=\"dni-plaintext\"><pre>#3a8da6ff</pre></div></td></tr><tr><td>PromptCount</td><td><div class=\"dni-plaintext\"><pre>25</pre></div></td></tr><tr><td>SortOrder</td><td><div class=\"dni-plaintext\"><pre>2</pre></div></td></tr><tr><td>FilePathName</td><td><div class=\"dni-plaintext\"><pre>gitcommand.json</pre></div></td></tr></tbody></table></div></details></td></tr></tbody></table><style>\r\n",
       ".dni-code-hint {\r\n",
       "    font-style: italic;\r\n",
       "    overflow: hidden;\r\n",
       "    white-space: nowrap;\r\n",
       "}\r\n",
       ".dni-treeview {\r\n",
       "    white-space: nowrap;\r\n",
       "}\r\n",
       ".dni-treeview td {\r\n",
       "    vertical-align: top;\r\n",
       "    text-align: start;\r\n",
       "}\r\n",
       "details.dni-treeview {\r\n",
       "    padding-left: 1em;\r\n",
       "}\r\n",
       "table td {\r\n",
       "    text-align: start;\r\n",
       "}\r\n",
       "table tr { \r\n",
       "    vertical-align: top; \r\n",
       "    margin: 0em 0px;\r\n",
       "}\r\n",
       "table tr td pre \r\n",
       "{ \r\n",
       "    vertical-align: top !important; \r\n",
       "    margin: 0em 0px !important;\r\n",
       "} \r\n",
       "table th {\r\n",
       "    text-align: start;\r\n",
       "}\r\n",
       "</style>"
      ]
     },
     "metadata": {},
     "output_type": "display_data"
    }
   ],
   "source": [
    "var  allSource = JsonSerializer.Deserialize<AllSource>(allSourceResponse);\n",
    "allSource?.Categories\n"
   ]
  },
  {
   "cell_type": "code",
   "execution_count": 42,
   "id": "0a89d9cf",
   "metadata": {
    "language_info": {
     "name": "polyglot-notebook"
    },
    "polyglot_notebook": {
     "kernelName": "csharp"
    }
   },
   "outputs": [],
   "source": [
    "var newCategories = new Category()\n",
    "{\n",
    "    Name = \"Git Command\",\n",
    "    Description =\"Prompts Related to Git Command\",\n",
    "    Icon =\"fa-clock\",\n",
    "    Color =\"#3a8da6ff\",\n",
    "    PromptCount =25,\n",
    "    SortOrder =2,\n",
    "    FilePathName = newPromptCategoriesName\n",
    "};"
   ]
  },
  {
   "cell_type": "code",
   "execution_count": 43,
   "id": "4ee8e277",
   "metadata": {
    "language_info": {
     "name": "polyglot-notebook"
    },
    "polyglot_notebook": {
     "kernelName": "csharp"
    }
   },
   "outputs": [],
   "source": [
    "if(allSource?.Categories is null)\n",
    "{\n",
    "    allSource.Categories = [];\n",
    "}"
   ]
  },
  {
   "cell_type": "code",
   "execution_count": 44,
   "id": "7e0ff512",
   "metadata": {
    "language_info": {
     "name": "polyglot-notebook"
    },
    "polyglot_notebook": {
     "kernelName": "csharp"
    }
   },
   "outputs": [
    {
     "data": {
      "text/html": [
       "<table><thead><tr><th><i>index</i></th><th>value</th></tr></thead><tbody><tr><td>0</td><td><details class=\"dni-treeview\"><summary><span class=\"dni-code-hint\"><code>Submission#37+Category</code></span></summary><div><table><thead><tr></tr></thead><tbody><tr><td>Id</td><td><div class=\"dni-plaintext\"><pre>9d6c4cbf-1b53-4277-9377-69dcb14e9ad8</pre></div></td></tr><tr><td>Name</td><td><div class=\"dni-plaintext\"><pre>Generate Image</pre></div></td></tr><tr><td>Description</td><td><div class=\"dni-plaintext\"><pre>Prompts Related to Image Generation</pre></div></td></tr><tr><td>Icon</td><td><div class=\"dni-plaintext\"><pre>fa-clock</pre></div></td></tr><tr><td>Color</td><td><div class=\"dni-plaintext\"><pre>#3a8da6ff</pre></div></td></tr><tr><td>PromptCount</td><td><div class=\"dni-plaintext\"><pre>25</pre></div></td></tr><tr><td>SortOrder</td><td><div class=\"dni-plaintext\"><pre>2</pre></div></td></tr><tr><td>FilePathName</td><td><div class=\"dni-plaintext\"><pre>image.json</pre></div></td></tr></tbody></table></div></details></td></tr><tr><td>1</td><td><details class=\"dni-treeview\"><summary><span class=\"dni-code-hint\"><code>Submission#37+Category</code></span></summary><div><table><thead><tr></tr></thead><tbody><tr><td>Id</td><td><div class=\"dni-plaintext\"><pre>cd34d71b-0af4-4c22-b520-59bd9f641bc6</pre></div></td></tr><tr><td>Name</td><td><div class=\"dni-plaintext\"><pre>Git Command</pre></div></td></tr><tr><td>Description</td><td><div class=\"dni-plaintext\"><pre>Prompts Related to Git Command</pre></div></td></tr><tr><td>Icon</td><td><div class=\"dni-plaintext\"><pre>fa-clock</pre></div></td></tr><tr><td>Color</td><td><div class=\"dni-plaintext\"><pre>#3a8da6ff</pre></div></td></tr><tr><td>PromptCount</td><td><div class=\"dni-plaintext\"><pre>25</pre></div></td></tr><tr><td>SortOrder</td><td><div class=\"dni-plaintext\"><pre>2</pre></div></td></tr><tr><td>FilePathName</td><td><div class=\"dni-plaintext\"><pre>gitcommand.json</pre></div></td></tr></tbody></table></div></details></td></tr></tbody></table><style>\r\n",
       ".dni-code-hint {\r\n",
       "    font-style: italic;\r\n",
       "    overflow: hidden;\r\n",
       "    white-space: nowrap;\r\n",
       "}\r\n",
       ".dni-treeview {\r\n",
       "    white-space: nowrap;\r\n",
       "}\r\n",
       ".dni-treeview td {\r\n",
       "    vertical-align: top;\r\n",
       "    text-align: start;\r\n",
       "}\r\n",
       "details.dni-treeview {\r\n",
       "    padding-left: 1em;\r\n",
       "}\r\n",
       "table td {\r\n",
       "    text-align: start;\r\n",
       "}\r\n",
       "table tr { \r\n",
       "    vertical-align: top; \r\n",
       "    margin: 0em 0px;\r\n",
       "}\r\n",
       "table tr td pre \r\n",
       "{ \r\n",
       "    vertical-align: top !important; \r\n",
       "    margin: 0em 0px !important;\r\n",
       "} \r\n",
       "table th {\r\n",
       "    text-align: start;\r\n",
       "}\r\n",
       "</style>"
      ]
     },
     "metadata": {},
     "output_type": "display_data"
    }
   ],
   "source": [
    "if(!allSource.Categories.Any(x=>x.Id == newCategories.Id || x.FilePathName==newCategories.FilePathName))\n",
    "{\n",
    "    allSource.Categories.Add(newCategories);\n",
    "}\n",
    "allSource.Categories"
   ]
  },
  {
   "cell_type": "code",
   "execution_count": 45,
   "id": "e80c18c0",
   "metadata": {
    "language_info": {
     "name": "polyglot-notebook"
    },
    "polyglot_notebook": {
     "kernelName": "csharp"
    }
   },
   "outputs": [],
   "source": [
    "var jsonOption = new JsonSerializerOptions()\n",
    "{\n",
    "    WriteIndented = true\n",
    "};"
   ]
  },
  {
   "cell_type": "code",
   "execution_count": 46,
   "id": "5587289c",
   "metadata": {
    "language_info": {
     "name": "polyglot-notebook"
    },
    "polyglot_notebook": {
     "kernelName": "csharp"
    }
   },
   "outputs": [
    {
     "data": {
      "text/plain": [
       "{\n",
       "  \"categories\": [\n",
       "    {\n",
       "      \"id\": \"9d6c4cbf-1b53-4277-9377-69dcb14e9ad8\",\n",
       "      \"name\": \"Generate Image\",\n",
       "      \"description\": \"Prompts Related to Image Generation\",\n",
       "      \"icon\": \"fa-clock\",\n",
       "      \"color\": \"#3a8da6ff\",\n",
       "      \"promptCount\": 25,\n",
       "      \"sortOrder\": 2,\n",
       "      \"filePathName\": \"image.json\"\n",
       "    },\n",
       "    {\n",
       "      \"id\": \"cd34d71b-0af4-4c22-b520-59bd9f641bc6\",\n",
       "      \"name\": \"Git Command\",\n",
       "      \"description\": \"Prompts Related to Git Command\",\n",
       "      \"icon\": \"fa-clock\",\n",
       "      \"color\": \"#3a8da6ff\",\n",
       "      \"promptCount\": 25,\n",
       "      \"sortOrder\": 2,\n",
       "      \"filePathName\": \"gitcommand.json\"\n",
       "    }\n",
       "  ]\n",
       "}"
      ]
     },
     "metadata": {},
     "output_type": "display_data"
    }
   ],
   "source": [
    "var allSourceStringContent = JsonSerializer.Serialize(allSource,jsonOption);\n",
    "allSourceStringContent"
   ]
  },
  {
   "cell_type": "code",
   "execution_count": 47,
   "id": "63b60ead",
   "metadata": {
    "language_info": {
     "name": "polyglot-notebook"
    },
    "polyglot_notebook": {
     "kernelName": "csharp"
    }
   },
   "outputs": [],
   "source": [
    "File.WriteAllText(allSourcePath,allSourceStringContent)"
   ]
  },
  {
   "cell_type": "code",
   "execution_count": 48,
   "id": "3a893bc7",
   "metadata": {
    "language_info": {
     "name": "polyglot-notebook"
    },
    "polyglot_notebook": {
     "kernelName": "csharp"
    }
   },
   "outputs": [],
   "source": [
    "var jsonContent = \"\"\"\n",
    "{\n",
    "  \"Id\": \"0fd33eb3-f386-446c-83c6-fe782193a073\",\n",
    "  \"Title\": \"Git Commit Stats by Author\",\n",
    "  \"Content\": \"$stats = @{}\\n\\ngit log --pretty=\\u0022Author:%an\\u0022 --numstat | ForEach-Object {\\n    if ($_ -match \\u0022^Author:(.\\u002B)$\\u0022) {\\n        $author = $matches[1].Trim()\\n        if (-not $stats.ContainsKey($author)) {\\n            $stats[$author] = [PSCustomObject]@{\\n                Author  = $author\\n                Commits = 0\\n                Added   = 0\\n                Removed = 0\\n            }\\n        }\\n        $stats[$author].Commits\\u002B\\u002B\\n    }\\n    elseif ($_ -match \\u0022^\\\\d\\u002B\\\\s\\u002B\\\\d\\u002B\\u0022) {\\n        $parts = $_ -split \\u0022\\\\s\\u002B\\u0022\\n        $stats[$author].Added   \\u002B= [int]$parts[0]\\n        $stats[$author].Removed \\u002B= [int]$parts[1]\\n    }\\n}\\n\\n$stats.Values |\\nSelect-Object Author, Commits, Added, Removed,\\n    @{Name=\\u0022Total\\u0022; Expression={ $.Added \\u002B $.Removed }} |\\nSort-Object Commits -Descending |\\nFormat-Table -AutoSize\",\n",
    "  \"Category\": \"generate-image\",\n",
    "  \"Description\": \"A PowerShell script that analyzes the current Git repository and generates a summary of commits, lines added, and lines removed, grouped by author.\",\n",
    "  \"Tags\": [\n",
    "    \"powershell\",\n",
    "    \"git\",\n",
    "    \"stats\",\n",
    "    \"developer\",\n",
    "    \"reporting\"\n",
    "  ],\n",
    "  \"UsageCount\": 0,\n",
    "  \"AverageRating\": 0,\n",
    "  \"RatingCount\": 0,\n",
    "  \"CreatedAt\": \"2025-10-19T16:46:57.439Z\",\n",
    "  \"UpdatedAt\": \"2025-10-19T16:46:57.439Z\",\n",
    "  \"IsPublic\": true,\n",
    "  \"Author\": \"PrashantUnity\",\n",
    "  \"Difficulty\": \"intermediate\",\n",
    "  \"Placeholders\": [\n",
    "    \"1\",\n",
    "    \"$author\",\n",
    "    \"PSCustomObject\",\n",
    "    \"int\",\n",
    "    \"0\"\n",
    "  ],\n",
    "  \"UsageNotes\": \"Run this script in a PowerShell terminal from within a Git repository\\u0027s directory. It requires \\u0027git\\u0027 to be installed and accessible in your system\\u0027s PATH.\",\n",
    "  \"EstimatedTime\": \"5-10 minutes\"\n",
    "}\n",
    "\"\"\";"
   ]
  },
  {
   "cell_type": "code",
   "execution_count": 49,
   "id": "be3b1ff4",
   "metadata": {
    "language_info": {
     "name": "polyglot-notebook"
    },
    "polyglot_notebook": {
     "kernelName": "csharp"
    }
   },
   "outputs": [],
   "source": [
    "public class Prompt\n",
    "{\n",
    "    [JsonPropertyName(\"Id\")]\n",
    "    public string Id { get; set; }\n",
    "\n",
    "    [JsonPropertyName(\"Title\")]\n",
    "    public string Title { get; set; }\n",
    "\n",
    "    [JsonPropertyName(\"Content\")]\n",
    "    public string Content { get; set; }\n",
    "\n",
    "    [JsonPropertyName(\"Category\")]\n",
    "    public string Category { get; set; }\n",
    "\n",
    "    [JsonPropertyName(\"Description\")]\n",
    "    public string Description { get; set; }\n",
    "\n",
    "    [JsonPropertyName(\"Tags\")]\n",
    "    public List<object> Tags { get; set; }\n",
    "\n",
    "    [JsonPropertyName(\"UsageCount\")]\n",
    "    public int UsageCount { get; set; }\n",
    "\n",
    "    [JsonPropertyName(\"AverageRating\")]\n",
    "    public int AverageRating { get; set; }\n",
    "\n",
    "    [JsonPropertyName(\"RatingCount\")]\n",
    "    public int RatingCount { get; set; }\n",
    "\n",
    "    [JsonPropertyName(\"CreatedAt\")]\n",
    "    public DateTime CreatedAt { get; set; }\n",
    "\n",
    "    [JsonPropertyName(\"UpdatedAt\")]\n",
    "    public DateTime UpdatedAt { get; set; }\n",
    "\n",
    "    [JsonPropertyName(\"IsPublic\")]\n",
    "    public bool IsPublic { get; set; }\n",
    "\n",
    "    [JsonPropertyName(\"Author\")]\n",
    "    public string Author { get; set; }\n",
    "\n",
    "    [JsonPropertyName(\"Difficulty\")]\n",
    "    public string Difficulty { get; set; }\n",
    "\n",
    "    [JsonPropertyName(\"Placeholders\")]\n",
    "    public List<string> Placeholders { get; set; }\n",
    "\n",
    "    [JsonPropertyName(\"UsageNotes\")]\n",
    "    public string UsageNotes { get; set; }\n",
    "\n",
    "    [JsonPropertyName(\"EstimatedTime\")]\n",
    "    public string EstimatedTime { get; set; }\n",
    "}\n",
    "\n"
   ]
  },
  {
   "cell_type": "code",
   "execution_count": 50,
   "id": "929ab9ea",
   "metadata": {
    "language_info": {
     "name": "polyglot-notebook"
    },
    "polyglot_notebook": {
     "kernelName": "csharp"
    }
   },
   "outputs": [
    {
     "data": {
      "text/html": [
       "<details open=\"open\" class=\"dni-treeview\"><summary><span class=\"dni-code-hint\"><code>Submission#49+Prompt</code></span></summary><div><table><thead><tr></tr></thead><tbody><tr><td>Id</td><td><div class=\"dni-plaintext\"><pre>0fd33eb3-f386-446c-83c6-fe782193a073</pre></div></td></tr><tr><td>Title</td><td><div class=\"dni-plaintext\"><pre>Git Commit Stats by Author</pre></div></td></tr><tr><td>Content</td><td><div class=\"dni-plaintext\"><pre>$stats = @{}\n",
       "\n",
       "git log --pretty=&quot;Author:%an&quot; --numstat | ForEach-Object {\n",
       "    if ($_ -match &quot;^Author:(.+)$&quot;) {\n",
       "        $author = $matches[1].Trim()\n",
       "        if (-not $stats.ContainsKey($author)) {\n",
       "            $stats[$author] = [PSCustomObject]@{\n",
       "                Author  = $author\n",
       "                Commits = 0\n",
       "                Added   = 0\n",
       "                Removed = 0\n",
       "            }\n",
       "        }\n",
       "        $stats[$author].Commits++\n",
       "    }\n",
       "    elseif ($_ -match &quot;^\\d+\\s+\\d+&quot;) {\n",
       "        $parts = $_ -split &quot;\\s+&quot;\n",
       "        $stats[$author].Added   += [int]$parts[0]\n",
       "        $stats[$author].Removed += [int]$parts[1]\n",
       "    }\n",
       "}\n",
       "\n",
       "$stats.Values |\n",
       "Select-Object Author, Commits, Added, Removed,\n",
       "    @{Name=&quot;Total&quot;; Expression={ $.Added + $.Removed }} |\n",
       "Sort-Object Commits -Descending |\n",
       "Format-Table -AutoSize</pre></div></td></tr><tr><td>Category</td><td><div class=\"dni-plaintext\"><pre>generate-image</pre></div></td></tr><tr><td>Description</td><td><div class=\"dni-plaintext\"><pre>A PowerShell script that analyzes the current Git repository and generates a summary of commits, lines added, and lines removed, grouped by author.</pre></div></td></tr><tr><td>Tags</td><td><table><thead><tr><th><i>index</i></th><th>value</th></tr></thead><tbody><tr><td>0</td><td><span>&quot;powershell&quot;</span></td></tr><tr><td>1</td><td><span>&quot;git&quot;</span></td></tr><tr><td>2</td><td><span>&quot;stats&quot;</span></td></tr><tr><td>3</td><td><span>&quot;developer&quot;</span></td></tr><tr><td>4</td><td><span>&quot;reporting&quot;</span></td></tr></tbody></table></td></tr><tr><td>UsageCount</td><td><div class=\"dni-plaintext\"><pre>0</pre></div></td></tr><tr><td>AverageRating</td><td><div class=\"dni-plaintext\"><pre>0</pre></div></td></tr><tr><td>RatingCount</td><td><div class=\"dni-plaintext\"><pre>0</pre></div></td></tr><tr><td>CreatedAt</td><td><span>2025-10-19 16:46:57Z</span></td></tr><tr><td>UpdatedAt</td><td><span>2025-10-19 16:46:57Z</span></td></tr><tr><td>IsPublic</td><td><div class=\"dni-plaintext\"><pre>True</pre></div></td></tr><tr><td>Author</td><td><div class=\"dni-plaintext\"><pre>PrashantUnity</pre></div></td></tr><tr><td>Difficulty</td><td><div class=\"dni-plaintext\"><pre>intermediate</pre></div></td></tr><tr><td>Placeholders</td><td><div class=\"dni-plaintext\"><pre>[ 1, $author, PSCustomObject, int, 0 ]</pre></div></td></tr><tr><td>UsageNotes</td><td><div class=\"dni-plaintext\"><pre>Run this script in a PowerShell terminal from within a Git repository&#39;s directory. It requires &#39;git&#39; to be installed and accessible in your system&#39;s PATH.</pre></div></td></tr><tr><td>EstimatedTime</td><td><div class=\"dni-plaintext\"><pre>5-10 minutes</pre></div></td></tr></tbody></table></div></details><style>\r\n",
       ".dni-code-hint {\r\n",
       "    font-style: italic;\r\n",
       "    overflow: hidden;\r\n",
       "    white-space: nowrap;\r\n",
       "}\r\n",
       ".dni-treeview {\r\n",
       "    white-space: nowrap;\r\n",
       "}\r\n",
       ".dni-treeview td {\r\n",
       "    vertical-align: top;\r\n",
       "    text-align: start;\r\n",
       "}\r\n",
       "details.dni-treeview {\r\n",
       "    padding-left: 1em;\r\n",
       "}\r\n",
       "table td {\r\n",
       "    text-align: start;\r\n",
       "}\r\n",
       "table tr { \r\n",
       "    vertical-align: top; \r\n",
       "    margin: 0em 0px;\r\n",
       "}\r\n",
       "table tr td pre \r\n",
       "{ \r\n",
       "    vertical-align: top !important; \r\n",
       "    margin: 0em 0px !important;\r\n",
       "} \r\n",
       "table th {\r\n",
       "    text-align: start;\r\n",
       "}\r\n",
       "</style>"
      ]
     },
     "metadata": {},
     "output_type": "display_data"
    }
   ],
   "source": [
    "var data = JsonSerializer.Deserialize<Prompt>(jsonContent);\n",
    "data"
   ]
  },
  {
   "cell_type": "code",
   "execution_count": 51,
   "metadata": {
    "language_info": {
     "name": "polyglot-notebook"
    },
    "polyglot_notebook": {
     "kernelName": "csharp"
    }
   },
   "outputs": [],
   "source": []
  },
  {
   "cell_type": "code",
   "execution_count": 52,
   "id": "fdae0e56",
   "metadata": {
    "language_info": {
     "name": "polyglot-notebook"
    },
    "polyglot_notebook": {
     "kernelName": "csharp"
    }
   },
   "outputs": [
    {
     "data": {
      "text/plain": [
       "/Volumes/External/SourceCode/Data/Prompt/gitcommand.json"
      ]
     },
     "metadata": {},
     "output_type": "display_data"
    }
   ],
   "source": [
    "var path = Path.Combine(Directory.GetCurrentDirectory(),newPromptCategoriesName);\n",
    "path"
   ]
  },
  {
   "cell_type": "code",
   "execution_count": 53,
   "id": "6a46092f",
   "metadata": {
    "language_info": {
     "name": "polyglot-notebook"
    },
    "polyglot_notebook": {
     "kernelName": "csharp"
    }
   },
   "outputs": [
    {
     "name": "stdout",
     "output_type": "stream",
     "text": [
      "Read All Contnent\n"
     ]
    },
    {
     "data": {
      "text/html": [
       "<i>(empty)</i><style>\r\n",
       ".dni-code-hint {\r\n",
       "    font-style: italic;\r\n",
       "    overflow: hidden;\r\n",
       "    white-space: nowrap;\r\n",
       "}\r\n",
       ".dni-treeview {\r\n",
       "    white-space: nowrap;\r\n",
       "}\r\n",
       ".dni-treeview td {\r\n",
       "    vertical-align: top;\r\n",
       "    text-align: start;\r\n",
       "}\r\n",
       "details.dni-treeview {\r\n",
       "    padding-left: 1em;\r\n",
       "}\r\n",
       "table td {\r\n",
       "    text-align: start;\r\n",
       "}\r\n",
       "table tr { \r\n",
       "    vertical-align: top; \r\n",
       "    margin: 0em 0px;\r\n",
       "}\r\n",
       "table tr td pre \r\n",
       "{ \r\n",
       "    vertical-align: top !important; \r\n",
       "    margin: 0em 0px !important;\r\n",
       "} \r\n",
       "table th {\r\n",
       "    text-align: start;\r\n",
       "}\r\n",
       "</style>"
      ]
     },
     "metadata": {},
     "output_type": "display_data"
    }
   ],
   "source": [
    "var allPrompts =new List<Prompt>();\n",
    "if(!Path.Exists(path))\n",
    "{\n",
    "    Console.WriteLine(\"Boom lost Me\");\n",
    "    File.WriteAllText(newPromptCategoriesName,JsonSerializer.Serialize(allPrompts));\n",
    "}\n",
    "else\n",
    "{\n",
    "    Console.WriteLine(\"Read All Contnent\");\n",
    "    var allPromptsData = File.ReadAllText(newPromptCategoriesName);\n",
    "    if(allPromptsData.Trim().Length==0)\n",
    "    {\n",
    "        allPromptsData =\"[]\";\n",
    "    }\n",
    "    allPrompts = JsonSerializer.Deserialize<List<Prompt>>(allPromptsData);\n",
    "}\n",
    "allPrompts"
   ]
  },
  {
   "cell_type": "code",
   "execution_count": 54,
   "metadata": {
    "language_info": {
     "name": "polyglot-notebook"
    },
    "polyglot_notebook": {
     "kernelName": "csharp"
    }
   },
   "outputs": [
    {
     "data": {
      "text/plain": [
       "gitcommand.json"
      ]
     },
     "metadata": {},
     "output_type": "display_data"
    }
   ],
   "source": [
    "newPromptCategoriesName"
   ]
  },
  {
   "cell_type": "code",
   "execution_count": 55,
   "id": "bd81bb0d",
   "metadata": {
    "language_info": {
     "name": "polyglot-notebook"
    },
    "polyglot_notebook": {
     "kernelName": "csharp"
    }
   },
   "outputs": [
    {
     "data": {
      "text/html": [
       "<table><thead><tr><th><i>index</i></th><th>value</th></tr></thead><tbody><tr><td>0</td><td><details class=\"dni-treeview\"><summary><span class=\"dni-code-hint\"><code>Submission#49+Prompt</code></span></summary><div><table><thead><tr></tr></thead><tbody><tr><td>Id</td><td><div class=\"dni-plaintext\"><pre>0fd33eb3-f386-446c-83c6-fe782193a073</pre></div></td></tr><tr><td>Title</td><td><div class=\"dni-plaintext\"><pre>Git Commit Stats by Author</pre></div></td></tr><tr><td>Content</td><td><div class=\"dni-plaintext\"><pre>$stats = @{}\n",
       "\n",
       "git log --pretty=&quot;Author:%an&quot; --numstat | ForEach-Object {\n",
       "    if ($_ -match &quot;^Author:(.+)$&quot;) {\n",
       "        $author = $matches[1].Trim()\n",
       "        if (-not $stats.ContainsKey($author)) {\n",
       "            $stats[$author] = [PSCustomObject]@{\n",
       "                Author  = $author\n",
       "                Commits = 0\n",
       "                Added   = 0\n",
       "                Removed = 0\n",
       "            }\n",
       "        }\n",
       "        $stats[$author].Commits++\n",
       "    }\n",
       "    elseif ($_ -match &quot;^\\d+\\s+\\d+&quot;) {\n",
       "        $parts = $_ -split &quot;\\s+&quot;\n",
       "        $stats[$author].Added   += [int]$parts[0]\n",
       "        $stats[$author].Removed += [int]$parts[1]\n",
       "    }\n",
       "}\n",
       "\n",
       "$stats.Values |\n",
       "Select-Object Author, Commits, Added, Removed,\n",
       "    @{Name=&quot;Total&quot;; Expression={ $.Added + $.Removed }} |\n",
       "Sort-Object Commits -Descending |\n",
       "Format-Table -AutoSize</pre></div></td></tr><tr><td>Category</td><td><div class=\"dni-plaintext\"><pre>gitcommand</pre></div></td></tr><tr><td>Description</td><td><div class=\"dni-plaintext\"><pre>A PowerShell script that analyzes the current Git repository and generates a summary of commits, lines added, and lines removed, grouped by author.</pre></div></td></tr><tr><td>Tags</td><td><table><thead><tr><th><i>index</i></th><th>value</th></tr></thead><tbody><tr><td>0</td><td><span>&quot;powershell&quot;</span></td></tr><tr><td>1</td><td><span>&quot;git&quot;</span></td></tr><tr><td>2</td><td><span>&quot;stats&quot;</span></td></tr><tr><td>3</td><td><span>&quot;developer&quot;</span></td></tr><tr><td>4</td><td><span>&quot;reporting&quot;</span></td></tr></tbody></table></td></tr><tr><td>UsageCount</td><td><div class=\"dni-plaintext\"><pre>0</pre></div></td></tr><tr><td>AverageRating</td><td><div class=\"dni-plaintext\"><pre>0</pre></div></td></tr><tr><td>RatingCount</td><td><div class=\"dni-plaintext\"><pre>0</pre></div></td></tr><tr><td>CreatedAt</td><td><span>2025-10-19 16:46:57Z</span></td></tr><tr><td>UpdatedAt</td><td><span>2025-10-19 16:46:57Z</span></td></tr><tr><td>IsPublic</td><td><div class=\"dni-plaintext\"><pre>True</pre></div></td></tr><tr><td>Author</td><td><div class=\"dni-plaintext\"><pre>PrashantUnity</pre></div></td></tr><tr><td>Difficulty</td><td><div class=\"dni-plaintext\"><pre>intermediate</pre></div></td></tr><tr><td>Placeholders</td><td><div class=\"dni-plaintext\"><pre>[ 1, $author, PSCustomObject, int, 0 ]</pre></div></td></tr><tr><td>UsageNotes</td><td><div class=\"dni-plaintext\"><pre>Run this script in a PowerShell terminal from within a Git repository&#39;s directory. It requires &#39;git&#39; to be installed and accessible in your system&#39;s PATH.</pre></div></td></tr><tr><td>EstimatedTime</td><td><div class=\"dni-plaintext\"><pre>5-10 minutes</pre></div></td></tr></tbody></table></div></details></td></tr></tbody></table><style>\r\n",
       ".dni-code-hint {\r\n",
       "    font-style: italic;\r\n",
       "    overflow: hidden;\r\n",
       "    white-space: nowrap;\r\n",
       "}\r\n",
       ".dni-treeview {\r\n",
       "    white-space: nowrap;\r\n",
       "}\r\n",
       ".dni-treeview td {\r\n",
       "    vertical-align: top;\r\n",
       "    text-align: start;\r\n",
       "}\r\n",
       "details.dni-treeview {\r\n",
       "    padding-left: 1em;\r\n",
       "}\r\n",
       "table td {\r\n",
       "    text-align: start;\r\n",
       "}\r\n",
       "table tr { \r\n",
       "    vertical-align: top; \r\n",
       "    margin: 0em 0px;\r\n",
       "}\r\n",
       "table tr td pre \r\n",
       "{ \r\n",
       "    vertical-align: top !important; \r\n",
       "    margin: 0em 0px !important;\r\n",
       "} \r\n",
       "table th {\r\n",
       "    text-align: start;\r\n",
       "}\r\n",
       "</style>"
      ]
     },
     "metadata": {},
     "output_type": "display_data"
    }
   ],
   "source": [
    "if(!allPrompts.Any(x=>x.Content == data.Content))\n",
    "{\n",
    "    data.Category = newPromptCategoriesName.Split(\".\")[0];\n",
    "    allPrompts.Add(data);\n",
    "}\n",
    "allPrompts"
   ]
  },
  {
   "cell_type": "code",
   "execution_count": 56,
   "id": "1bcaaf16",
   "metadata": {
    "language_info": {
     "name": "polyglot-notebook"
    },
    "polyglot_notebook": {
     "kernelName": "csharp"
    }
   },
   "outputs": [],
   "source": [
    "File.WriteAllText(newPromptCategoriesName,JsonSerializer.Serialize(allPrompts,jsonOption))"
   ]
  }
 ],
 "metadata": {
  "kernelspec": {
   "display_name": ".NET (C#)",
   "language": "C#",
   "name": ".net-csharp"
  },
  "language_info": {
   "name": "polyglot-notebook"
  },
  "polyglot_notebook": {
   "kernelInfo": {
    "defaultKernelName": "csharp",
    "items": [
     {
      "aliases": [],
      "name": "csharp"
     }
    ]
   }
  }
 },
 "nbformat": 4,
 "nbformat_minor": 5
}
