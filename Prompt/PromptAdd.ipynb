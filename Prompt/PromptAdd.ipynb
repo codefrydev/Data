{
 "cells": [
  {
   "cell_type": "code",
   "execution_count": 77,
   "id": "795e3d7f",
   "metadata": {
    "language_info": {
     "name": "polyglot-notebook"
    },
    "polyglot_notebook": {
     "kernelName": "csharp"
    }
   },
   "outputs": [],
   "source": [
    "using System.Text.Json;\n",
    "using System.Linq;\n",
    "using System.Collections.Generic;\n",
    "using System.Text.Json.Serialization;\n",
    "using System.IO;"
   ]
  },
  {
   "cell_type": "code",
   "execution_count": 78,
   "id": "05c9d419",
   "metadata": {
    "language_info": {
     "name": "polyglot-notebook"
    },
    "polyglot_notebook": {
     "kernelName": "csharp"
    }
   },
   "outputs": [],
   "source": [
    "public class Category\n",
    "{\n",
    "    [JsonPropertyName(\"id\")]\n",
    "    public string Id { get; set; } = Guid.NewGuid().ToString();\n",
    "\n",
    "    [JsonPropertyName(\"name\")]\n",
    "    public string Name { get; set; }\n",
    "\n",
    "    [JsonPropertyName(\"description\")]\n",
    "    public string Description { get; set; }\n",
    "\n",
    "    [JsonPropertyName(\"icon\")]\n",
    "    public string Icon { get; set; }\n",
    "\n",
    "    [JsonPropertyName(\"color\")]\n",
    "    public string Color { get; set; }\n",
    "\n",
    "    [JsonPropertyName(\"promptCount\")]\n",
    "    public int PromptCount { get; set; }\n",
    "\n",
    "    [JsonPropertyName(\"sortOrder\")]\n",
    "    public int SortOrder { get; set; }\n",
    "\n",
    "    [JsonPropertyName(\"filePathName\")]\n",
    "    public string FilePathName { get; set; }\n",
    "}\n",
    "\n",
    "public class AllSource\n",
    "{\n",
    "    [JsonPropertyName(\"categories\")]\n",
    "    public List<Category> Categories { get; set; }\n",
    "}"
   ]
  },
  {
   "cell_type": "code",
   "execution_count": 79,
   "metadata": {
    "language_info": {
     "name": "polyglot-notebook"
    },
    "polyglot_notebook": {
     "kernelName": "csharp"
    }
   },
   "outputs": [],
   "source": [
    "var allSourcePath =\"allsources.json\";"
   ]
  },
  {
   "cell_type": "code",
   "execution_count": 80,
   "metadata": {
    "language_info": {
     "name": "polyglot-notebook"
    },
    "polyglot_notebook": {
     "kernelName": "csharp"
    }
   },
   "outputs": [],
   "source": [
    "var newPromptCategoriesName =\"image.json\";"
   ]
  },
  {
   "cell_type": "code",
   "execution_count": 81,
   "metadata": {
    "language_info": {
     "name": "polyglot-notebook"
    },
    "polyglot_notebook": {
     "kernelName": "csharp"
    }
   },
   "outputs": [],
   "source": [
    "var allSourceResponse = File.ReadAllText(allSourcePath);\n"
   ]
  },
  {
   "cell_type": "code",
   "execution_count": 82,
   "id": "60a7ef5d",
   "metadata": {
    "language_info": {
     "name": "polyglot-notebook"
    },
    "polyglot_notebook": {
     "kernelName": "csharp"
    }
   },
   "outputs": [
    {
     "data": {
      "text/html": [
       "<table><thead><tr><th><i>index</i></th><th>value</th></tr></thead><tbody><tr><td>0</td><td><details class=\"dni-treeview\"><summary><span class=\"dni-code-hint\"><code>Submission#78+Category</code></span></summary><div><table><thead><tr></tr></thead><tbody><tr><td>Id</td><td><div class=\"dni-plaintext\"><pre>9d6c4cbf-1b53-4277-9377-69dcb14e9ad8</pre></div></td></tr><tr><td>Name</td><td><div class=\"dni-plaintext\"><pre>Generate Image</pre></div></td></tr><tr><td>Description</td><td><div class=\"dni-plaintext\"><pre>Prompts Related to Image Generation</pre></div></td></tr><tr><td>Icon</td><td><div class=\"dni-plaintext\"><pre>fa-clock</pre></div></td></tr><tr><td>Color</td><td><div class=\"dni-plaintext\"><pre>#3a8da6ff</pre></div></td></tr><tr><td>PromptCount</td><td><div class=\"dni-plaintext\"><pre>25</pre></div></td></tr><tr><td>SortOrder</td><td><div class=\"dni-plaintext\"><pre>2</pre></div></td></tr><tr><td>FilePathName</td><td><div class=\"dni-plaintext\"><pre>image.json</pre></div></td></tr></tbody></table></div></details></td></tr></tbody></table><style>\r\n",
       ".dni-code-hint {\r\n",
       "    font-style: italic;\r\n",
       "    overflow: hidden;\r\n",
       "    white-space: nowrap;\r\n",
       "}\r\n",
       ".dni-treeview {\r\n",
       "    white-space: nowrap;\r\n",
       "}\r\n",
       ".dni-treeview td {\r\n",
       "    vertical-align: top;\r\n",
       "    text-align: start;\r\n",
       "}\r\n",
       "details.dni-treeview {\r\n",
       "    padding-left: 1em;\r\n",
       "}\r\n",
       "table td {\r\n",
       "    text-align: start;\r\n",
       "}\r\n",
       "table tr { \r\n",
       "    vertical-align: top; \r\n",
       "    margin: 0em 0px;\r\n",
       "}\r\n",
       "table tr td pre \r\n",
       "{ \r\n",
       "    vertical-align: top !important; \r\n",
       "    margin: 0em 0px !important;\r\n",
       "} \r\n",
       "table th {\r\n",
       "    text-align: start;\r\n",
       "}\r\n",
       "</style>"
      ]
     },
     "metadata": {},
     "output_type": "display_data"
    }
   ],
   "source": [
    "var  allSource = JsonSerializer.Deserialize<AllSource>(allSourceResponse);\n",
    "allSource?.Categories\n"
   ]
  },
  {
   "cell_type": "code",
   "execution_count": 83,
   "metadata": {
    "language_info": {
     "name": "polyglot-notebook"
    },
    "polyglot_notebook": {
     "kernelName": "csharp"
    }
   },
   "outputs": [],
   "source": [
    "var newCategories = new Category()\n",
    "{\n",
    "    Name = \"Generate Image\",\n",
    "    Description =\"Prompts Related to Image Generation\",\n",
    "    Icon =\"fa-clock\",\n",
    "    Color =\"#3a8da6ff\",\n",
    "    PromptCount =25,\n",
    "    SortOrder =2,\n",
    "    FilePathName = newPromptCategoriesName\n",
    "};"
   ]
  },
  {
   "cell_type": "code",
   "execution_count": 84,
   "metadata": {
    "language_info": {
     "name": "polyglot-notebook"
    },
    "polyglot_notebook": {
     "kernelName": "csharp"
    }
   },
   "outputs": [],
   "source": [
    "if(allSource?.Categories is null)\n",
    "{\n",
    "    allSource.Categories = [];\n",
    "}"
   ]
  },
  {
   "cell_type": "code",
   "execution_count": 85,
   "metadata": {
    "language_info": {
     "name": "polyglot-notebook"
    },
    "polyglot_notebook": {
     "kernelName": "csharp"
    }
   },
   "outputs": [
    {
     "data": {
      "text/html": [
       "<table><thead><tr><th><i>index</i></th><th>value</th></tr></thead><tbody><tr><td>0</td><td><details class=\"dni-treeview\"><summary><span class=\"dni-code-hint\"><code>Submission#78+Category</code></span></summary><div><table><thead><tr></tr></thead><tbody><tr><td>Id</td><td><div class=\"dni-plaintext\"><pre>9d6c4cbf-1b53-4277-9377-69dcb14e9ad8</pre></div></td></tr><tr><td>Name</td><td><div class=\"dni-plaintext\"><pre>Generate Image</pre></div></td></tr><tr><td>Description</td><td><div class=\"dni-plaintext\"><pre>Prompts Related to Image Generation</pre></div></td></tr><tr><td>Icon</td><td><div class=\"dni-plaintext\"><pre>fa-clock</pre></div></td></tr><tr><td>Color</td><td><div class=\"dni-plaintext\"><pre>#3a8da6ff</pre></div></td></tr><tr><td>PromptCount</td><td><div class=\"dni-plaintext\"><pre>25</pre></div></td></tr><tr><td>SortOrder</td><td><div class=\"dni-plaintext\"><pre>2</pre></div></td></tr><tr><td>FilePathName</td><td><div class=\"dni-plaintext\"><pre>image.json</pre></div></td></tr></tbody></table></div></details></td></tr></tbody></table><style>\r\n",
       ".dni-code-hint {\r\n",
       "    font-style: italic;\r\n",
       "    overflow: hidden;\r\n",
       "    white-space: nowrap;\r\n",
       "}\r\n",
       ".dni-treeview {\r\n",
       "    white-space: nowrap;\r\n",
       "}\r\n",
       ".dni-treeview td {\r\n",
       "    vertical-align: top;\r\n",
       "    text-align: start;\r\n",
       "}\r\n",
       "details.dni-treeview {\r\n",
       "    padding-left: 1em;\r\n",
       "}\r\n",
       "table td {\r\n",
       "    text-align: start;\r\n",
       "}\r\n",
       "table tr { \r\n",
       "    vertical-align: top; \r\n",
       "    margin: 0em 0px;\r\n",
       "}\r\n",
       "table tr td pre \r\n",
       "{ \r\n",
       "    vertical-align: top !important; \r\n",
       "    margin: 0em 0px !important;\r\n",
       "} \r\n",
       "table th {\r\n",
       "    text-align: start;\r\n",
       "}\r\n",
       "</style>"
      ]
     },
     "metadata": {},
     "output_type": "display_data"
    }
   ],
   "source": [
    "if(!allSource.Categories.Any(x=>x.Id == newCategories.Id || x.FilePathName==newCategories.FilePathName))\n",
    "{\n",
    "    allSource.Categories.Add(newCategories);\n",
    "}\n",
    "allSource.Categories"
   ]
  },
  {
   "cell_type": "code",
   "execution_count": 86,
   "metadata": {
    "language_info": {
     "name": "polyglot-notebook"
    },
    "polyglot_notebook": {
     "kernelName": "csharp"
    }
   },
   "outputs": [],
   "source": [
    "var jsonOption = new JsonSerializerOptions()\n",
    "{\n",
    "    WriteIndented = true\n",
    "};"
   ]
  },
  {
   "cell_type": "code",
   "execution_count": 87,
   "metadata": {
    "language_info": {
     "name": "polyglot-notebook"
    },
    "polyglot_notebook": {
     "kernelName": "csharp"
    }
   },
   "outputs": [
    {
     "data": {
      "text/plain": [
       "{\n",
       "  \"categories\": [\n",
       "    {\n",
       "      \"id\": \"9d6c4cbf-1b53-4277-9377-69dcb14e9ad8\",\n",
       "      \"name\": \"Generate Image\",\n",
       "      \"description\": \"Prompts Related to Image Generation\",\n",
       "      \"icon\": \"fa-clock\",\n",
       "      \"color\": \"#3a8da6ff\",\n",
       "      \"promptCount\": 25,\n",
       "      \"sortOrder\": 2,\n",
       "      \"filePathName\": \"image.json\"\n",
       "    }\n",
       "  ]\n",
       "}"
      ]
     },
     "metadata": {},
     "output_type": "display_data"
    }
   ],
   "source": [
    "var allSourceStringContent = JsonSerializer.Serialize(allSource,jsonOption);\n",
    "allSourceStringContent"
   ]
  },
  {
   "cell_type": "code",
   "execution_count": 88,
   "metadata": {
    "language_info": {
     "name": "polyglot-notebook"
    },
    "polyglot_notebook": {
     "kernelName": "csharp"
    }
   },
   "outputs": [],
   "source": [
    "File.WriteAllText(allSourcePath,allSourceStringContent)"
   ]
  },
  {
   "cell_type": "code",
   "execution_count": 89,
   "metadata": {
    "language_info": {
     "name": "polyglot-notebook"
    },
    "polyglot_notebook": {
     "kernelName": "csharp"
    }
   },
   "outputs": [],
   "source": [
    "var jsonContent = \"\"\"\n",
    "{\n",
    "  \"Id\": \"01eb51ca-3b6f-4d59-b15c-f4788bf069eb\",\n",
    "  \"Title\": \"Post-Apocalyptic City Diorama Poster\",\n",
    "  \"Content\": \"Create a stylish, hyper-realistic [x:y] poster of a post-apocalyptic\\n[city] as a square diorama. the scene features ruined landmarks,\\nlayered terrain with exposed soil, water, and rocks for depth, and\\novergrown plants reclaiming the city. integrate the city\\u0027s name \\u0027[city]\\u0027\\nin sleek 3d white letters, blending organically into the landscape. use\\na cinematic, moody aesthetic-cracked structures, subtle fog, and\\ndynamic lighting to make the decay feel dramatic yet elegant. place\\nthe diorama on a clean white background for contrast. ultra-detailed,\\nhigh-resolution.\",\n",
    "  \"Category\": \"generate-image\",\n",
    "  \"Description\": \"Generates a hyper-realistic, stylish poster of a post-apocalyptic city diorama, featuring detailed decay, natural reclamation, and integrated 3D text.\",\n",
    "  \"Tags\": [\n",
    "    \"post-apocalyptic\",\n",
    "    \"diorama\",\n",
    "    \"cityscape\",\n",
    "    \"hyper-realistic\",\n",
    "    \"cinematic\",\n",
    "    \"3d text\",\n",
    "    \"poster\",\n",
    "    \"concept art\"\n",
    "  ],\n",
    "  \"UsageCount\": 0,\n",
    "  \"AverageRating\": 0,\n",
    "  \"RatingCount\": 0,\n",
    "  \"CreatedAt\": \"2025-10-19T04:34:37.68Z\",\n",
    "  \"UpdatedAt\": \"2025-10-19T04:34:37.68Z\",\n",
    "  \"IsPublic\": true,\n",
    "  \"Author\": \"PrashantUnity\",\n",
    "  \"Difficulty\": \"intermediate\",\n",
    "  \"Placeholders\": [\n",
    "    \"x:y\",\n",
    "    \"city\"\n",
    "  ],\n",
    "  \"UsageNotes\": \"Replace [x:y] with your desired aspect ratio (e.g., \\u00271:1\\u0027 for a square, \\u002716:9\\u0027 for widescreen). Replace [city] with the name of the city you want to depict (e.g., \\u0027New York\\u0027, \\u0027Tokyo\\u0027, \\u0027London\\u0027).\",\n",
    "  \"EstimatedTime\": \"5-10 minutes\"\n",
    "}\n",
    "\"\"\";"
   ]
  },
  {
   "cell_type": "code",
   "execution_count": 90,
   "metadata": {
    "language_info": {
     "name": "polyglot-notebook"
    },
    "polyglot_notebook": {
     "kernelName": "csharp"
    }
   },
   "outputs": [],
   "source": [
    "public class Prompt\n",
    "{\n",
    "    [JsonPropertyName(\"Id\")]\n",
    "    public string Id { get; set; }\n",
    "\n",
    "    [JsonPropertyName(\"Title\")]\n",
    "    public string Title { get; set; }\n",
    "\n",
    "    [JsonPropertyName(\"Content\")]\n",
    "    public string Content { get; set; }\n",
    "\n",
    "    [JsonPropertyName(\"Category\")]\n",
    "    public string Category { get; set; }\n",
    "\n",
    "    [JsonPropertyName(\"Description\")]\n",
    "    public string Description { get; set; }\n",
    "\n",
    "    [JsonPropertyName(\"Tags\")]\n",
    "    public List<object> Tags { get; set; }\n",
    "\n",
    "    [JsonPropertyName(\"UsageCount\")]\n",
    "    public int UsageCount { get; set; }\n",
    "\n",
    "    [JsonPropertyName(\"AverageRating\")]\n",
    "    public int AverageRating { get; set; }\n",
    "\n",
    "    [JsonPropertyName(\"RatingCount\")]\n",
    "    public int RatingCount { get; set; }\n",
    "\n",
    "    [JsonPropertyName(\"CreatedAt\")]\n",
    "    public DateTime CreatedAt { get; set; }\n",
    "\n",
    "    [JsonPropertyName(\"UpdatedAt\")]\n",
    "    public DateTime UpdatedAt { get; set; }\n",
    "\n",
    "    [JsonPropertyName(\"IsPublic\")]\n",
    "    public bool IsPublic { get; set; }\n",
    "\n",
    "    [JsonPropertyName(\"Author\")]\n",
    "    public string Author { get; set; }\n",
    "\n",
    "    [JsonPropertyName(\"Difficulty\")]\n",
    "    public string Difficulty { get; set; }\n",
    "\n",
    "    [JsonPropertyName(\"Placeholders\")]\n",
    "    public List<string> Placeholders { get; set; }\n",
    "\n",
    "    [JsonPropertyName(\"UsageNotes\")]\n",
    "    public string UsageNotes { get; set; }\n",
    "\n",
    "    [JsonPropertyName(\"EstimatedTime\")]\n",
    "    public string EstimatedTime { get; set; }\n",
    "}\n",
    "\n"
   ]
  },
  {
   "cell_type": "code",
   "execution_count": 91,
   "metadata": {
    "language_info": {
     "name": "polyglot-notebook"
    },
    "polyglot_notebook": {
     "kernelName": "csharp"
    }
   },
   "outputs": [
    {
     "data": {
      "text/html": [
       "<details open=\"open\" class=\"dni-treeview\"><summary><span class=\"dni-code-hint\"><code>Submission#90+Prompt</code></span></summary><div><table><thead><tr></tr></thead><tbody><tr><td>Id</td><td><div class=\"dni-plaintext\"><pre>01eb51ca-3b6f-4d59-b15c-f4788bf069eb</pre></div></td></tr><tr><td>Title</td><td><div class=\"dni-plaintext\"><pre>Post-Apocalyptic City Diorama Poster</pre></div></td></tr><tr><td>Content</td><td><div class=\"dni-plaintext\"><pre>Create a stylish, hyper-realistic [x:y] poster of a post-apocalyptic\n",
       "[city] as a square diorama. the scene features ruined landmarks,\n",
       "layered terrain with exposed soil, water, and rocks for depth, and\n",
       "overgrown plants reclaiming the city. integrate the city&#39;s name &#39;[city]&#39;\n",
       "in sleek 3d white letters, blending organically into the landscape. use\n",
       "a cinematic, moody aesthetic-cracked structures, subtle fog, and\n",
       "dynamic lighting to make the decay feel dramatic yet elegant. place\n",
       "the diorama on a clean white background for contrast. ultra-detailed,\n",
       "high-resolution.</pre></div></td></tr><tr><td>Category</td><td><div class=\"dni-plaintext\"><pre>generate-image</pre></div></td></tr><tr><td>Description</td><td><div class=\"dni-plaintext\"><pre>Generates a hyper-realistic, stylish poster of a post-apocalyptic city diorama, featuring detailed decay, natural reclamation, and integrated 3D text.</pre></div></td></tr><tr><td>Tags</td><td><table><thead><tr><th><i>index</i></th><th>value</th></tr></thead><tbody><tr><td>0</td><td><span>&quot;post-apocalyptic&quot;</span></td></tr><tr><td>1</td><td><span>&quot;diorama&quot;</span></td></tr><tr><td>2</td><td><span>&quot;cityscape&quot;</span></td></tr><tr><td>3</td><td><span>&quot;hyper-realistic&quot;</span></td></tr><tr><td>4</td><td><span>&quot;cinematic&quot;</span></td></tr><tr><td>5</td><td><span>&quot;3d text&quot;</span></td></tr><tr><td>6</td><td><span>&quot;poster&quot;</span></td></tr><tr><td>7</td><td><span>&quot;concept art&quot;</span></td></tr></tbody></table></td></tr><tr><td>UsageCount</td><td><div class=\"dni-plaintext\"><pre>0</pre></div></td></tr><tr><td>AverageRating</td><td><div class=\"dni-plaintext\"><pre>0</pre></div></td></tr><tr><td>RatingCount</td><td><div class=\"dni-plaintext\"><pre>0</pre></div></td></tr><tr><td>CreatedAt</td><td><span>2025-10-19 04:34:37Z</span></td></tr><tr><td>UpdatedAt</td><td><span>2025-10-19 04:34:37Z</span></td></tr><tr><td>IsPublic</td><td><div class=\"dni-plaintext\"><pre>True</pre></div></td></tr><tr><td>Author</td><td><div class=\"dni-plaintext\"><pre>PrashantUnity</pre></div></td></tr><tr><td>Difficulty</td><td><div class=\"dni-plaintext\"><pre>intermediate</pre></div></td></tr><tr><td>Placeholders</td><td><div class=\"dni-plaintext\"><pre>[ x:y, city ]</pre></div></td></tr><tr><td>UsageNotes</td><td><div class=\"dni-plaintext\"><pre>Replace [x:y] with your desired aspect ratio (e.g., &#39;1:1&#39; for a square, &#39;16:9&#39; for widescreen). Replace [city] with the name of the city you want to depict (e.g., &#39;New York&#39;, &#39;Tokyo&#39;, &#39;London&#39;).</pre></div></td></tr><tr><td>EstimatedTime</td><td><div class=\"dni-plaintext\"><pre>5-10 minutes</pre></div></td></tr></tbody></table></div></details><style>\r\n",
       ".dni-code-hint {\r\n",
       "    font-style: italic;\r\n",
       "    overflow: hidden;\r\n",
       "    white-space: nowrap;\r\n",
       "}\r\n",
       ".dni-treeview {\r\n",
       "    white-space: nowrap;\r\n",
       "}\r\n",
       ".dni-treeview td {\r\n",
       "    vertical-align: top;\r\n",
       "    text-align: start;\r\n",
       "}\r\n",
       "details.dni-treeview {\r\n",
       "    padding-left: 1em;\r\n",
       "}\r\n",
       "table td {\r\n",
       "    text-align: start;\r\n",
       "}\r\n",
       "table tr { \r\n",
       "    vertical-align: top; \r\n",
       "    margin: 0em 0px;\r\n",
       "}\r\n",
       "table tr td pre \r\n",
       "{ \r\n",
       "    vertical-align: top !important; \r\n",
       "    margin: 0em 0px !important;\r\n",
       "} \r\n",
       "table th {\r\n",
       "    text-align: start;\r\n",
       "}\r\n",
       "</style>"
      ]
     },
     "metadata": {},
     "output_type": "display_data"
    }
   ],
   "source": [
    "var data = JsonSerializer.Deserialize<Prompt>(jsonContent);\n",
    "data"
   ]
  },
  {
   "cell_type": "code",
   "execution_count": 92,
   "metadata": {
    "language_info": {
     "name": "polyglot-notebook"
    },
    "polyglot_notebook": {
     "kernelName": "csharp"
    }
   },
   "outputs": [
    {
     "data": {
      "text/plain": [
       "/Volumes/External/SourceCode/Data/Prompt/image.json"
      ]
     },
     "metadata": {},
     "output_type": "display_data"
    }
   ],
   "source": [
    "var path = Path.Combine(Directory.GetCurrentDirectory(),newPromptCategoriesName);\n",
    "path"
   ]
  },
  {
   "cell_type": "code",
   "execution_count": 93,
   "metadata": {
    "language_info": {
     "name": "polyglot-notebook"
    },
    "polyglot_notebook": {
     "kernelName": "csharp"
    }
   },
   "outputs": [
    {
     "name": "stdout",
     "output_type": "stream",
     "text": [
      "Read All Contnent\n"
     ]
    },
    {
     "data": {
      "text/html": [
       "<table><thead><tr><th><i>index</i></th><th>value</th></tr></thead><tbody><tr><td>0</td><td><details class=\"dni-treeview\"><summary><span class=\"dni-code-hint\"><code>Submission#90+Prompt</code></span></summary><div><table><thead><tr></tr></thead><tbody><tr><td>Id</td><td><div class=\"dni-plaintext\"><pre>01eb51ca-3b6f-4d59-b15c-f4788bf069eb</pre></div></td></tr><tr><td>Title</td><td><div class=\"dni-plaintext\"><pre>Post-Apocalyptic City Diorama Poster</pre></div></td></tr><tr><td>Content</td><td><div class=\"dni-plaintext\"><pre>Create a stylish, hyper-realistic [x:y] poster of a post-apocalyptic\n",
       "[city] as a square diorama. the scene features ruined landmarks,\n",
       "layered terrain with exposed soil, water, and rocks for depth, and\n",
       "overgrown plants reclaiming the city. integrate the city&#39;s name &#39;[city]&#39;\n",
       "in sleek 3d white letters, blending organically into the landscape. use\n",
       "a cinematic, moody aesthetic-cracked structures, subtle fog, and\n",
       "dynamic lighting to make the decay feel dramatic yet elegant. place\n",
       "the diorama on a clean white background for contrast. ultra-detailed,\n",
       "high-resolution.</pre></div></td></tr><tr><td>Category</td><td><div class=\"dni-plaintext\"><pre>generate-image</pre></div></td></tr><tr><td>Description</td><td><div class=\"dni-plaintext\"><pre>Generates a hyper-realistic, stylish poster of a post-apocalyptic city diorama, featuring detailed decay, natural reclamation, and integrated 3D text.</pre></div></td></tr><tr><td>Tags</td><td><table><thead><tr><th><i>index</i></th><th>value</th></tr></thead><tbody><tr><td>0</td><td><span>&quot;post-apocalyptic&quot;</span></td></tr><tr><td>1</td><td><span>&quot;diorama&quot;</span></td></tr><tr><td>2</td><td><span>&quot;cityscape&quot;</span></td></tr><tr><td>3</td><td><span>&quot;hyper-realistic&quot;</span></td></tr><tr><td>4</td><td><span>&quot;cinematic&quot;</span></td></tr><tr><td>5</td><td><span>&quot;3d text&quot;</span></td></tr><tr><td>6</td><td><span>&quot;poster&quot;</span></td></tr><tr><td>7</td><td><span>&quot;concept art&quot;</span></td></tr></tbody></table></td></tr><tr><td>UsageCount</td><td><div class=\"dni-plaintext\"><pre>0</pre></div></td></tr><tr><td>AverageRating</td><td><div class=\"dni-plaintext\"><pre>0</pre></div></td></tr><tr><td>RatingCount</td><td><div class=\"dni-plaintext\"><pre>0</pre></div></td></tr><tr><td>CreatedAt</td><td><span>2025-10-19 04:34:37Z</span></td></tr><tr><td>UpdatedAt</td><td><span>2025-10-19 04:34:37Z</span></td></tr><tr><td>IsPublic</td><td><div class=\"dni-plaintext\"><pre>True</pre></div></td></tr><tr><td>Author</td><td><div class=\"dni-plaintext\"><pre>PrashantUnity</pre></div></td></tr><tr><td>Difficulty</td><td><div class=\"dni-plaintext\"><pre>intermediate</pre></div></td></tr><tr><td>Placeholders</td><td><div class=\"dni-plaintext\"><pre>[ x:y, city ]</pre></div></td></tr><tr><td>UsageNotes</td><td><div class=\"dni-plaintext\"><pre>Replace [x:y] with your desired aspect ratio (e.g., &#39;1:1&#39; for a square, &#39;16:9&#39; for widescreen). Replace [city] with the name of the city you want to depict (e.g., &#39;New York&#39;, &#39;Tokyo&#39;, &#39;London&#39;).</pre></div></td></tr><tr><td>EstimatedTime</td><td><div class=\"dni-plaintext\"><pre>5-10 minutes</pre></div></td></tr></tbody></table></div></details></td></tr></tbody></table><style>\r\n",
       ".dni-code-hint {\r\n",
       "    font-style: italic;\r\n",
       "    overflow: hidden;\r\n",
       "    white-space: nowrap;\r\n",
       "}\r\n",
       ".dni-treeview {\r\n",
       "    white-space: nowrap;\r\n",
       "}\r\n",
       ".dni-treeview td {\r\n",
       "    vertical-align: top;\r\n",
       "    text-align: start;\r\n",
       "}\r\n",
       "details.dni-treeview {\r\n",
       "    padding-left: 1em;\r\n",
       "}\r\n",
       "table td {\r\n",
       "    text-align: start;\r\n",
       "}\r\n",
       "table tr { \r\n",
       "    vertical-align: top; \r\n",
       "    margin: 0em 0px;\r\n",
       "}\r\n",
       "table tr td pre \r\n",
       "{ \r\n",
       "    vertical-align: top !important; \r\n",
       "    margin: 0em 0px !important;\r\n",
       "} \r\n",
       "table th {\r\n",
       "    text-align: start;\r\n",
       "}\r\n",
       "</style>"
      ]
     },
     "metadata": {},
     "output_type": "display_data"
    }
   ],
   "source": [
    "var allPrompts =new List<Prompt>();\n",
    "if(!Path.Exists(path))\n",
    "{\n",
    "    Console.WriteLine(\"Boom lost Me\");\n",
    "    File.WriteAllText(newPromptCategoriesName,JsonSerializer.Serialize(allPrompts));\n",
    "}\n",
    "else\n",
    "{\n",
    "    Console.WriteLine(\"Read All Contnent\");\n",
    "    var allPromptsData = File.ReadAllText(newPromptCategoriesName);\n",
    "    if(allPromptsData.Trim().Length==0)\n",
    "    {\n",
    "        allPromptsData =\"[]\";\n",
    "    }\n",
    "    allPrompts = JsonSerializer.Deserialize<List<Prompt>>(allPromptsData);\n",
    "}\n",
    "allPrompts"
   ]
  },
  {
   "cell_type": "code",
   "execution_count": 94,
   "metadata": {
    "language_info": {
     "name": "polyglot-notebook"
    },
    "polyglot_notebook": {
     "kernelName": "csharp"
    }
   },
   "outputs": [
    {
     "data": {
      "text/html": [
       "<table><thead><tr><th><i>index</i></th><th>value</th></tr></thead><tbody><tr><td>0</td><td><details class=\"dni-treeview\"><summary><span class=\"dni-code-hint\"><code>Submission#90+Prompt</code></span></summary><div><table><thead><tr></tr></thead><tbody><tr><td>Id</td><td><div class=\"dni-plaintext\"><pre>01eb51ca-3b6f-4d59-b15c-f4788bf069eb</pre></div></td></tr><tr><td>Title</td><td><div class=\"dni-plaintext\"><pre>Post-Apocalyptic City Diorama Poster</pre></div></td></tr><tr><td>Content</td><td><div class=\"dni-plaintext\"><pre>Create a stylish, hyper-realistic [x:y] poster of a post-apocalyptic\n",
       "[city] as a square diorama. the scene features ruined landmarks,\n",
       "layered terrain with exposed soil, water, and rocks for depth, and\n",
       "overgrown plants reclaiming the city. integrate the city&#39;s name &#39;[city]&#39;\n",
       "in sleek 3d white letters, blending organically into the landscape. use\n",
       "a cinematic, moody aesthetic-cracked structures, subtle fog, and\n",
       "dynamic lighting to make the decay feel dramatic yet elegant. place\n",
       "the diorama on a clean white background for contrast. ultra-detailed,\n",
       "high-resolution.</pre></div></td></tr><tr><td>Category</td><td><div class=\"dni-plaintext\"><pre>generate-image</pre></div></td></tr><tr><td>Description</td><td><div class=\"dni-plaintext\"><pre>Generates a hyper-realistic, stylish poster of a post-apocalyptic city diorama, featuring detailed decay, natural reclamation, and integrated 3D text.</pre></div></td></tr><tr><td>Tags</td><td><table><thead><tr><th><i>index</i></th><th>value</th></tr></thead><tbody><tr><td>0</td><td><span>&quot;post-apocalyptic&quot;</span></td></tr><tr><td>1</td><td><span>&quot;diorama&quot;</span></td></tr><tr><td>2</td><td><span>&quot;cityscape&quot;</span></td></tr><tr><td>3</td><td><span>&quot;hyper-realistic&quot;</span></td></tr><tr><td>4</td><td><span>&quot;cinematic&quot;</span></td></tr><tr><td>5</td><td><span>&quot;3d text&quot;</span></td></tr><tr><td>6</td><td><span>&quot;poster&quot;</span></td></tr><tr><td>7</td><td><span>&quot;concept art&quot;</span></td></tr></tbody></table></td></tr><tr><td>UsageCount</td><td><div class=\"dni-plaintext\"><pre>0</pre></div></td></tr><tr><td>AverageRating</td><td><div class=\"dni-plaintext\"><pre>0</pre></div></td></tr><tr><td>RatingCount</td><td><div class=\"dni-plaintext\"><pre>0</pre></div></td></tr><tr><td>CreatedAt</td><td><span>2025-10-19 04:34:37Z</span></td></tr><tr><td>UpdatedAt</td><td><span>2025-10-19 04:34:37Z</span></td></tr><tr><td>IsPublic</td><td><div class=\"dni-plaintext\"><pre>True</pre></div></td></tr><tr><td>Author</td><td><div class=\"dni-plaintext\"><pre>PrashantUnity</pre></div></td></tr><tr><td>Difficulty</td><td><div class=\"dni-plaintext\"><pre>intermediate</pre></div></td></tr><tr><td>Placeholders</td><td><div class=\"dni-plaintext\"><pre>[ x:y, city ]</pre></div></td></tr><tr><td>UsageNotes</td><td><div class=\"dni-plaintext\"><pre>Replace [x:y] with your desired aspect ratio (e.g., &#39;1:1&#39; for a square, &#39;16:9&#39; for widescreen). Replace [city] with the name of the city you want to depict (e.g., &#39;New York&#39;, &#39;Tokyo&#39;, &#39;London&#39;).</pre></div></td></tr><tr><td>EstimatedTime</td><td><div class=\"dni-plaintext\"><pre>5-10 minutes</pre></div></td></tr></tbody></table></div></details></td></tr></tbody></table><style>\r\n",
       ".dni-code-hint {\r\n",
       "    font-style: italic;\r\n",
       "    overflow: hidden;\r\n",
       "    white-space: nowrap;\r\n",
       "}\r\n",
       ".dni-treeview {\r\n",
       "    white-space: nowrap;\r\n",
       "}\r\n",
       ".dni-treeview td {\r\n",
       "    vertical-align: top;\r\n",
       "    text-align: start;\r\n",
       "}\r\n",
       "details.dni-treeview {\r\n",
       "    padding-left: 1em;\r\n",
       "}\r\n",
       "table td {\r\n",
       "    text-align: start;\r\n",
       "}\r\n",
       "table tr { \r\n",
       "    vertical-align: top; \r\n",
       "    margin: 0em 0px;\r\n",
       "}\r\n",
       "table tr td pre \r\n",
       "{ \r\n",
       "    vertical-align: top !important; \r\n",
       "    margin: 0em 0px !important;\r\n",
       "} \r\n",
       "table th {\r\n",
       "    text-align: start;\r\n",
       "}\r\n",
       "</style>"
      ]
     },
     "metadata": {},
     "output_type": "display_data"
    }
   ],
   "source": [
    "if(!allPrompts.Any(x=>x.Content == data.Content))\n",
    "{\n",
    "    allPrompts.Add(data);\n",
    "}\n",
    "allPrompts"
   ]
  },
  {
   "cell_type": "code",
   "execution_count": 95,
   "metadata": {
    "language_info": {
     "name": "polyglot-notebook"
    },
    "polyglot_notebook": {
     "kernelName": "csharp"
    }
   },
   "outputs": [],
   "source": [
    "File.WriteAllText(newPromptCategoriesName,JsonSerializer.Serialize(allPrompts,jsonOption))"
   ]
  }
 ],
 "metadata": {
  "kernelspec": {
   "display_name": ".NET (C#)",
   "language": "C#",
   "name": ".net-csharp"
  },
  "language_info": {
   "name": "polyglot-notebook"
  },
  "polyglot_notebook": {
   "kernelInfo": {
    "defaultKernelName": "csharp",
    "items": [
     {
      "aliases": [],
      "name": "csharp"
     }
    ]
   }
  }
 },
 "nbformat": 4,
 "nbformat_minor": 5
}
