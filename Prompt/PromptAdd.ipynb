{
 "cells": [
  {
   "cell_type": "code",
   "execution_count": 129,
   "id": "795e3d7f",
   "metadata": {
    "language_info": {
     "name": "polyglot-notebook"
    },
    "polyglot_notebook": {
     "kernelName": "csharp"
    }
   },
   "outputs": [],
   "source": [
    "using System.Text.Json;\n",
    "using System.Linq;\n",
    "using System.Collections.Generic;\n",
    "using System.Text.Json.Serialization;\n",
    "using System.IO;"
   ]
  },
  {
   "cell_type": "code",
   "execution_count": 130,
   "id": "243af3e7",
   "metadata": {
    "language_info": {
     "name": "polyglot-notebook"
    },
    "polyglot_notebook": {
     "kernelName": "csharp"
    }
   },
   "outputs": [],
   "source": [
    "public class Prompts\n",
    "{\n",
    "    [JsonPropertyName(\"id\")]\n",
    "    public string Id { get; set; } = Guid.NewGuid().ToString();\n",
    "\n",
    "    [JsonPropertyName(\"title\")]\n",
    "    public string Title { get; set; }\n",
    "\n",
    "    [JsonPropertyName(\"content\")]\n",
    "    public string Content { get; set; }\n",
    "\n",
    "    [JsonPropertyName(\"category\")]\n",
    "    public string Category { get; set; }\n",
    "\n",
    "    [JsonPropertyName(\"description\")]\n",
    "    public string Description { get; set; }\n",
    "\n",
    "    [JsonPropertyName(\"tags\")]\n",
    "    public List<string> Tags { get; set; }\n",
    "\n",
    "    [JsonPropertyName(\"author\")]\n",
    "    public string Author { get; set; }\n",
    "\n",
    "    [JsonPropertyName(\"difficulty\")]\n",
    "    public string Difficulty { get; set; }\n",
    "\n",
    "    [JsonPropertyName(\"estimatedTime\")]\n",
    "    public string EstimatedTime { get; set; }\n",
    "\n",
    "    [JsonPropertyName(\"createdAt\")]\n",
    "    public DateTime CreatedAt { get; set; }\n",
    "\n",
    "    [JsonPropertyName(\"updatedAt\")]\n",
    "    public DateTime UpdatedAt { get; set; }\n",
    "\n",
    "    [JsonPropertyName(\"usageCount\")]\n",
    "    public int UsageCount { get; set; }\n",
    "\n",
    "    [JsonPropertyName(\"averageRating\")]\n",
    "    public double AverageRating { get; set; }\n",
    "\n",
    "    [JsonPropertyName(\"isPublic\")]\n",
    "    public bool IsPublic { get; set; }\n",
    "\n",
    "    [JsonPropertyName(\"placeholders\")]\n",
    "    public List<object> Placeholders { get; set; }\n",
    "\n",
    "    [JsonPropertyName(\"usageNotes\")]\n",
    "    public string UsageNotes { get; set; }\n",
    "}"
   ]
  },
  {
   "cell_type": "code",
   "execution_count": 131,
   "id": "05c9d419",
   "metadata": {
    "language_info": {
     "name": "polyglot-notebook"
    },
    "polyglot_notebook": {
     "kernelName": "csharp"
    }
   },
   "outputs": [],
   "source": [
    "public class Category\n",
    "{\n",
    "    [JsonPropertyName(\"id\")]\n",
    "    public string Id { get; set; } = Guid.NewGuid().ToString();\n",
    "\n",
    "    [JsonPropertyName(\"name\")]\n",
    "    public string Name { get; set; }\n",
    "\n",
    "    [JsonPropertyName(\"description\")]\n",
    "    public string Description { get; set; }\n",
    "\n",
    "    [JsonPropertyName(\"icon\")]\n",
    "    public string Icon { get; set; }\n",
    "\n",
    "    [JsonPropertyName(\"color\")]\n",
    "    public string Color { get; set; }\n",
    "\n",
    "    [JsonPropertyName(\"promptCount\")]\n",
    "    public int PromptCount { get; set; }\n",
    "\n",
    "    [JsonPropertyName(\"sortOrder\")]\n",
    "    public int SortOrder { get; set; }\n",
    "\n",
    "    [JsonPropertyName(\"filePathName\")]\n",
    "    public string FilePathName { get; set; }\n",
    "}\n",
    "\n",
    "public class AllSource\n",
    "{\n",
    "    [JsonPropertyName(\"categories\")]\n",
    "    public List<Category> Categories { get; set; }\n",
    "}"
   ]
  },
  {
   "cell_type": "code",
   "execution_count": 132,
   "metadata": {
    "language_info": {
     "name": "polyglot-notebook"
    },
    "polyglot_notebook": {
     "kernelName": "csharp"
    }
   },
   "outputs": [],
   "source": [
    "var allSourcePath =\"allsources.json\";"
   ]
  },
  {
   "cell_type": "code",
   "execution_count": 133,
   "metadata": {
    "language_info": {
     "name": "polyglot-notebook"
    },
    "polyglot_notebook": {
     "kernelName": "csharp"
    }
   },
   "outputs": [],
   "source": [
    "var newPromptCategoriesName =\"data.json\";"
   ]
  },
  {
   "cell_type": "code",
   "execution_count": 134,
   "metadata": {
    "language_info": {
     "name": "polyglot-notebook"
    },
    "polyglot_notebook": {
     "kernelName": "csharp"
    }
   },
   "outputs": [],
   "source": [
    "var allSourceResponse = File.ReadAllText(allSourcePath);\n"
   ]
  },
  {
   "cell_type": "code",
   "execution_count": 135,
   "id": "60a7ef5d",
   "metadata": {
    "language_info": {
     "name": "polyglot-notebook"
    },
    "polyglot_notebook": {
     "kernelName": "csharp"
    }
   },
   "outputs": [
    {
     "data": {
      "text/html": [
       "<table><thead><tr><th><i>index</i></th><th>value</th></tr></thead><tbody><tr><td>0</td><td><details class=\"dni-treeview\"><summary><span class=\"dni-code-hint\"><code>Submission#131+Category</code></span></summary><div><table><thead><tr></tr></thead><tbody><tr><td>Id</td><td><div class=\"dni-plaintext\"><pre>5cfc1d6d-6fd3-4fd8-a9ee-07d8280a33fb</pre></div></td></tr><tr><td>Name</td><td><div class=\"dni-plaintext\"><pre>Productivity</pre></div></td></tr><tr><td>Description</td><td><div class=\"dni-plaintext\"><pre>Prompts related to time management and efficiency</pre></div></td></tr><tr><td>Icon</td><td><div class=\"dni-plaintext\"><pre>fa-clock</pre></div></td></tr><tr><td>Color</td><td><div class=\"dni-plaintext\"><pre>#FF5733</pre></div></td></tr><tr><td>PromptCount</td><td><div class=\"dni-plaintext\"><pre>25</pre></div></td></tr><tr><td>SortOrder</td><td><div class=\"dni-plaintext\"><pre>1</pre></div></td></tr><tr><td>FilePathName</td><td><div class=\"dni-plaintext\"><pre>data.json</pre></div></td></tr></tbody></table></div></details></td></tr><tr><td>1</td><td><details class=\"dni-treeview\"><summary><span class=\"dni-code-hint\"><code>Submission#131+Category</code></span></summary><div><table><thead><tr></tr></thead><tbody><tr><td>Id</td><td><div class=\"dni-plaintext\"><pre>95f96f5d-3486-46dd-ab74-0f5b959a721c</pre></div></td></tr><tr><td>Name</td><td><div class=\"dni-plaintext\"><pre>Marketing</pre></div></td></tr><tr><td>Description</td><td><div class=\"dni-plaintext\"><pre>Prompts related to Marketing</pre></div></td></tr><tr><td>Icon</td><td><div class=\"dni-plaintext\"><pre>fa-clock</pre></div></td></tr><tr><td>Color</td><td><div class=\"dni-plaintext\"><pre>#FF5733</pre></div></td></tr><tr><td>PromptCount</td><td><div class=\"dni-plaintext\"><pre>25</pre></div></td></tr><tr><td>SortOrder</td><td><div class=\"dni-plaintext\"><pre>1</pre></div></td></tr><tr><td>FilePathName</td><td><div class=\"dni-plaintext\"><pre>marketing.json</pre></div></td></tr></tbody></table></div></details></td></tr><tr><td>2</td><td><details class=\"dni-treeview\"><summary><span class=\"dni-code-hint\"><code>Submission#131+Category</code></span></summary><div><table><thead><tr></tr></thead><tbody><tr><td>Id</td><td><div class=\"dni-plaintext\"><pre>d9bcf363-68f4-473b-a5c7-646cd3473b30</pre></div></td></tr><tr><td>Name</td><td><div class=\"dni-plaintext\"><pre>Development</pre></div></td></tr><tr><td>Description</td><td><div class=\"dni-plaintext\"><pre>Prompts related to Developer</pre></div></td></tr><tr><td>Icon</td><td><div class=\"dni-plaintext\"><pre>fa-clock</pre></div></td></tr><tr><td>Color</td><td><div class=\"dni-plaintext\"><pre>#FF5733</pre></div></td></tr><tr><td>PromptCount</td><td><div class=\"dni-plaintext\"><pre>25</pre></div></td></tr><tr><td>SortOrder</td><td><div class=\"dni-plaintext\"><pre>1</pre></div></td></tr><tr><td>FilePathName</td><td><div class=\"dni-plaintext\"><pre>development.json</pre></div></td></tr></tbody></table></div></details></td></tr><tr><td>3</td><td><details class=\"dni-treeview\"><summary><span class=\"dni-code-hint\"><code>Submission#131+Category</code></span></summary><div><table><thead><tr></tr></thead><tbody><tr><td>Id</td><td><div class=\"dni-plaintext\"><pre>a1d01635-830e-4098-8e5b-ee97fa035370</pre></div></td></tr><tr><td>Name</td><td><div class=\"dni-plaintext\"><pre>Asp Net Blazor</pre></div></td></tr><tr><td>Description</td><td><div class=\"dni-plaintext\"><pre>Prompts Related to balzor web Application</pre></div></td></tr><tr><td>Icon</td><td><div class=\"dni-plaintext\"><pre>fa-clock</pre></div></td></tr><tr><td>Color</td><td><div class=\"dni-plaintext\"><pre>#3258b8ff</pre></div></td></tr><tr><td>PromptCount</td><td><div class=\"dni-plaintext\"><pre>25</pre></div></td></tr><tr><td>SortOrder</td><td><div class=\"dni-plaintext\"><pre>2</pre></div></td></tr><tr><td>FilePathName</td><td><div class=\"dni-plaintext\"><pre>blazor.json</pre></div></td></tr></tbody></table></div></details></td></tr><tr><td>4</td><td><details class=\"dni-treeview\"><summary><span class=\"dni-code-hint\"><code>Submission#131+Category</code></span></summary><div><table><thead><tr></tr></thead><tbody><tr><td>Id</td><td><div class=\"dni-plaintext\"><pre>df500521-0cb5-4fca-8fc1-f697723160a7</pre></div></td></tr><tr><td>Name</td><td><div class=\"dni-plaintext\"><pre>Generate Image</pre></div></td></tr><tr><td>Description</td><td><div class=\"dni-plaintext\"><pre>Prompts Related to Image Generation</pre></div></td></tr><tr><td>Icon</td><td><div class=\"dni-plaintext\"><pre>fa-clock</pre></div></td></tr><tr><td>Color</td><td><div class=\"dni-plaintext\"><pre>#3258b8ff</pre></div></td></tr><tr><td>PromptCount</td><td><div class=\"dni-plaintext\"><pre>25</pre></div></td></tr><tr><td>SortOrder</td><td><div class=\"dni-plaintext\"><pre>2</pre></div></td></tr><tr><td>FilePathName</td><td><div class=\"dni-plaintext\"><pre>image.json</pre></div></td></tr></tbody></table></div></details></td></tr></tbody></table><style>\r\n",
       ".dni-code-hint {\r\n",
       "    font-style: italic;\r\n",
       "    overflow: hidden;\r\n",
       "    white-space: nowrap;\r\n",
       "}\r\n",
       ".dni-treeview {\r\n",
       "    white-space: nowrap;\r\n",
       "}\r\n",
       ".dni-treeview td {\r\n",
       "    vertical-align: top;\r\n",
       "    text-align: start;\r\n",
       "}\r\n",
       "details.dni-treeview {\r\n",
       "    padding-left: 1em;\r\n",
       "}\r\n",
       "table td {\r\n",
       "    text-align: start;\r\n",
       "}\r\n",
       "table tr { \r\n",
       "    vertical-align: top; \r\n",
       "    margin: 0em 0px;\r\n",
       "}\r\n",
       "table tr td pre \r\n",
       "{ \r\n",
       "    vertical-align: top !important; \r\n",
       "    margin: 0em 0px !important;\r\n",
       "} \r\n",
       "table th {\r\n",
       "    text-align: start;\r\n",
       "}\r\n",
       "</style>"
      ]
     },
     "metadata": {},
     "output_type": "display_data"
    }
   ],
   "source": [
    "var  allSource = JsonSerializer.Deserialize<AllSource>(allSourceResponse);\n",
    "allSource.Categories\n"
   ]
  },
  {
   "cell_type": "code",
   "execution_count": 136,
   "metadata": {
    "language_info": {
     "name": "polyglot-notebook"
    },
    "polyglot_notebook": {
     "kernelName": "csharp"
    }
   },
   "outputs": [],
   "source": [
    "var newCategories = new Category()\n",
    "{\n",
    "    Name = \"Generate Image\",\n",
    "    Description =\"Prompts Related to Image Generation\",\n",
    "    Icon =\"fa-clock\",\n",
    "    Color =\"#3258b8ff\",\n",
    "    PromptCount =25,\n",
    "    SortOrder =2,\n",
    "    FilePathName = newPromptCategoriesName\n",
    "};"
   ]
  },
  {
   "cell_type": "code",
   "execution_count": 137,
   "metadata": {
    "language_info": {
     "name": "polyglot-notebook"
    },
    "polyglot_notebook": {
     "kernelName": "csharp"
    }
   },
   "outputs": [
    {
     "data": {
      "text/html": [
       "<table><thead><tr><th><i>index</i></th><th>value</th></tr></thead><tbody><tr><td>0</td><td><details class=\"dni-treeview\"><summary><span class=\"dni-code-hint\"><code>Submission#131+Category</code></span></summary><div><table><thead><tr></tr></thead><tbody><tr><td>Id</td><td><div class=\"dni-plaintext\"><pre>5cfc1d6d-6fd3-4fd8-a9ee-07d8280a33fb</pre></div></td></tr><tr><td>Name</td><td><div class=\"dni-plaintext\"><pre>Productivity</pre></div></td></tr><tr><td>Description</td><td><div class=\"dni-plaintext\"><pre>Prompts related to time management and efficiency</pre></div></td></tr><tr><td>Icon</td><td><div class=\"dni-plaintext\"><pre>fa-clock</pre></div></td></tr><tr><td>Color</td><td><div class=\"dni-plaintext\"><pre>#FF5733</pre></div></td></tr><tr><td>PromptCount</td><td><div class=\"dni-plaintext\"><pre>25</pre></div></td></tr><tr><td>SortOrder</td><td><div class=\"dni-plaintext\"><pre>1</pre></div></td></tr><tr><td>FilePathName</td><td><div class=\"dni-plaintext\"><pre>data.json</pre></div></td></tr></tbody></table></div></details></td></tr><tr><td>1</td><td><details class=\"dni-treeview\"><summary><span class=\"dni-code-hint\"><code>Submission#131+Category</code></span></summary><div><table><thead><tr></tr></thead><tbody><tr><td>Id</td><td><div class=\"dni-plaintext\"><pre>95f96f5d-3486-46dd-ab74-0f5b959a721c</pre></div></td></tr><tr><td>Name</td><td><div class=\"dni-plaintext\"><pre>Marketing</pre></div></td></tr><tr><td>Description</td><td><div class=\"dni-plaintext\"><pre>Prompts related to Marketing</pre></div></td></tr><tr><td>Icon</td><td><div class=\"dni-plaintext\"><pre>fa-clock</pre></div></td></tr><tr><td>Color</td><td><div class=\"dni-plaintext\"><pre>#FF5733</pre></div></td></tr><tr><td>PromptCount</td><td><div class=\"dni-plaintext\"><pre>25</pre></div></td></tr><tr><td>SortOrder</td><td><div class=\"dni-plaintext\"><pre>1</pre></div></td></tr><tr><td>FilePathName</td><td><div class=\"dni-plaintext\"><pre>marketing.json</pre></div></td></tr></tbody></table></div></details></td></tr><tr><td>2</td><td><details class=\"dni-treeview\"><summary><span class=\"dni-code-hint\"><code>Submission#131+Category</code></span></summary><div><table><thead><tr></tr></thead><tbody><tr><td>Id</td><td><div class=\"dni-plaintext\"><pre>d9bcf363-68f4-473b-a5c7-646cd3473b30</pre></div></td></tr><tr><td>Name</td><td><div class=\"dni-plaintext\"><pre>Development</pre></div></td></tr><tr><td>Description</td><td><div class=\"dni-plaintext\"><pre>Prompts related to Developer</pre></div></td></tr><tr><td>Icon</td><td><div class=\"dni-plaintext\"><pre>fa-clock</pre></div></td></tr><tr><td>Color</td><td><div class=\"dni-plaintext\"><pre>#FF5733</pre></div></td></tr><tr><td>PromptCount</td><td><div class=\"dni-plaintext\"><pre>25</pre></div></td></tr><tr><td>SortOrder</td><td><div class=\"dni-plaintext\"><pre>1</pre></div></td></tr><tr><td>FilePathName</td><td><div class=\"dni-plaintext\"><pre>development.json</pre></div></td></tr></tbody></table></div></details></td></tr><tr><td>3</td><td><details class=\"dni-treeview\"><summary><span class=\"dni-code-hint\"><code>Submission#131+Category</code></span></summary><div><table><thead><tr></tr></thead><tbody><tr><td>Id</td><td><div class=\"dni-plaintext\"><pre>a1d01635-830e-4098-8e5b-ee97fa035370</pre></div></td></tr><tr><td>Name</td><td><div class=\"dni-plaintext\"><pre>Asp Net Blazor</pre></div></td></tr><tr><td>Description</td><td><div class=\"dni-plaintext\"><pre>Prompts Related to balzor web Application</pre></div></td></tr><tr><td>Icon</td><td><div class=\"dni-plaintext\"><pre>fa-clock</pre></div></td></tr><tr><td>Color</td><td><div class=\"dni-plaintext\"><pre>#3258b8ff</pre></div></td></tr><tr><td>PromptCount</td><td><div class=\"dni-plaintext\"><pre>25</pre></div></td></tr><tr><td>SortOrder</td><td><div class=\"dni-plaintext\"><pre>2</pre></div></td></tr><tr><td>FilePathName</td><td><div class=\"dni-plaintext\"><pre>blazor.json</pre></div></td></tr></tbody></table></div></details></td></tr><tr><td>4</td><td><details class=\"dni-treeview\"><summary><span class=\"dni-code-hint\"><code>Submission#131+Category</code></span></summary><div><table><thead><tr></tr></thead><tbody><tr><td>Id</td><td><div class=\"dni-plaintext\"><pre>df500521-0cb5-4fca-8fc1-f697723160a7</pre></div></td></tr><tr><td>Name</td><td><div class=\"dni-plaintext\"><pre>Generate Image</pre></div></td></tr><tr><td>Description</td><td><div class=\"dni-plaintext\"><pre>Prompts Related to Image Generation</pre></div></td></tr><tr><td>Icon</td><td><div class=\"dni-plaintext\"><pre>fa-clock</pre></div></td></tr><tr><td>Color</td><td><div class=\"dni-plaintext\"><pre>#3258b8ff</pre></div></td></tr><tr><td>PromptCount</td><td><div class=\"dni-plaintext\"><pre>25</pre></div></td></tr><tr><td>SortOrder</td><td><div class=\"dni-plaintext\"><pre>2</pre></div></td></tr><tr><td>FilePathName</td><td><div class=\"dni-plaintext\"><pre>image.json</pre></div></td></tr></tbody></table></div></details></td></tr></tbody></table><style>\r\n",
       ".dni-code-hint {\r\n",
       "    font-style: italic;\r\n",
       "    overflow: hidden;\r\n",
       "    white-space: nowrap;\r\n",
       "}\r\n",
       ".dni-treeview {\r\n",
       "    white-space: nowrap;\r\n",
       "}\r\n",
       ".dni-treeview td {\r\n",
       "    vertical-align: top;\r\n",
       "    text-align: start;\r\n",
       "}\r\n",
       "details.dni-treeview {\r\n",
       "    padding-left: 1em;\r\n",
       "}\r\n",
       "table td {\r\n",
       "    text-align: start;\r\n",
       "}\r\n",
       "table tr { \r\n",
       "    vertical-align: top; \r\n",
       "    margin: 0em 0px;\r\n",
       "}\r\n",
       "table tr td pre \r\n",
       "{ \r\n",
       "    vertical-align: top !important; \r\n",
       "    margin: 0em 0px !important;\r\n",
       "} \r\n",
       "table th {\r\n",
       "    text-align: start;\r\n",
       "}\r\n",
       "</style>"
      ]
     },
     "metadata": {},
     "output_type": "display_data"
    }
   ],
   "source": [
    "if(!allSource.Categories.Any(x=>x.Id == newCategories.Id || x.FilePathName==newCategories.FilePathName))\n",
    "{\n",
    "    allSource.Categories.Add(newCategories);\n",
    "}\n",
    "allSource.Categories"
   ]
  },
  {
   "cell_type": "code",
   "execution_count": 138,
   "metadata": {
    "language_info": {
     "name": "polyglot-notebook"
    },
    "polyglot_notebook": {
     "kernelName": "csharp"
    }
   },
   "outputs": [
    {
     "data": {
      "text/plain": [
       "{\"categories\":[{\"id\":\"5cfc1d6d-6fd3-4fd8-a9ee-07d8280a33fb\",\"name\":\"Productivity\",\"description\":\"Prompts related to time management and efficiency\",\"icon\":\"fa-clock\",\"color\":\"#FF5733\",\"promptCount\":25,\"sortOrder\":1,\"filePathName\":\"data.json\"},{\"id\":\"95f96f5d-3486-46dd-ab74-0f5b959a721c\",\"name\":\"Marketing\",\"description\":\"Prompts related to Marketing\",\"icon\":\"fa-clock\",\"color\":\"#FF5733\",\"promptCount\":25,\"sortOrder\":1,\"filePathName\":\"marketing.json\"},{\"id\":\"d9bcf363-68f4-473b-a5c7-646cd3473b30\",\"name\":\"Development\",\"description\":\"Prompts related to Developer\",\"icon\":\"fa-clock\",\"color\":\"#FF5733\",\"promptCount\":25,\"sortOrder\":1,\"filePathName\":\"development.json\"},{\"id\":\"a1d01635-830e-4098-8e5b-ee97fa035370\",\"name\":\"Asp Net Blazor\",\"description\":\"Prompts Related to balzor web Application\",\"icon\":\"fa-clock\",\"color\":\"#3258b8ff\",\"promptCount\":25,\"sortOrder\":2,\"filePathName\":\"blazor.json\"},{\"id\":\"df500521-0cb5-4fca-8fc1-f697723160a7\",\"name\":\"Generate Image\",\"description\":\"Prompts Related to Image Generation\",\"icon\":\"fa-clock\",\"color\":\"#3258b8ff\",\"promptCount\":25,\"sortOrder\":2,\"filePathName\":\"image.json\"}]}"
      ]
     },
     "metadata": {},
     "output_type": "display_data"
    }
   ],
   "source": [
    "var allSourceStringContent = JsonSerializer.Serialize(allSource);\n",
    "allSourceStringContent"
   ]
  },
  {
   "cell_type": "code",
   "execution_count": 139,
   "metadata": {
    "language_info": {
     "name": "polyglot-notebook"
    },
    "polyglot_notebook": {
     "kernelName": "csharp"
    }
   },
   "outputs": [],
   "source": [
    "File.WriteAllText(allSourcePath,allSourceStringContent)"
   ]
  },
  {
   "cell_type": "code",
   "execution_count": 140,
   "metadata": {
    "language_info": {
     "name": "polyglot-notebook"
    },
    "polyglot_notebook": {
     "kernelName": "csharp"
    }
   },
   "outputs": [],
   "source": [
    "var prompt = new Prompts()\n",
    "{\n",
    "    Id =Guid.NewGuid().ToString(),\n",
    "    Title = \"Senior blazor appliaction developer haveing 1000 year of Experience\",\n",
    "    Content =\"\"\"\n",
    "    1. A series of 5 emails (teaser, announcement, features, testimonials, final call)\n",
    "    2. Subject lines optimized for open rates\n",
    "    3. Compelling CTAs for each email\n",
    "    4. Personalization strategies\n",
    "    5. A/B testing suggestions\n",
    "\n",
    "    Target audience: [Define your audience]\n",
    "    Product: [Describe your product]\n",
    "    Launch date: [Specify date]\n",
    "    Key selling points: [List main benefits]\n",
    "    \"\"\",\n",
    "    Author = \"Prashant\",\n",
    "    AverageRating = 4.4,\n",
    "    Category = newPromptCategoriesName.Replace(\".json\",string.Empty),\n",
    "    Description = \"Generate detailed story outlines with three-act structure and character development\",\n",
    "    Tags = [\"fiction\", \"storytelling\", \"outline\"],\n",
    "    Difficulty = \"beginner\",\n",
    "    EstimatedTime = \"10-20 minutes\",\n",
    "    CreatedAt = DateTime.Now,\n",
    "    UpdatedAt = DateTime.Now,\n",
    "    UsageCount = 32,\n",
    "    IsPublic = true,\n",
    "    Placeholders = []\n",
    "};"
   ]
  },
  {
   "cell_type": "code",
   "execution_count": 141,
   "metadata": {
    "language_info": {
     "name": "polyglot-notebook"
    },
    "polyglot_notebook": {
     "kernelName": "csharp"
    }
   },
   "outputs": [],
   "source": [
    "var jsonContent = \"\"\"\n",
    "{\n",
    "  \"Id\": \"1\",\n",
    "  \"Title\": \"Create Earth Cake Piece\",\n",
    "  \"Content\": \"Create a stylish, hyper-realistic [X:Y] poster of a post-apocalyptic\\n[city] as a square diorama. The scene features ruined landmarks,\\nlayered terrain with exposed soil, water, and rocks for depth, and\\novergrown plants reclaiming the city. Integrate the city\\u0027s name \\u0027[city]\\u0027\\nin sleek 3D white letters, blending organically into the landscape. Use\\na cinematic, moody aesthetic-cracked structures, subtle fog, and\\ndynamic lighting to make the decay feel dramatic yet elegant. Place\\nthe diorama on a clean white background for contrast. Ultra-detailed,\\nhigh-resolution.\",\n",
    "  \"Category\": \"development\",\n",
    "  \"Description\": \"Generate A piece of city like it cake\",\n",
    "  \"Tags\": [\n",
    "    \"earth\"\n",
    "  ],\n",
    "  \"UsageCount\": 0,\n",
    "  \"AverageRating\": 0,\n",
    "  \"CreatedAt\": \"2025-09-27T10:51:56.941Z\",\n",
    "  \"UpdatedAt\": \"2025-09-27T10:51:56.941Z\",\n",
    "  \"IsPublic\": true,\n",
    "  \"Author\": \"Prompt Generator\",\n",
    "  \"Difficulty\": \"beginner\",\n",
    "  \"Placeholders\": [\n",
    "    \"X:Y\",\n",
    "    \"city\"\n",
    "  ],\n",
    "  \"UsageNotes\": \"Replace [task description] with your specific task description.\",\n",
    "  \"EstimatedTime\": \"5-10 minutes\"\n",
    "}\n",
    "\"\"\";"
   ]
  },
  {
   "cell_type": "code",
   "execution_count": 142,
   "metadata": {
    "language_info": {
     "name": "polyglot-notebook"
    },
    "polyglot_notebook": {
     "kernelName": "csharp"
    }
   },
   "outputs": [
    {
     "data": {
      "text/html": [
       "<details open=\"open\" class=\"dni-treeview\"><summary><span class=\"dni-code-hint\"><code>Submission#130+Prompts</code></span></summary><div><table><thead><tr></tr></thead><tbody><tr><td>Id</td><td><div class=\"dni-plaintext\"><pre>1</pre></div></td></tr><tr><td>Title</td><td><div class=\"dni-plaintext\"><pre>create earth cake piece</pre></div></td></tr><tr><td>Content</td><td><div class=\"dni-plaintext\"><pre>create a stylish, hyper-realistic [x:y] poster of a post-apocalyptic\n",
       "[city] as a square diorama. the scene features ruined landmarks,\n",
       "layered terrain with exposed soil, water, and rocks for depth, and\n",
       "overgrown plants reclaiming the city. integrate the city&#39;s name &#39;[city]&#39;\n",
       "in sleek 3d white letters, blending organically into the landscape. use\n",
       "a cinematic, moody aesthetic-cracked structures, subtle fog, and\n",
       "dynamic lighting to make the decay feel dramatic yet elegant. place\n",
       "the diorama on a clean white background for contrast. ultra-detailed,\n",
       "high-resolution.</pre></div></td></tr><tr><td>Category</td><td><div class=\"dni-plaintext\"><pre>development</pre></div></td></tr><tr><td>Description</td><td><div class=\"dni-plaintext\"><pre>generate a piece of city like it cake</pre></div></td></tr><tr><td>Tags</td><td><div class=\"dni-plaintext\"><pre>[ earth ]</pre></div></td></tr><tr><td>Author</td><td><div class=\"dni-plaintext\"><pre>prompt generator</pre></div></td></tr><tr><td>Difficulty</td><td><div class=\"dni-plaintext\"><pre>beginner</pre></div></td></tr><tr><td>EstimatedTime</td><td><div class=\"dni-plaintext\"><pre>&lt;null&gt;</pre></div></td></tr><tr><td>CreatedAt</td><td><span>0001-01-01 00:00:00Z</span></td></tr><tr><td>UpdatedAt</td><td><span>0001-01-01 00:00:00Z</span></td></tr><tr><td>UsageCount</td><td><div class=\"dni-plaintext\"><pre>0</pre></div></td></tr><tr><td>AverageRating</td><td><div class=\"dni-plaintext\"><pre>0</pre></div></td></tr><tr><td>IsPublic</td><td><div class=\"dni-plaintext\"><pre>False</pre></div></td></tr><tr><td>Placeholders</td><td><table><thead><tr><th><i>index</i></th><th>value</th></tr></thead><tbody><tr><td>0</td><td><span>&quot;x:y&quot;</span></td></tr><tr><td>1</td><td><span>&quot;city&quot;</span></td></tr></tbody></table></td></tr><tr><td>UsageNotes</td><td><div class=\"dni-plaintext\"><pre>&lt;null&gt;</pre></div></td></tr></tbody></table></div></details><style>\r\n",
       ".dni-code-hint {\r\n",
       "    font-style: italic;\r\n",
       "    overflow: hidden;\r\n",
       "    white-space: nowrap;\r\n",
       "}\r\n",
       ".dni-treeview {\r\n",
       "    white-space: nowrap;\r\n",
       "}\r\n",
       ".dni-treeview td {\r\n",
       "    vertical-align: top;\r\n",
       "    text-align: start;\r\n",
       "}\r\n",
       "details.dni-treeview {\r\n",
       "    padding-left: 1em;\r\n",
       "}\r\n",
       "table td {\r\n",
       "    text-align: start;\r\n",
       "}\r\n",
       "table tr { \r\n",
       "    vertical-align: top; \r\n",
       "    margin: 0em 0px;\r\n",
       "}\r\n",
       "table tr td pre \r\n",
       "{ \r\n",
       "    vertical-align: top !important; \r\n",
       "    margin: 0em 0px !important;\r\n",
       "} \r\n",
       "table th {\r\n",
       "    text-align: start;\r\n",
       "}\r\n",
       "</style>"
      ]
     },
     "metadata": {},
     "output_type": "display_data"
    }
   ],
   "source": [
    "var data = JsonSerializer.Deserialize<Prompts>(jsonContent.ToLower());\n",
    "data"
   ]
  },
  {
   "cell_type": "code",
   "execution_count": 143,
   "metadata": {
    "language_info": {
     "name": "polyglot-notebook"
    },
    "polyglot_notebook": {
     "kernelName": "csharp"
    }
   },
   "outputs": [
    {
     "data": {
      "text/plain": [
       "/Volumes/External/SourceCode/Data/Prompt/data.json"
      ]
     },
     "metadata": {},
     "output_type": "display_data"
    }
   ],
   "source": [
    "var path = Path.Combine(Directory.GetCurrentDirectory(),newPromptCategoriesName);\n",
    "path"
   ]
  },
  {
   "cell_type": "code",
   "execution_count": 144,
   "metadata": {
    "language_info": {
     "name": "polyglot-notebook"
    },
    "polyglot_notebook": {
     "kernelName": "csharp"
    }
   },
   "outputs": [
    {
     "name": "stdout",
     "output_type": "stream",
     "text": [
      "Read All Contnent\n"
     ]
    },
    {
     "data": {
      "text/html": [
       "<table><thead><tr><th><i>index</i></th><th>value</th></tr></thead><tbody><tr><td>0</td><td><details class=\"dni-treeview\"><summary><span class=\"dni-code-hint\"><code>Submission#130+Prompts</code></span></summary><div><table><thead><tr></tr></thead><tbody><tr><td>Id</td><td><div class=\"dni-plaintext\"><pre>3</pre></div></td></tr><tr><td>Title</td><td><div class=\"dni-plaintext\"><pre>Creative Story Outline</pre></div></td></tr><tr><td>Content</td><td><div class=\"dni-plaintext\"><pre>Create a detailed story outline with the following elements:\n",
       "\n",
       "Genre: [Specify genre]\n",
       "Setting: [Time period and location]\n",
       "Main character: [Brief description]\n",
       "Central conflict: [Core problem/challenge]\n",
       "\n",
       "Include:\n",
       "1. Three-act structure breakdown\n",
       "2. Character arc progression\n",
       "3. 5 major plot points\n",
       "4. 3 subplots that interconnect\n",
       "5. Themes to explore\n",
       "6. Potential opening and closing scenes\n",
       "7. Unique twist or hook that sets it apart</pre></div></td></tr><tr><td>Category</td><td><div class=\"dni-plaintext\"><pre>creative-writing</pre></div></td></tr><tr><td>Description</td><td><div class=\"dni-plaintext\"><pre>Generate detailed story outlines with three-act structure and character development</pre></div></td></tr><tr><td>Tags</td><td><div class=\"dni-plaintext\"><pre>[ fiction, storytelling, outline ]</pre></div></td></tr><tr><td>Author</td><td><div class=\"dni-plaintext\"><pre>PromptVault Team</pre></div></td></tr><tr><td>Difficulty</td><td><div class=\"dni-plaintext\"><pre>beginner</pre></div></td></tr><tr><td>EstimatedTime</td><td><div class=\"dni-plaintext\"><pre>10-20 minutes</pre></div></td></tr><tr><td>CreatedAt</td><td><span>2024-01-08 00:00:00Z</span></td></tr><tr><td>UpdatedAt</td><td><span>2024-01-08 00:00:00Z</span></td></tr><tr><td>UsageCount</td><td><div class=\"dni-plaintext\"><pre>32</pre></div></td></tr><tr><td>AverageRating</td><td><div class=\"dni-plaintext\"><pre>4</pre></div></td></tr><tr><td>IsPublic</td><td><div class=\"dni-plaintext\"><pre>True</pre></div></td></tr><tr><td>Placeholders</td><td><i>(empty)</i></td></tr><tr><td>UsageNotes</td><td><div class=\"dni-plaintext\"><pre>&lt;null&gt;</pre></div></td></tr></tbody></table></div></details></td></tr><tr><td>1</td><td><details class=\"dni-treeview\"><summary><span class=\"dni-code-hint\"><code>Submission#130+Prompts</code></span></summary><div><table><thead><tr></tr></thead><tbody><tr><td>Id</td><td><div class=\"dni-plaintext\"><pre>4</pre></div></td></tr><tr><td>Title</td><td><div class=\"dni-plaintext\"><pre>Business Strategy Analysis</pre></div></td></tr><tr><td>Content</td><td><div class=\"dni-plaintext\"><pre>Conduct a comprehensive business strategy analysis for [Company/Industry]:\n",
       "\n",
       "1. SWOT Analysis\n",
       "  - Strengths (internal)\n",
       "  - Weaknesses (internal)\n",
       "  - Opportunities (external)\n",
       "  - Threats (external)\n",
       "\n",
       "2. Porter&#39;s Five Forces evaluation\n",
       "3. Competitive landscape assessment\n",
       "4. Market trend analysis\n",
       "5. Growth opportunities identification\n",
       "6. Risk mitigation strategies\n",
       "7. 3-year strategic roadmap with milestones\n",
       "8. Key performance indicators (KPIs) to track\n",
       "\n",
       "Provide actionable recommendations with priority levels.</pre></div></td></tr><tr><td>Category</td><td><div class=\"dni-plaintext\"><pre>business</pre></div></td></tr><tr><td>Description</td><td><div class=\"dni-plaintext\"><pre>Conduct comprehensive business strategy analysis with SWOT and Porter&#39;s Five Forces</pre></div></td></tr><tr><td>Tags</td><td><div class=\"dni-plaintext\"><pre>[ strategy, analysis, planning ]</pre></div></td></tr><tr><td>Author</td><td><div class=\"dni-plaintext\"><pre>PromptVault Team</pre></div></td></tr><tr><td>Difficulty</td><td><div class=\"dni-plaintext\"><pre>intermediate</pre></div></td></tr><tr><td>EstimatedTime</td><td><div class=\"dni-plaintext\"><pre></pre></div></td></tr><tr><td>CreatedAt</td><td><span>2024-01-05 00:00:00Z</span></td></tr><tr><td>UpdatedAt</td><td><span>2024-01-05 00:00:00Z</span></td></tr><tr><td>UsageCount</td><td><div class=\"dni-plaintext\"><pre>23</pre></div></td></tr><tr><td>AverageRating</td><td><div class=\"dni-plaintext\"><pre>4.3</pre></div></td></tr><tr><td>IsPublic</td><td><div class=\"dni-plaintext\"><pre>True</pre></div></td></tr><tr><td>Placeholders</td><td><i>(empty)</i></td></tr><tr><td>UsageNotes</td><td><div class=\"dni-plaintext\"><pre>&lt;null&gt;</pre></div></td></tr></tbody></table></div></details></td></tr><tr><td>2</td><td><details class=\"dni-treeview\"><summary><span class=\"dni-code-hint\"><code>Submission#130+Prompts</code></span></summary><div><table><thead><tr></tr></thead><tbody><tr><td>Id</td><td><div class=\"dni-plaintext\"><pre>5</pre></div></td></tr><tr><td>Title</td><td><div class=\"dni-plaintext\"><pre>Interactive Learning Module</pre></div></td></tr><tr><td>Content</td><td><div class=\"dni-plaintext\"><pre>Design an interactive learning module for teaching [Subject/Topic]:\n",
       "\n",
       "Target audience: [Age group/Level]\n",
       "Duration: [Time frame]\n",
       "Learning objectives: [List 3-5 objectives]\n",
       "\n",
       "Include:\n",
       "1. Pre-assessment questions\n",
       "2. Content broken into digestible sections\n",
       "3. Interactive elements (quizzes, simulations, discussions)\n",
       "4. Real-world application examples\n",
       "5. Visual aids and multimedia suggestions\n",
       "6. Practice exercises with varying difficulty\n",
       "7. Assessment rubric\n",
       "8. Additional resources for further learning\n",
       "\n",
       "Make it engaging and accommodate different learning styles.</pre></div></td></tr><tr><td>Category</td><td><div class=\"dni-plaintext\"><pre>education</pre></div></td></tr><tr><td>Description</td><td><div class=\"dni-plaintext\"><pre>Design interactive learning modules with assessments and multimedia elements</pre></div></td></tr><tr><td>Tags</td><td><div class=\"dni-plaintext\"><pre>[ teaching, curriculum, interactive ]</pre></div></td></tr><tr><td>Author</td><td><div class=\"dni-plaintext\"><pre>PromptVault Team</pre></div></td></tr><tr><td>Difficulty</td><td><div class=\"dni-plaintext\"><pre>intermediate</pre></div></td></tr><tr><td>EstimatedTime</td><td><div class=\"dni-plaintext\"><pre></pre></div></td></tr><tr><td>CreatedAt</td><td><span>2024-01-03 00:00:00Z</span></td></tr><tr><td>UpdatedAt</td><td><span>2024-01-03 00:00:00Z</span></td></tr><tr><td>UsageCount</td><td><div class=\"dni-plaintext\"><pre>19</pre></div></td></tr><tr><td>AverageRating</td><td><div class=\"dni-plaintext\"><pre>4.1</pre></div></td></tr><tr><td>IsPublic</td><td><div class=\"dni-plaintext\"><pre>True</pre></div></td></tr><tr><td>Placeholders</td><td><i>(empty)</i></td></tr><tr><td>UsageNotes</td><td><div class=\"dni-plaintext\"><pre>&lt;null&gt;</pre></div></td></tr></tbody></table></div></details></td></tr><tr><td>3</td><td><details class=\"dni-treeview\"><summary><span class=\"dni-code-hint\"><code>Submission#130+Prompts</code></span></summary><div><table><thead><tr></tr></thead><tbody><tr><td>Id</td><td><div class=\"dni-plaintext\"><pre>6</pre></div></td></tr><tr><td>Title</td><td><div class=\"dni-plaintext\"><pre>API Documentation Template</pre></div></td></tr><tr><td>Content</td><td><div class=\"dni-plaintext\"><pre>Create comprehensive API documentation for [API Name]:\n",
       "\n",
       "Base URL: [Your API URL]\n",
       "Authentication: [Method used]\n",
       "\n",
       "For each endpoint, document:\n",
       "1. HTTP method and path\n",
       "2. Description and use case\n",
       "3. Request parameters (query, path, body)\n",
       "4. Request/response examples\n",
       "5. Status codes and error handling\n",
       "6. Rate limiting information\n",
       "7. Versioning details\n",
       "8. Code examples in multiple languages (curl, JavaScript, Python)\n",
       "\n",
       "Include getting started guide and best practices section.</pre></div></td></tr><tr><td>Category</td><td><div class=\"dni-plaintext\"><pre>technology</pre></div></td></tr><tr><td>Description</td><td><div class=\"dni-plaintext\"><pre>Generate detailed API documentation with examples and best practices</pre></div></td></tr><tr><td>Tags</td><td><div class=\"dni-plaintext\"><pre>[ API, documentation, technical ]</pre></div></td></tr><tr><td>Author</td><td><div class=\"dni-plaintext\"><pre>PromptVault Team</pre></div></td></tr><tr><td>Difficulty</td><td><div class=\"dni-plaintext\"><pre>intermediate</pre></div></td></tr><tr><td>EstimatedTime</td><td><div class=\"dni-plaintext\"><pre></pre></div></td></tr><tr><td>CreatedAt</td><td><span>2024-01-01 00:00:00Z</span></td></tr><tr><td>UpdatedAt</td><td><span>2024-01-01 00:00:00Z</span></td></tr><tr><td>UsageCount</td><td><div class=\"dni-plaintext\"><pre>67</pre></div></td></tr><tr><td>AverageRating</td><td><div class=\"dni-plaintext\"><pre>4.4</pre></div></td></tr><tr><td>IsPublic</td><td><div class=\"dni-plaintext\"><pre>True</pre></div></td></tr><tr><td>Placeholders</td><td><i>(empty)</i></td></tr><tr><td>UsageNotes</td><td><div class=\"dni-plaintext\"><pre>&lt;null&gt;</pre></div></td></tr></tbody></table></div></details></td></tr><tr><td>4</td><td><details class=\"dni-treeview\"><summary><span class=\"dni-code-hint\"><code>Submission#130+Prompts</code></span></summary><div><table><thead><tr></tr></thead><tbody><tr><td>Id</td><td><div class=\"dni-plaintext\"><pre>7</pre></div></td></tr><tr><td>Title</td><td><div class=\"dni-plaintext\"><pre>Comedy Sketch Generator</pre></div></td></tr><tr><td>Content</td><td><div class=\"dni-plaintext\"><pre>Write a comedy sketch with the following parameters:\n",
       "\n",
       "Setting: [Location/Situation]\n",
       "Characters: [2-4 character types]\n",
       "Duration: [3-5 minutes when performed]\n",
       "Comedy style: [Observational/Absurdist/Satirical/Physical]\n",
       "\n",
       "Include:\n",
       "1. Strong opening hook\n",
       "2. Escalating absurdity or conflict\n",
       "3. Callback jokes to earlier setup\n",
       "4. Physical comedy opportunities\n",
       "5. Unexpected twist or reversal\n",
       "6. Punchy ending/punchline\n",
       "7. Stage directions for timing\n",
       "\n",
       "Make it relatable while pushing boundaries of the absurd.</pre></div></td></tr><tr><td>Category</td><td><div class=\"dni-plaintext\"><pre>fun</pre></div></td></tr><tr><td>Description</td><td><div class=\"dni-plaintext\"><pre>Generate comedy sketches with various styles and timing</pre></div></td></tr><tr><td>Tags</td><td><div class=\"dni-plaintext\"><pre>[ comedy, entertainment, creative ]</pre></div></td></tr><tr><td>Author</td><td><div class=\"dni-plaintext\"><pre>PromptVault Team</pre></div></td></tr><tr><td>Difficulty</td><td><div class=\"dni-plaintext\"><pre>beginner</pre></div></td></tr><tr><td>EstimatedTime</td><td><div class=\"dni-plaintext\"><pre></pre></div></td></tr><tr><td>CreatedAt</td><td><span>2023-12-28 00:00:00Z</span></td></tr><tr><td>UpdatedAt</td><td><span>2023-12-28 00:00:00Z</span></td></tr><tr><td>UsageCount</td><td><div class=\"dni-plaintext\"><pre>89</pre></div></td></tr><tr><td>AverageRating</td><td><div class=\"dni-plaintext\"><pre>4.6</pre></div></td></tr><tr><td>IsPublic</td><td><div class=\"dni-plaintext\"><pre>True</pre></div></td></tr><tr><td>Placeholders</td><td><i>(empty)</i></td></tr><tr><td>UsageNotes</td><td><div class=\"dni-plaintext\"><pre>&lt;null&gt;</pre></div></td></tr></tbody></table></div></details></td></tr><tr><td>5</td><td><details class=\"dni-treeview\"><summary><span class=\"dni-code-hint\"><code>Submission#130+Prompts</code></span></summary><div><table><thead><tr></tr></thead><tbody><tr><td>Id</td><td><div class=\"dni-plaintext\"><pre>8</pre></div></td></tr><tr><td>Title</td><td><div class=\"dni-plaintext\"><pre>Personal Productivity System</pre></div></td></tr><tr><td>Content</td><td><div class=\"dni-plaintext\"><pre>Design a personalized productivity system based on:\n",
       "\n",
       "Work style: [Deep work/Collaborative/Hybrid]\n",
       "Main challenges: [List your productivity blockers]\n",
       "Tools available: [Digital/Analog/Both]\n",
       "Time constraints: [Daily schedule overview]\n",
       "\n",
       "Create:\n",
       "1. Morning routine optimization\n",
       "2. Task prioritization framework\n",
       "3. Time-blocking schedule template\n",
       "4. Focus session structure\n",
       "5. Break and recovery protocols\n",
       "6. Weekly review process\n",
       "7. Goal-setting methodology\n",
       "8. Habit tracking system\n",
       "9. Distraction elimination strategies\n",
       "\n",
       "Include specific tools and apps recommendations.</pre></div></td></tr><tr><td>Category</td><td><div class=\"dni-plaintext\"><pre>productivity</pre></div></td></tr><tr><td>Description</td><td><div class=\"dni-plaintext\"><pre>Create personalized productivity systems with tools and strategies</pre></div></td></tr><tr><td>Tags</td><td><div class=\"dni-plaintext\"><pre>[ efficiency, time-management, organization ]</pre></div></td></tr><tr><td>Author</td><td><div class=\"dni-plaintext\"><pre>PromptVault Team</pre></div></td></tr><tr><td>Difficulty</td><td><div class=\"dni-plaintext\"><pre>intermediate</pre></div></td></tr><tr><td>EstimatedTime</td><td><div class=\"dni-plaintext\"><pre></pre></div></td></tr><tr><td>CreatedAt</td><td><span>2023-12-25 00:00:00Z</span></td></tr><tr><td>UpdatedAt</td><td><span>2023-12-25 00:00:00Z</span></td></tr><tr><td>UsageCount</td><td><div class=\"dni-plaintext\"><pre>56</pre></div></td></tr><tr><td>AverageRating</td><td><div class=\"dni-plaintext\"><pre>4.2</pre></div></td></tr><tr><td>IsPublic</td><td><div class=\"dni-plaintext\"><pre>True</pre></div></td></tr><tr><td>Placeholders</td><td><i>(empty)</i></td></tr><tr><td>UsageNotes</td><td><div class=\"dni-plaintext\"><pre>&lt;null&gt;</pre></div></td></tr></tbody></table></div></details></td></tr><tr><td>6</td><td><details class=\"dni-treeview\"><summary><span class=\"dni-code-hint\"><code>Submission#130+Prompts</code></span></summary><div><table><thead><tr></tr></thead><tbody><tr><td>Id</td><td><div class=\"dni-plaintext\"><pre>9</pre></div></td></tr><tr><td>Title</td><td><div class=\"dni-plaintext\"><pre>Data Visualization Dashboard</pre></div></td></tr><tr><td>Content</td><td><div class=\"dni-plaintext\"><pre>Design a data visualization dashboard for [Dataset/Business Area]:\n",
       "\n",
       "Data sources: [List available data]\n",
       "Key metrics: [What needs tracking]\n",
       "Update frequency: [Real-time/Daily/Weekly]\n",
       "Users: [Who will use this]\n",
       "\n",
       "Include:\n",
       "1. Dashboard layout and information hierarchy\n",
       "2. Chart types for each metric (bar, line, pie, etc.)\n",
       "3. Color scheme and visual design principles\n",
       "4. Interactive filtering options\n",
       "5. Drill-down capabilities\n",
       "6. Export and sharing features\n",
       "7. Mobile responsiveness considerations\n",
       "8. Performance optimization strategies\n",
       "9. Alert and threshold configurations\n",
       "\n",
       "Provide implementation suggestions using modern BI tools.</pre></div></td></tr><tr><td>Category</td><td><div class=\"dni-plaintext\"><pre>data-analysis</pre></div></td></tr><tr><td>Description</td><td><div class=\"dni-plaintext\"><pre>Design comprehensive data visualization dashboards with modern BI tools</pre></div></td></tr><tr><td>Tags</td><td><div class=\"dni-plaintext\"><pre>[ visualization, dashboard, analytics ]</pre></div></td></tr><tr><td>Author</td><td><div class=\"dni-plaintext\"><pre>PromptVault Team</pre></div></td></tr><tr><td>Difficulty</td><td><div class=\"dni-plaintext\"><pre>advanced</pre></div></td></tr><tr><td>EstimatedTime</td><td><div class=\"dni-plaintext\"><pre></pre></div></td></tr><tr><td>CreatedAt</td><td><span>2023-12-22 00:00:00Z</span></td></tr><tr><td>UpdatedAt</td><td><span>2023-12-22 00:00:00Z</span></td></tr><tr><td>UsageCount</td><td><div class=\"dni-plaintext\"><pre>34</pre></div></td></tr><tr><td>AverageRating</td><td><div class=\"dni-plaintext\"><pre>4.3</pre></div></td></tr><tr><td>IsPublic</td><td><div class=\"dni-plaintext\"><pre>True</pre></div></td></tr><tr><td>Placeholders</td><td><i>(empty)</i></td></tr><tr><td>UsageNotes</td><td><div class=\"dni-plaintext\"><pre>&lt;null&gt;</pre></div></td></tr></tbody></table></div></details></td></tr><tr><td>7</td><td><details class=\"dni-treeview\"><summary><span class=\"dni-code-hint\"><code>Submission#130+Prompts</code></span></summary><div><table><thead><tr></tr></thead><tbody><tr><td>Id</td><td><div class=\"dni-plaintext\"><pre>10</pre></div></td></tr><tr><td>Title</td><td><div class=\"dni-plaintext\"><pre>Social Media Content Calendar</pre></div></td></tr><tr><td>Content</td><td><div class=\"dni-plaintext\"><pre>Create a 30-day social media content calendar for [Brand/Purpose]:\n",
       "\n",
       "Platforms: [List your platforms]\n",
       "Posting frequency: [Daily/Weekly per platform]\n",
       "Brand voice: [Describe tone and style]\n",
       "Goals: [Engagement/Sales/Awareness]\n",
       "\n",
       "For each post include:\n",
       "1. Platform-specific content format\n",
       "2. Caption with hashtags\n",
       "3. Visual content description\n",
       "4. Best posting time\n",
       "5. Call-to-action\n",
       "6. Engagement strategy\n",
       "7. Cross-platform synergy\n",
       "\n",
       "Mix content types: Educational, entertaining, promotional, user-generated, behind-the-scenes.</pre></div></td></tr><tr><td>Category</td><td><div class=\"dni-plaintext\"><pre>marketing</pre></div></td></tr><tr><td>Description</td><td><div class=\"dni-plaintext\"><pre>Create comprehensive social media content calendars with engagement strategies</pre></div></td></tr><tr><td>Tags</td><td><div class=\"dni-plaintext\"><pre>[ social media, content, planning ]</pre></div></td></tr><tr><td>Author</td><td><div class=\"dni-plaintext\"><pre>PromptVault Team</pre></div></td></tr><tr><td>Difficulty</td><td><div class=\"dni-plaintext\"><pre>intermediate</pre></div></td></tr><tr><td>EstimatedTime</td><td><div class=\"dni-plaintext\"><pre></pre></div></td></tr><tr><td>CreatedAt</td><td><span>2023-12-20 00:00:00Z</span></td></tr><tr><td>UpdatedAt</td><td><span>2023-12-20 00:00:00Z</span></td></tr><tr><td>UsageCount</td><td><div class=\"dni-plaintext\"><pre>42</pre></div></td></tr><tr><td>AverageRating</td><td><div class=\"dni-plaintext\"><pre>4.1</pre></div></td></tr><tr><td>IsPublic</td><td><div class=\"dni-plaintext\"><pre>True</pre></div></td></tr><tr><td>Placeholders</td><td><i>(empty)</i></td></tr><tr><td>UsageNotes</td><td><div class=\"dni-plaintext\"><pre>&lt;null&gt;</pre></div></td></tr></tbody></table></div></details></td></tr><tr><td>8</td><td><details class=\"dni-treeview\"><summary><span class=\"dni-code-hint\"><code>Submission#130+Prompts</code></span></summary><div><table><thead><tr></tr></thead><tbody><tr><td>Id</td><td><div class=\"dni-plaintext\"><pre>11</pre></div></td></tr><tr><td>Title</td><td><div class=\"dni-plaintext\"><pre>Website Design Brief</pre></div></td></tr><tr><td>Content</td><td><div class=\"dni-plaintext\"><pre>Create a comprehensive website design brief for [Company Name]:\n",
       "\n",
       "Business Type: [Select business type]\n",
       "Target Audience: [Describe your target audience]\n",
       "Website Purpose: [What should the website accomplish]\n",
       "Brand Colors: [Primary and secondary colors]\n",
       "Tone: [Professional/Casual/Creative/Technical]\n",
       "Key Pages: [List main pages needed]\n",
       "Budget Range: [Select budget range]\n",
       "Timeline: [Project duration]\n",
       "\n",
       "Include:\n",
       "1. User experience goals\n",
       "2. Visual design preferences\n",
       "3. Content requirements\n",
       "4. Technical specifications\n",
       "5. Success metrics\n",
       "6. Competitor analysis\n",
       "7. Mobile responsiveness needs\n",
       "8. Accessibility requirements</pre></div></td></tr><tr><td>Category</td><td><div class=\"dni-plaintext\"><pre>development</pre></div></td></tr><tr><td>Description</td><td><div class=\"dni-plaintext\"><pre>Create comprehensive website design briefs with technical specifications</pre></div></td></tr><tr><td>Tags</td><td><div class=\"dni-plaintext\"><pre>[ web design, brief, planning ]</pre></div></td></tr><tr><td>Author</td><td><div class=\"dni-plaintext\"><pre>PromptVault Team</pre></div></td></tr><tr><td>Difficulty</td><td><div class=\"dni-plaintext\"><pre>intermediate</pre></div></td></tr><tr><td>EstimatedTime</td><td><div class=\"dni-plaintext\"><pre></pre></div></td></tr><tr><td>CreatedAt</td><td><span>2023-12-18 00:00:00Z</span></td></tr><tr><td>UpdatedAt</td><td><span>2023-12-18 00:00:00Z</span></td></tr><tr><td>UsageCount</td><td><div class=\"dni-plaintext\"><pre>28</pre></div></td></tr><tr><td>AverageRating</td><td><div class=\"dni-plaintext\"><pre>4</pre></div></td></tr><tr><td>IsPublic</td><td><div class=\"dni-plaintext\"><pre>True</pre></div></td></tr><tr><td>Placeholders</td><td><i>(empty)</i></td></tr><tr><td>UsageNotes</td><td><div class=\"dni-plaintext\"><pre>Use the form to customize this brief for your specific project needs.</pre></div></td></tr></tbody></table></div></details></td></tr><tr><td>9</td><td><details class=\"dni-treeview\"><summary><span class=\"dni-code-hint\"><code>Submission#130+Prompts</code></span></summary><div><table><thead><tr></tr></thead><tbody><tr><td>Id</td><td><div class=\"dni-plaintext\"><pre>12</pre></div></td></tr><tr><td>Title</td><td><div class=\"dni-plaintext\"><pre>Email Newsletter Template</pre></div></td></tr><tr><td>Content</td><td><div class=\"dni-plaintext\"><pre>Design an email newsletter template for [Newsletter Name]:\n",
       "\n",
       "Industry: [Select your industry]\n",
       "Audience Size: [Number of subscribers]\n",
       "Frequency: [How often you send]\n",
       "Content Focus: [What type of content]\n",
       "Brand Voice: [Describe your tone]\n",
       "Call-to-Action: [What action should readers take]\n",
       "\n",
       "Include:\n",
       "1. Header design with logo placement\n",
       "2. Navigation menu\n",
       "3. Featured article section\n",
       "4. Secondary content blocks\n",
       "5. Social media links\n",
       "6. Footer with contact info\n",
       "7. Mobile optimization\n",
       "8. A/B testing suggestions\n",
       "9. Subject line recommendations\n",
       "10. Unsubscribe compliance</pre></div></td></tr><tr><td>Category</td><td><div class=\"dni-plaintext\"><pre>marketing</pre></div></td></tr><tr><td>Description</td><td><div class=\"dni-plaintext\"><pre>Design professional email newsletter templates with mobile optimization</pre></div></td></tr><tr><td>Tags</td><td><div class=\"dni-plaintext\"><pre>[ email, newsletter, template ]</pre></div></td></tr><tr><td>Author</td><td><div class=\"dni-plaintext\"><pre>PromptVault Team</pre></div></td></tr><tr><td>Difficulty</td><td><div class=\"dni-plaintext\"><pre>beginner</pre></div></td></tr><tr><td>EstimatedTime</td><td><div class=\"dni-plaintext\"><pre></pre></div></td></tr><tr><td>CreatedAt</td><td><span>2023-12-15 00:00:00Z</span></td></tr><tr><td>UpdatedAt</td><td><span>2023-12-15 00:00:00Z</span></td></tr><tr><td>UsageCount</td><td><div class=\"dni-plaintext\"><pre>51</pre></div></td></tr><tr><td>AverageRating</td><td><div class=\"dni-plaintext\"><pre>4.4</pre></div></td></tr><tr><td>IsPublic</td><td><div class=\"dni-plaintext\"><pre>True</pre></div></td></tr><tr><td>Placeholders</td><td><i>(empty)</i></td></tr><tr><td>UsageNotes</td><td><div class=\"dni-plaintext\"><pre>Customize the template based on your brand and audience preferences.</pre></div></td></tr></tbody></table></div></details></td></tr></tbody></table><style>\r\n",
       ".dni-code-hint {\r\n",
       "    font-style: italic;\r\n",
       "    overflow: hidden;\r\n",
       "    white-space: nowrap;\r\n",
       "}\r\n",
       ".dni-treeview {\r\n",
       "    white-space: nowrap;\r\n",
       "}\r\n",
       ".dni-treeview td {\r\n",
       "    vertical-align: top;\r\n",
       "    text-align: start;\r\n",
       "}\r\n",
       "details.dni-treeview {\r\n",
       "    padding-left: 1em;\r\n",
       "}\r\n",
       "table td {\r\n",
       "    text-align: start;\r\n",
       "}\r\n",
       "table tr { \r\n",
       "    vertical-align: top; \r\n",
       "    margin: 0em 0px;\r\n",
       "}\r\n",
       "table tr td pre \r\n",
       "{ \r\n",
       "    vertical-align: top !important; \r\n",
       "    margin: 0em 0px !important;\r\n",
       "} \r\n",
       "table th {\r\n",
       "    text-align: start;\r\n",
       "}\r\n",
       "</style>"
      ]
     },
     "metadata": {},
     "output_type": "display_data"
    }
   ],
   "source": [
    "var allPrompts =new List<Prompts>();\n",
    "if(!Path.Exists(path))\n",
    "{\n",
    "    Console.WriteLine(\"Boom lost Me\");\n",
    "    File.WriteAllText(newPromptCategoriesName,JsonSerializer.Serialize(allPrompts));\n",
    "}\n",
    "else\n",
    "{\n",
    "    Console.WriteLine(\"Read All Contnent\");\n",
    "    var allPromptsData = File.ReadAllText(newPromptCategoriesName);\n",
    "    if(allPromptsData.Trim().Length==0)\n",
    "    {\n",
    "        allPromptsData =\"[]\";\n",
    "    }\n",
    "    allPrompts = JsonSerializer.Deserialize<List<Prompts>>(allPromptsData);\n",
    "}\n",
    "allPrompts"
   ]
  },
  {
   "cell_type": "code",
   "execution_count": 145,
   "metadata": {
    "language_info": {
     "name": "polyglot-notebook"
    },
    "polyglot_notebook": {
     "kernelName": "csharp"
    }
   },
   "outputs": [],
   "source": [
    "foreach(var item in allPrompts)\n",
    "{\n",
    "    item.Id =  Guid.NewGuid().ToString();\n",
    "}"
   ]
  },
  {
   "cell_type": "code",
   "execution_count": null,
   "metadata": {
    "language_info": {
     "name": "polyglot-notebook"
    },
    "polyglot_notebook": {
     "kernelName": "csharp"
    }
   },
   "outputs": [
    {
     "data": {
      "text/html": [
       "<table><thead><tr><th><i>index</i></th><th>value</th></tr></thead><tbody><tr><td>0</td><td><details class=\"dni-treeview\"><summary><span class=\"dni-code-hint\"><code>Submission#100+Prompts</code></span></summary><div><table><thead><tr></tr></thead><tbody><tr><td>Id</td><td><div class=\"dni-plaintext\"><pre>1</pre></div></td></tr><tr><td>Title</td><td><div class=\"dni-plaintext\"><pre>create earth cake piece</pre></div></td></tr><tr><td>Content</td><td><div class=\"dni-plaintext\"><pre>create a stylish, hyper-realistic [x:y] poster of a post-apocalyptic\n",
       "[city] as a square diorama. the scene features ruined landmarks,\n",
       "layered terrain with exposed soil, water, and rocks for depth, and\n",
       "overgrown plants reclaiming the city. integrate the city&#39;s name &#39;[city]&#39;\n",
       "in sleek 3d white letters, blending organically into the landscape. use\n",
       "a cinematic, moody aesthetic-cracked structures, subtle fog, and\n",
       "dynamic lighting to make the decay feel dramatic yet elegant. place\n",
       "the diorama on a clean white background for contrast. ultra-detailed,\n",
       "high-resolution.</pre></div></td></tr><tr><td>Category</td><td><div class=\"dni-plaintext\"><pre>development</pre></div></td></tr><tr><td>Description</td><td><div class=\"dni-plaintext\"><pre>generate a piece of city like it cake</pre></div></td></tr><tr><td>Tags</td><td><div class=\"dni-plaintext\"><pre>[ earth ]</pre></div></td></tr><tr><td>Author</td><td><div class=\"dni-plaintext\"><pre>prompt generator</pre></div></td></tr><tr><td>Difficulty</td><td><div class=\"dni-plaintext\"><pre>beginner</pre></div></td></tr><tr><td>EstimatedTime</td><td><div class=\"dni-plaintext\"><pre>&lt;null&gt;</pre></div></td></tr><tr><td>CreatedAt</td><td><span>0001-01-01 00:00:00Z</span></td></tr><tr><td>UpdatedAt</td><td><span>0001-01-01 00:00:00Z</span></td></tr><tr><td>UsageCount</td><td><div class=\"dni-plaintext\"><pre>0</pre></div></td></tr><tr><td>AverageRating</td><td><div class=\"dni-plaintext\"><pre>0</pre></div></td></tr><tr><td>IsPublic</td><td><div class=\"dni-plaintext\"><pre>False</pre></div></td></tr><tr><td>Placeholders</td><td><table><thead><tr><th><i>index</i></th><th>value</th></tr></thead><tbody><tr><td>0</td><td><span>&quot;x:y&quot;</span></td></tr><tr><td>1</td><td><span>&quot;city&quot;</span></td></tr></tbody></table></td></tr><tr><td>UsageNotes</td><td><div class=\"dni-plaintext\"><pre>&lt;null&gt;</pre></div></td></tr></tbody></table></div></details></td></tr></tbody></table><style>\r\n",
       ".dni-code-hint {\r\n",
       "    font-style: italic;\r\n",
       "    overflow: hidden;\r\n",
       "    white-space: nowrap;\r\n",
       "}\r\n",
       ".dni-treeview {\r\n",
       "    white-space: nowrap;\r\n",
       "}\r\n",
       ".dni-treeview td {\r\n",
       "    vertical-align: top;\r\n",
       "    text-align: start;\r\n",
       "}\r\n",
       "details.dni-treeview {\r\n",
       "    padding-left: 1em;\r\n",
       "}\r\n",
       "table td {\r\n",
       "    text-align: start;\r\n",
       "}\r\n",
       "table tr { \r\n",
       "    vertical-align: top; \r\n",
       "    margin: 0em 0px;\r\n",
       "}\r\n",
       "table tr td pre \r\n",
       "{ \r\n",
       "    vertical-align: top !important; \r\n",
       "    margin: 0em 0px !important;\r\n",
       "} \r\n",
       "table th {\r\n",
       "    text-align: start;\r\n",
       "}\r\n",
       "</style>"
      ]
     },
     "metadata": {},
     "output_type": "display_data"
    }
   ],
   "source": [
    "if(!allPrompts.Any(x=>x.Content == prompt.Content))\n",
    "{\n",
    "    //allPrompts.Add(data);\n",
    "}\n",
    "allPrompts"
   ]
  },
  {
   "cell_type": "code",
   "execution_count": 146,
   "metadata": {
    "language_info": {
     "name": "polyglot-notebook"
    },
    "polyglot_notebook": {
     "kernelName": "csharp"
    }
   },
   "outputs": [],
   "source": [
    "File.WriteAllText(newPromptCategoriesName,JsonSerializer.Serialize(allPrompts))"
   ]
  }
 ],
 "metadata": {
  "kernelspec": {
   "display_name": ".NET (C#)",
   "language": "C#",
   "name": ".net-csharp"
  },
  "language_info": {
   "name": "polyglot-notebook"
  },
  "polyglot_notebook": {
   "kernelInfo": {
    "defaultKernelName": "csharp",
    "items": [
     {
      "aliases": [],
      "name": "csharp"
     }
    ]
   }
  }
 },
 "nbformat": 4,
 "nbformat_minor": 5
}
