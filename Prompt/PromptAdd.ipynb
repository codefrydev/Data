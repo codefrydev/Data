{
 "cells": [
  {
   "cell_type": "code",
   "execution_count": 58,
   "id": "795e3d7f",
   "metadata": {
    "language_info": {
     "name": "polyglot-notebook"
    },
    "polyglot_notebook": {
     "kernelName": "csharp"
    }
   },
   "outputs": [],
   "source": [
    "using System.Text.Json;\n",
    "using System.Linq;\n",
    "using System.Collections.Generic;\n",
    "using System.Text.Json.Serialization;\n",
    "using System.IO;"
   ]
  },
  {
   "cell_type": "code",
   "execution_count": 59,
   "id": "243af3e7",
   "metadata": {
    "language_info": {
     "name": "polyglot-notebook"
    },
    "polyglot_notebook": {
     "kernelName": "csharp"
    }
   },
   "outputs": [],
   "source": [
    "public class Prompts\n",
    "{\n",
    "    [JsonPropertyName(\"id\")]\n",
    "    public string Id { get; set; }\n",
    "\n",
    "    [JsonPropertyName(\"title\")]\n",
    "    public string Title { get; set; }\n",
    "\n",
    "    [JsonPropertyName(\"content\")]\n",
    "    public string Content { get; set; }\n",
    "\n",
    "    [JsonPropertyName(\"category\")]\n",
    "    public string Category { get; set; }\n",
    "\n",
    "    [JsonPropertyName(\"description\")]\n",
    "    public string Description { get; set; }\n",
    "\n",
    "    [JsonPropertyName(\"tags\")]\n",
    "    public List<string> Tags { get; set; }\n",
    "\n",
    "    [JsonPropertyName(\"author\")]\n",
    "    public string Author { get; set; }\n",
    "\n",
    "    [JsonPropertyName(\"difficulty\")]\n",
    "    public string Difficulty { get; set; }\n",
    "\n",
    "    [JsonPropertyName(\"estimatedTime\")]\n",
    "    public string EstimatedTime { get; set; }\n",
    "\n",
    "    [JsonPropertyName(\"createdAt\")]\n",
    "    public DateTime CreatedAt { get; set; }\n",
    "\n",
    "    [JsonPropertyName(\"updatedAt\")]\n",
    "    public DateTime UpdatedAt { get; set; }\n",
    "\n",
    "    [JsonPropertyName(\"usageCount\")]\n",
    "    public int UsageCount { get; set; }\n",
    "\n",
    "    [JsonPropertyName(\"averageRating\")]\n",
    "    public double AverageRating { get; set; }\n",
    "\n",
    "    [JsonPropertyName(\"isPublic\")]\n",
    "    public bool IsPublic { get; set; }\n",
    "\n",
    "    [JsonPropertyName(\"placeholders\")]\n",
    "    public List<object> Placeholders { get; set; }\n",
    "\n",
    "    [JsonPropertyName(\"usageNotes\")]\n",
    "    public string UsageNotes { get; set; }\n",
    "}"
   ]
  },
  {
   "cell_type": "code",
   "execution_count": 60,
   "id": "05c9d419",
   "metadata": {
    "language_info": {
     "name": "polyglot-notebook"
    },
    "polyglot_notebook": {
     "kernelName": "csharp"
    }
   },
   "outputs": [],
   "source": [
    "public class Category\n",
    "{\n",
    "    [JsonPropertyName(\"id\")]\n",
    "    public string Id { get; set; }\n",
    "\n",
    "    [JsonPropertyName(\"name\")]\n",
    "    public string Name { get; set; }\n",
    "\n",
    "    [JsonPropertyName(\"description\")]\n",
    "    public string Description { get; set; }\n",
    "\n",
    "    [JsonPropertyName(\"icon\")]\n",
    "    public string Icon { get; set; }\n",
    "\n",
    "    [JsonPropertyName(\"color\")]\n",
    "    public string Color { get; set; }\n",
    "\n",
    "    [JsonPropertyName(\"promptCount\")]\n",
    "    public int PromptCount { get; set; }\n",
    "\n",
    "    [JsonPropertyName(\"sortOrder\")]\n",
    "    public int SortOrder { get; set; }\n",
    "\n",
    "    [JsonPropertyName(\"filePathName\")]\n",
    "    public string FilePathName { get; set; }\n",
    "}\n",
    "\n",
    "public class AllSource\n",
    "{\n",
    "    [JsonPropertyName(\"categories\")]\n",
    "    public List<Category> Categories { get; set; }\n",
    "}"
   ]
  },
  {
   "cell_type": "code",
   "execution_count": 61,
   "metadata": {
    "language_info": {
     "name": "polyglot-notebook"
    },
    "polyglot_notebook": {
     "kernelName": "csharp"
    }
   },
   "outputs": [],
   "source": [
    "var allSourcePath =\"allsources.json\";"
   ]
  },
  {
   "cell_type": "code",
   "execution_count": 62,
   "metadata": {
    "language_info": {
     "name": "polyglot-notebook"
    },
    "polyglot_notebook": {
     "kernelName": "csharp"
    }
   },
   "outputs": [],
   "source": [
    "var newPromptCategoriesName =\"blazor.json\";"
   ]
  },
  {
   "cell_type": "code",
   "execution_count": 63,
   "metadata": {
    "language_info": {
     "name": "polyglot-notebook"
    },
    "polyglot_notebook": {
     "kernelName": "csharp"
    }
   },
   "outputs": [],
   "source": [
    "var allSourceResponse = File.ReadAllText(allSourcePath);\n"
   ]
  },
  {
   "cell_type": "code",
   "execution_count": 64,
   "id": "60a7ef5d",
   "metadata": {
    "language_info": {
     "name": "polyglot-notebook"
    },
    "polyglot_notebook": {
     "kernelName": "csharp"
    }
   },
   "outputs": [
    {
     "data": {
      "text/html": [
       "<table><thead><tr><th><i>index</i></th><th>value</th></tr></thead><tbody><tr><td>0</td><td><details class=\"dni-treeview\"><summary><span class=\"dni-code-hint\"><code>Submission#60+Category</code></span></summary><div><table><thead><tr></tr></thead><tbody><tr><td>Id</td><td><div class=\"dni-plaintext\"><pre>1</pre></div></td></tr><tr><td>Name</td><td><div class=\"dni-plaintext\"><pre>Productivity</pre></div></td></tr><tr><td>Description</td><td><div class=\"dni-plaintext\"><pre>Prompts related to time management and efficiency</pre></div></td></tr><tr><td>Icon</td><td><div class=\"dni-plaintext\"><pre>fa-clock</pre></div></td></tr><tr><td>Color</td><td><div class=\"dni-plaintext\"><pre>#FF5733</pre></div></td></tr><tr><td>PromptCount</td><td><div class=\"dni-plaintext\"><pre>25</pre></div></td></tr><tr><td>SortOrder</td><td><div class=\"dni-plaintext\"><pre>1</pre></div></td></tr><tr><td>FilePathName</td><td><div class=\"dni-plaintext\"><pre>data.json</pre></div></td></tr></tbody></table></div></details></td></tr><tr><td>1</td><td><details class=\"dni-treeview\"><summary><span class=\"dni-code-hint\"><code>Submission#60+Category</code></span></summary><div><table><thead><tr></tr></thead><tbody><tr><td>Id</td><td><div class=\"dni-plaintext\"><pre>2</pre></div></td></tr><tr><td>Name</td><td><div class=\"dni-plaintext\"><pre>Marketing</pre></div></td></tr><tr><td>Description</td><td><div class=\"dni-plaintext\"><pre>Prompts related to Marketing</pre></div></td></tr><tr><td>Icon</td><td><div class=\"dni-plaintext\"><pre>fa-clock</pre></div></td></tr><tr><td>Color</td><td><div class=\"dni-plaintext\"><pre>#FF5733</pre></div></td></tr><tr><td>PromptCount</td><td><div class=\"dni-plaintext\"><pre>25</pre></div></td></tr><tr><td>SortOrder</td><td><div class=\"dni-plaintext\"><pre>1</pre></div></td></tr><tr><td>FilePathName</td><td><div class=\"dni-plaintext\"><pre>marketing.json</pre></div></td></tr></tbody></table></div></details></td></tr><tr><td>2</td><td><details class=\"dni-treeview\"><summary><span class=\"dni-code-hint\"><code>Submission#60+Category</code></span></summary><div><table><thead><tr></tr></thead><tbody><tr><td>Id</td><td><div class=\"dni-plaintext\"><pre>3</pre></div></td></tr><tr><td>Name</td><td><div class=\"dni-plaintext\"><pre>Development</pre></div></td></tr><tr><td>Description</td><td><div class=\"dni-plaintext\"><pre>Prompts related to Developer</pre></div></td></tr><tr><td>Icon</td><td><div class=\"dni-plaintext\"><pre>fa-clock</pre></div></td></tr><tr><td>Color</td><td><div class=\"dni-plaintext\"><pre>#FF5733</pre></div></td></tr><tr><td>PromptCount</td><td><div class=\"dni-plaintext\"><pre>25</pre></div></td></tr><tr><td>SortOrder</td><td><div class=\"dni-plaintext\"><pre>1</pre></div></td></tr><tr><td>FilePathName</td><td><div class=\"dni-plaintext\"><pre>development.json</pre></div></td></tr></tbody></table></div></details></td></tr><tr><td>3</td><td><details class=\"dni-treeview\"><summary><span class=\"dni-code-hint\"><code>Submission#60+Category</code></span></summary><div><table><thead><tr></tr></thead><tbody><tr><td>Id</td><td><div class=\"dni-plaintext\"><pre>4</pre></div></td></tr><tr><td>Name</td><td><div class=\"dni-plaintext\"><pre>Asp Net Blazor</pre></div></td></tr><tr><td>Description</td><td><div class=\"dni-plaintext\"><pre>Prompts Related to balzor web Application</pre></div></td></tr><tr><td>Icon</td><td><div class=\"dni-plaintext\"><pre>fa-clock</pre></div></td></tr><tr><td>Color</td><td><div class=\"dni-plaintext\"><pre>#3258b8ff</pre></div></td></tr><tr><td>PromptCount</td><td><div class=\"dni-plaintext\"><pre>25</pre></div></td></tr><tr><td>SortOrder</td><td><div class=\"dni-plaintext\"><pre>2</pre></div></td></tr><tr><td>FilePathName</td><td><div class=\"dni-plaintext\"><pre>blazor.json</pre></div></td></tr></tbody></table></div></details></td></tr></tbody></table><style>\r\n",
       ".dni-code-hint {\r\n",
       "    font-style: italic;\r\n",
       "    overflow: hidden;\r\n",
       "    white-space: nowrap;\r\n",
       "}\r\n",
       ".dni-treeview {\r\n",
       "    white-space: nowrap;\r\n",
       "}\r\n",
       ".dni-treeview td {\r\n",
       "    vertical-align: top;\r\n",
       "    text-align: start;\r\n",
       "}\r\n",
       "details.dni-treeview {\r\n",
       "    padding-left: 1em;\r\n",
       "}\r\n",
       "table td {\r\n",
       "    text-align: start;\r\n",
       "}\r\n",
       "table tr { \r\n",
       "    vertical-align: top; \r\n",
       "    margin: 0em 0px;\r\n",
       "}\r\n",
       "table tr td pre \r\n",
       "{ \r\n",
       "    vertical-align: top !important; \r\n",
       "    margin: 0em 0px !important;\r\n",
       "} \r\n",
       "table th {\r\n",
       "    text-align: start;\r\n",
       "}\r\n",
       "</style>"
      ]
     },
     "metadata": {},
     "output_type": "display_data"
    }
   ],
   "source": [
    "var  allSource = JsonSerializer.Deserialize<AllSource>(allSourceResponse);\n",
    "allSource.Categories"
   ]
  },
  {
   "cell_type": "code",
   "execution_count": 65,
   "metadata": {
    "language_info": {
     "name": "polyglot-notebook"
    },
    "polyglot_notebook": {
     "kernelName": "csharp"
    }
   },
   "outputs": [],
   "source": [
    "var newCategories = new Category()\n",
    "{\n",
    "    Id = \"4\",\n",
    "    Name = \"Asp Net Blazor\",\n",
    "    Description =\"Prompts Related to balzor web Application\",\n",
    "    Icon =\"fa-clock\",\n",
    "    Color =\"#3258b8ff\",\n",
    "    PromptCount =25,\n",
    "    SortOrder =2,\n",
    "    FilePathName = newPromptCategoriesName\n",
    "};"
   ]
  },
  {
   "cell_type": "code",
   "execution_count": 66,
   "metadata": {
    "language_info": {
     "name": "polyglot-notebook"
    },
    "polyglot_notebook": {
     "kernelName": "csharp"
    }
   },
   "outputs": [
    {
     "data": {
      "text/html": [
       "<table><thead><tr><th><i>index</i></th><th>value</th></tr></thead><tbody><tr><td>0</td><td><details class=\"dni-treeview\"><summary><span class=\"dni-code-hint\"><code>Submission#60+Category</code></span></summary><div><table><thead><tr></tr></thead><tbody><tr><td>Id</td><td><div class=\"dni-plaintext\"><pre>1</pre></div></td></tr><tr><td>Name</td><td><div class=\"dni-plaintext\"><pre>Productivity</pre></div></td></tr><tr><td>Description</td><td><div class=\"dni-plaintext\"><pre>Prompts related to time management and efficiency</pre></div></td></tr><tr><td>Icon</td><td><div class=\"dni-plaintext\"><pre>fa-clock</pre></div></td></tr><tr><td>Color</td><td><div class=\"dni-plaintext\"><pre>#FF5733</pre></div></td></tr><tr><td>PromptCount</td><td><div class=\"dni-plaintext\"><pre>25</pre></div></td></tr><tr><td>SortOrder</td><td><div class=\"dni-plaintext\"><pre>1</pre></div></td></tr><tr><td>FilePathName</td><td><div class=\"dni-plaintext\"><pre>data.json</pre></div></td></tr></tbody></table></div></details></td></tr><tr><td>1</td><td><details class=\"dni-treeview\"><summary><span class=\"dni-code-hint\"><code>Submission#60+Category</code></span></summary><div><table><thead><tr></tr></thead><tbody><tr><td>Id</td><td><div class=\"dni-plaintext\"><pre>2</pre></div></td></tr><tr><td>Name</td><td><div class=\"dni-plaintext\"><pre>Marketing</pre></div></td></tr><tr><td>Description</td><td><div class=\"dni-plaintext\"><pre>Prompts related to Marketing</pre></div></td></tr><tr><td>Icon</td><td><div class=\"dni-plaintext\"><pre>fa-clock</pre></div></td></tr><tr><td>Color</td><td><div class=\"dni-plaintext\"><pre>#FF5733</pre></div></td></tr><tr><td>PromptCount</td><td><div class=\"dni-plaintext\"><pre>25</pre></div></td></tr><tr><td>SortOrder</td><td><div class=\"dni-plaintext\"><pre>1</pre></div></td></tr><tr><td>FilePathName</td><td><div class=\"dni-plaintext\"><pre>marketing.json</pre></div></td></tr></tbody></table></div></details></td></tr><tr><td>2</td><td><details class=\"dni-treeview\"><summary><span class=\"dni-code-hint\"><code>Submission#60+Category</code></span></summary><div><table><thead><tr></tr></thead><tbody><tr><td>Id</td><td><div class=\"dni-plaintext\"><pre>3</pre></div></td></tr><tr><td>Name</td><td><div class=\"dni-plaintext\"><pre>Development</pre></div></td></tr><tr><td>Description</td><td><div class=\"dni-plaintext\"><pre>Prompts related to Developer</pre></div></td></tr><tr><td>Icon</td><td><div class=\"dni-plaintext\"><pre>fa-clock</pre></div></td></tr><tr><td>Color</td><td><div class=\"dni-plaintext\"><pre>#FF5733</pre></div></td></tr><tr><td>PromptCount</td><td><div class=\"dni-plaintext\"><pre>25</pre></div></td></tr><tr><td>SortOrder</td><td><div class=\"dni-plaintext\"><pre>1</pre></div></td></tr><tr><td>FilePathName</td><td><div class=\"dni-plaintext\"><pre>development.json</pre></div></td></tr></tbody></table></div></details></td></tr><tr><td>3</td><td><details class=\"dni-treeview\"><summary><span class=\"dni-code-hint\"><code>Submission#60+Category</code></span></summary><div><table><thead><tr></tr></thead><tbody><tr><td>Id</td><td><div class=\"dni-plaintext\"><pre>4</pre></div></td></tr><tr><td>Name</td><td><div class=\"dni-plaintext\"><pre>Asp Net Blazor</pre></div></td></tr><tr><td>Description</td><td><div class=\"dni-plaintext\"><pre>Prompts Related to balzor web Application</pre></div></td></tr><tr><td>Icon</td><td><div class=\"dni-plaintext\"><pre>fa-clock</pre></div></td></tr><tr><td>Color</td><td><div class=\"dni-plaintext\"><pre>#3258b8ff</pre></div></td></tr><tr><td>PromptCount</td><td><div class=\"dni-plaintext\"><pre>25</pre></div></td></tr><tr><td>SortOrder</td><td><div class=\"dni-plaintext\"><pre>2</pre></div></td></tr><tr><td>FilePathName</td><td><div class=\"dni-plaintext\"><pre>blazor.json</pre></div></td></tr></tbody></table></div></details></td></tr></tbody></table><style>\r\n",
       ".dni-code-hint {\r\n",
       "    font-style: italic;\r\n",
       "    overflow: hidden;\r\n",
       "    white-space: nowrap;\r\n",
       "}\r\n",
       ".dni-treeview {\r\n",
       "    white-space: nowrap;\r\n",
       "}\r\n",
       ".dni-treeview td {\r\n",
       "    vertical-align: top;\r\n",
       "    text-align: start;\r\n",
       "}\r\n",
       "details.dni-treeview {\r\n",
       "    padding-left: 1em;\r\n",
       "}\r\n",
       "table td {\r\n",
       "    text-align: start;\r\n",
       "}\r\n",
       "table tr { \r\n",
       "    vertical-align: top; \r\n",
       "    margin: 0em 0px;\r\n",
       "}\r\n",
       "table tr td pre \r\n",
       "{ \r\n",
       "    vertical-align: top !important; \r\n",
       "    margin: 0em 0px !important;\r\n",
       "} \r\n",
       "table th {\r\n",
       "    text-align: start;\r\n",
       "}\r\n",
       "</style>"
      ]
     },
     "metadata": {},
     "output_type": "display_data"
    }
   ],
   "source": [
    "if(!allSource.Categories.Any(x=>x.Id == newCategories.Id || x.FilePathName==newCategories.FilePathName))\n",
    "{\n",
    "    allSource.Categories.Add(newCategories);\n",
    "}\n",
    "allSource.Categories"
   ]
  },
  {
   "cell_type": "code",
   "execution_count": 67,
   "metadata": {
    "language_info": {
     "name": "polyglot-notebook"
    },
    "polyglot_notebook": {
     "kernelName": "csharp"
    }
   },
   "outputs": [
    {
     "data": {
      "text/plain": [
       "{\"categories\":[{\"id\":\"1\",\"name\":\"Productivity\",\"description\":\"Prompts related to time management and efficiency\",\"icon\":\"fa-clock\",\"color\":\"#FF5733\",\"promptCount\":25,\"sortOrder\":1,\"filePathName\":\"data.json\"},{\"id\":\"2\",\"name\":\"Marketing\",\"description\":\"Prompts related to Marketing\",\"icon\":\"fa-clock\",\"color\":\"#FF5733\",\"promptCount\":25,\"sortOrder\":1,\"filePathName\":\"marketing.json\"},{\"id\":\"3\",\"name\":\"Development\",\"description\":\"Prompts related to Developer\",\"icon\":\"fa-clock\",\"color\":\"#FF5733\",\"promptCount\":25,\"sortOrder\":1,\"filePathName\":\"development.json\"},{\"id\":\"4\",\"name\":\"Asp Net Blazor\",\"description\":\"Prompts Related to balzor web Application\",\"icon\":\"fa-clock\",\"color\":\"#3258b8ff\",\"promptCount\":25,\"sortOrder\":2,\"filePathName\":\"blazor.json\"}]}"
      ]
     },
     "metadata": {},
     "output_type": "display_data"
    }
   ],
   "source": [
    "var allSourceStringContent = JsonSerializer.Serialize(allSource);\n",
    "allSourceStringContent"
   ]
  },
  {
   "cell_type": "code",
   "execution_count": 68,
   "metadata": {
    "language_info": {
     "name": "polyglot-notebook"
    },
    "polyglot_notebook": {
     "kernelName": "csharp"
    }
   },
   "outputs": [],
   "source": [
    "File.WriteAllText(allSourcePath,allSourceStringContent)"
   ]
  },
  {
   "cell_type": "code",
   "execution_count": 69,
   "metadata": {
    "language_info": {
     "name": "polyglot-notebook"
    },
    "polyglot_notebook": {
     "kernelName": "csharp"
    }
   },
   "outputs": [],
   "source": [
    "var prompt = new Prompts()\n",
    "{\n",
    "    Id =\"34\",\n",
    "    Title = \"Senior blazor appliaction developer haveing 1000 year of Experience\",\n",
    "    Content =\"You are a senior Blazor We Developer\",\n",
    "    Author = \"Prashant\",\n",
    "    AverageRating = 4.4,\n",
    "    Category = newPromptCategoriesName.Replace(\".json\",string.Empty),\n",
    "    Description = \"Generate detailed story outlines with three-act structure and character development\",\n",
    "    Tags = [\"fiction\", \"storytelling\", \"outline\"],\n",
    "    Difficulty = \"beginner\",\n",
    "    EstimatedTime = \"10-20 minutes\",\n",
    "    CreatedAt = DateTime.Now,\n",
    "    UpdatedAt = DateTime.Now,\n",
    "    UsageCount = 32,\n",
    "    IsPublic = true,\n",
    "    Placeholders = []\n",
    "};"
   ]
  },
  {
   "cell_type": "code",
   "execution_count": 70,
   "metadata": {
    "language_info": {
     "name": "polyglot-notebook"
    },
    "polyglot_notebook": {
     "kernelName": "csharp"
    }
   },
   "outputs": [
    {
     "data": {
      "text/plain": [
       "/Volumes/External/SourceCode/Data/Prompt/blazor.json"
      ]
     },
     "metadata": {},
     "output_type": "display_data"
    }
   ],
   "source": [
    "var path = Path.Combine(Directory.GetCurrentDirectory(),newPromptCategoriesName);\n",
    "path"
   ]
  },
  {
   "cell_type": "code",
   "execution_count": 71,
   "metadata": {
    "language_info": {
     "name": "polyglot-notebook"
    },
    "polyglot_notebook": {
     "kernelName": "csharp"
    }
   },
   "outputs": [
    {
     "name": "stdout",
     "output_type": "stream",
     "text": [
      "Read All Contnent\n"
     ]
    },
    {
     "data": {
      "text/html": [
       "<i>(empty)</i><style>\r\n",
       ".dni-code-hint {\r\n",
       "    font-style: italic;\r\n",
       "    overflow: hidden;\r\n",
       "    white-space: nowrap;\r\n",
       "}\r\n",
       ".dni-treeview {\r\n",
       "    white-space: nowrap;\r\n",
       "}\r\n",
       ".dni-treeview td {\r\n",
       "    vertical-align: top;\r\n",
       "    text-align: start;\r\n",
       "}\r\n",
       "details.dni-treeview {\r\n",
       "    padding-left: 1em;\r\n",
       "}\r\n",
       "table td {\r\n",
       "    text-align: start;\r\n",
       "}\r\n",
       "table tr { \r\n",
       "    vertical-align: top; \r\n",
       "    margin: 0em 0px;\r\n",
       "}\r\n",
       "table tr td pre \r\n",
       "{ \r\n",
       "    vertical-align: top !important; \r\n",
       "    margin: 0em 0px !important;\r\n",
       "} \r\n",
       "table th {\r\n",
       "    text-align: start;\r\n",
       "}\r\n",
       "</style>"
      ]
     },
     "metadata": {},
     "output_type": "display_data"
    }
   ],
   "source": [
    "var allPrompts =new List<Prompts>();\n",
    "if(!Path.Exists(path))\n",
    "{\n",
    "    Console.WriteLine(\"Boom lost Me\");\n",
    "    File.WriteAllText(newPromptCategoriesName,JsonSerializer.Serialize(allPrompts));\n",
    "}\n",
    "else\n",
    "{\n",
    "    Console.WriteLine(\"Read All Contnent\");\n",
    "    var allPromptsData = File.ReadAllText(newPromptCategoriesName);\n",
    "    if(allPromptsData.Trim().Length==0)\n",
    "    {\n",
    "        allPromptsData =\"[]\";\n",
    "    }\n",
    "    allPrompts = JsonSerializer.Deserialize<List<Prompts>>(allPromptsData);\n",
    "}\n",
    "allPrompts"
   ]
  },
  {
   "cell_type": "code",
   "execution_count": 72,
   "metadata": {
    "language_info": {
     "name": "polyglot-notebook"
    },
    "polyglot_notebook": {
     "kernelName": "csharp"
    }
   },
   "outputs": [
    {
     "data": {
      "text/html": [
       "<table><thead><tr><th><i>index</i></th><th>value</th></tr></thead><tbody><tr><td>0</td><td><details class=\"dni-treeview\"><summary><span class=\"dni-code-hint\"><code>Submission#59+Prompts</code></span></summary><div><table><thead><tr></tr></thead><tbody><tr><td>Id</td><td><div class=\"dni-plaintext\"><pre>34</pre></div></td></tr><tr><td>Title</td><td><div class=\"dni-plaintext\"><pre>Senior blazor appliaction developer haveing 1000 year of Experience</pre></div></td></tr><tr><td>Content</td><td><div class=\"dni-plaintext\"><pre>You are a senior Blazor We Developer</pre></div></td></tr><tr><td>Category</td><td><div class=\"dni-plaintext\"><pre>blazor</pre></div></td></tr><tr><td>Description</td><td><div class=\"dni-plaintext\"><pre>Generate detailed story outlines with three-act structure and character development</pre></div></td></tr><tr><td>Tags</td><td><div class=\"dni-plaintext\"><pre>[ fiction, storytelling, outline ]</pre></div></td></tr><tr><td>Author</td><td><div class=\"dni-plaintext\"><pre>Prashant</pre></div></td></tr><tr><td>Difficulty</td><td><div class=\"dni-plaintext\"><pre>beginner</pre></div></td></tr><tr><td>EstimatedTime</td><td><div class=\"dni-plaintext\"><pre>10-20 minutes</pre></div></td></tr><tr><td>CreatedAt</td><td><span>2025-09-27 01:21:19Z</span></td></tr><tr><td>UpdatedAt</td><td><span>2025-09-27 01:21:19Z</span></td></tr><tr><td>UsageCount</td><td><div class=\"dni-plaintext\"><pre>32</pre></div></td></tr><tr><td>AverageRating</td><td><div class=\"dni-plaintext\"><pre>4.4</pre></div></td></tr><tr><td>IsPublic</td><td><div class=\"dni-plaintext\"><pre>True</pre></div></td></tr><tr><td>Placeholders</td><td><i>(empty)</i></td></tr><tr><td>UsageNotes</td><td><div class=\"dni-plaintext\"><pre>&lt;null&gt;</pre></div></td></tr></tbody></table></div></details></td></tr></tbody></table><style>\r\n",
       ".dni-code-hint {\r\n",
       "    font-style: italic;\r\n",
       "    overflow: hidden;\r\n",
       "    white-space: nowrap;\r\n",
       "}\r\n",
       ".dni-treeview {\r\n",
       "    white-space: nowrap;\r\n",
       "}\r\n",
       ".dni-treeview td {\r\n",
       "    vertical-align: top;\r\n",
       "    text-align: start;\r\n",
       "}\r\n",
       "details.dni-treeview {\r\n",
       "    padding-left: 1em;\r\n",
       "}\r\n",
       "table td {\r\n",
       "    text-align: start;\r\n",
       "}\r\n",
       "table tr { \r\n",
       "    vertical-align: top; \r\n",
       "    margin: 0em 0px;\r\n",
       "}\r\n",
       "table tr td pre \r\n",
       "{ \r\n",
       "    vertical-align: top !important; \r\n",
       "    margin: 0em 0px !important;\r\n",
       "} \r\n",
       "table th {\r\n",
       "    text-align: start;\r\n",
       "}\r\n",
       "</style>"
      ]
     },
     "metadata": {},
     "output_type": "display_data"
    }
   ],
   "source": [
    "if(!allPrompts.Any(x=>x.Content == prompt.Content))\n",
    "{\n",
    "    allPrompts.Add(prompt);\n",
    "}\n",
    "allPrompts"
   ]
  },
  {
   "cell_type": "code",
   "execution_count": 73,
   "metadata": {
    "language_info": {
     "name": "polyglot-notebook"
    },
    "polyglot_notebook": {
     "kernelName": "csharp"
    }
   },
   "outputs": [],
   "source": [
    "File.WriteAllText(newPromptCategoriesName,JsonSerializer.Serialize(allPrompts))"
   ]
  }
 ],
 "metadata": {
  "kernelspec": {
   "display_name": ".NET (C#)",
   "language": "C#",
   "name": ".net-csharp"
  },
  "language_info": {
   "name": "polyglot-notebook"
  },
  "polyglot_notebook": {
   "kernelInfo": {
    "defaultKernelName": "csharp",
    "items": [
     {
      "aliases": [],
      "name": "csharp"
     }
    ]
   }
  }
 },
 "nbformat": 4,
 "nbformat_minor": 5
}
