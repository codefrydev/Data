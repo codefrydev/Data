{
 "cells": [
  {
   "cell_type": "code",
   "execution_count": 99,
   "id": "795e3d7f",
   "metadata": {
    "language_info": {
     "name": "polyglot-notebook"
    },
    "polyglot_notebook": {
     "kernelName": "csharp"
    }
   },
   "outputs": [],
   "source": [
    "using System.Text.Json;\n",
    "using System.Linq;\n",
    "using System.Collections.Generic;\n",
    "using System.Text.Json.Serialization;\n",
    "using System.IO;"
   ]
  },
  {
   "cell_type": "code",
   "execution_count": 100,
   "id": "243af3e7",
   "metadata": {
    "language_info": {
     "name": "polyglot-notebook"
    },
    "polyglot_notebook": {
     "kernelName": "csharp"
    }
   },
   "outputs": [],
   "source": [
    "public class Prompts\n",
    "{\n",
    "    [JsonPropertyName(\"id\")]\n",
    "    public string Id { get; set; }\n",
    "\n",
    "    [JsonPropertyName(\"title\")]\n",
    "    public string Title { get; set; }\n",
    "\n",
    "    [JsonPropertyName(\"content\")]\n",
    "    public string Content { get; set; }\n",
    "\n",
    "    [JsonPropertyName(\"category\")]\n",
    "    public string Category { get; set; }\n",
    "\n",
    "    [JsonPropertyName(\"description\")]\n",
    "    public string Description { get; set; }\n",
    "\n",
    "    [JsonPropertyName(\"tags\")]\n",
    "    public List<string> Tags { get; set; }\n",
    "\n",
    "    [JsonPropertyName(\"author\")]\n",
    "    public string Author { get; set; }\n",
    "\n",
    "    [JsonPropertyName(\"difficulty\")]\n",
    "    public string Difficulty { get; set; }\n",
    "\n",
    "    [JsonPropertyName(\"estimatedTime\")]\n",
    "    public string EstimatedTime { get; set; }\n",
    "\n",
    "    [JsonPropertyName(\"createdAt\")]\n",
    "    public DateTime CreatedAt { get; set; }\n",
    "\n",
    "    [JsonPropertyName(\"updatedAt\")]\n",
    "    public DateTime UpdatedAt { get; set; }\n",
    "\n",
    "    [JsonPropertyName(\"usageCount\")]\n",
    "    public int UsageCount { get; set; }\n",
    "\n",
    "    [JsonPropertyName(\"averageRating\")]\n",
    "    public double AverageRating { get; set; }\n",
    "\n",
    "    [JsonPropertyName(\"isPublic\")]\n",
    "    public bool IsPublic { get; set; }\n",
    "\n",
    "    [JsonPropertyName(\"placeholders\")]\n",
    "    public List<object> Placeholders { get; set; }\n",
    "\n",
    "    [JsonPropertyName(\"usageNotes\")]\n",
    "    public string UsageNotes { get; set; }\n",
    "}"
   ]
  },
  {
   "cell_type": "code",
   "execution_count": 101,
   "id": "05c9d419",
   "metadata": {
    "language_info": {
     "name": "polyglot-notebook"
    },
    "polyglot_notebook": {
     "kernelName": "csharp"
    }
   },
   "outputs": [],
   "source": [
    "public class Category\n",
    "{\n",
    "    [JsonPropertyName(\"id\")]\n",
    "    public string Id { get; set; }\n",
    "\n",
    "    [JsonPropertyName(\"name\")]\n",
    "    public string Name { get; set; }\n",
    "\n",
    "    [JsonPropertyName(\"description\")]\n",
    "    public string Description { get; set; }\n",
    "\n",
    "    [JsonPropertyName(\"icon\")]\n",
    "    public string Icon { get; set; }\n",
    "\n",
    "    [JsonPropertyName(\"color\")]\n",
    "    public string Color { get; set; }\n",
    "\n",
    "    [JsonPropertyName(\"promptCount\")]\n",
    "    public int PromptCount { get; set; }\n",
    "\n",
    "    [JsonPropertyName(\"sortOrder\")]\n",
    "    public int SortOrder { get; set; }\n",
    "\n",
    "    [JsonPropertyName(\"filePathName\")]\n",
    "    public string FilePathName { get; set; }\n",
    "}\n",
    "\n",
    "public class AllSource\n",
    "{\n",
    "    [JsonPropertyName(\"categories\")]\n",
    "    public List<Category> Categories { get; set; }\n",
    "}"
   ]
  },
  {
   "cell_type": "code",
   "execution_count": 102,
   "metadata": {
    "language_info": {
     "name": "polyglot-notebook"
    },
    "polyglot_notebook": {
     "kernelName": "csharp"
    }
   },
   "outputs": [],
   "source": [
    "var allSourcePath =\"allsources.json\";"
   ]
  },
  {
   "cell_type": "code",
   "execution_count": 103,
   "metadata": {
    "language_info": {
     "name": "polyglot-notebook"
    },
    "polyglot_notebook": {
     "kernelName": "csharp"
    }
   },
   "outputs": [],
   "source": [
    "var newPromptCategoriesName =\"image.json\";"
   ]
  },
  {
   "cell_type": "code",
   "execution_count": 104,
   "metadata": {
    "language_info": {
     "name": "polyglot-notebook"
    },
    "polyglot_notebook": {
     "kernelName": "csharp"
    }
   },
   "outputs": [],
   "source": [
    "var allSourceResponse = File.ReadAllText(allSourcePath);\n"
   ]
  },
  {
   "cell_type": "code",
   "execution_count": 105,
   "id": "60a7ef5d",
   "metadata": {
    "language_info": {
     "name": "polyglot-notebook"
    },
    "polyglot_notebook": {
     "kernelName": "csharp"
    }
   },
   "outputs": [
    {
     "data": {
      "text/html": [
       "<table><thead><tr><th><i>index</i></th><th>value</th></tr></thead><tbody><tr><td>0</td><td><details class=\"dni-treeview\"><summary><span class=\"dni-code-hint\"><code>Submission#101+Category</code></span></summary><div><table><thead><tr></tr></thead><tbody><tr><td>Id</td><td><div class=\"dni-plaintext\"><pre>1</pre></div></td></tr><tr><td>Name</td><td><div class=\"dni-plaintext\"><pre>Productivity</pre></div></td></tr><tr><td>Description</td><td><div class=\"dni-plaintext\"><pre>Prompts related to time management and efficiency</pre></div></td></tr><tr><td>Icon</td><td><div class=\"dni-plaintext\"><pre>fa-clock</pre></div></td></tr><tr><td>Color</td><td><div class=\"dni-plaintext\"><pre>#FF5733</pre></div></td></tr><tr><td>PromptCount</td><td><div class=\"dni-plaintext\"><pre>25</pre></div></td></tr><tr><td>SortOrder</td><td><div class=\"dni-plaintext\"><pre>1</pre></div></td></tr><tr><td>FilePathName</td><td><div class=\"dni-plaintext\"><pre>data.json</pre></div></td></tr></tbody></table></div></details></td></tr><tr><td>1</td><td><details class=\"dni-treeview\"><summary><span class=\"dni-code-hint\"><code>Submission#101+Category</code></span></summary><div><table><thead><tr></tr></thead><tbody><tr><td>Id</td><td><div class=\"dni-plaintext\"><pre>2</pre></div></td></tr><tr><td>Name</td><td><div class=\"dni-plaintext\"><pre>Marketing</pre></div></td></tr><tr><td>Description</td><td><div class=\"dni-plaintext\"><pre>Prompts related to Marketing</pre></div></td></tr><tr><td>Icon</td><td><div class=\"dni-plaintext\"><pre>fa-clock</pre></div></td></tr><tr><td>Color</td><td><div class=\"dni-plaintext\"><pre>#FF5733</pre></div></td></tr><tr><td>PromptCount</td><td><div class=\"dni-plaintext\"><pre>25</pre></div></td></tr><tr><td>SortOrder</td><td><div class=\"dni-plaintext\"><pre>1</pre></div></td></tr><tr><td>FilePathName</td><td><div class=\"dni-plaintext\"><pre>marketing.json</pre></div></td></tr></tbody></table></div></details></td></tr><tr><td>2</td><td><details class=\"dni-treeview\"><summary><span class=\"dni-code-hint\"><code>Submission#101+Category</code></span></summary><div><table><thead><tr></tr></thead><tbody><tr><td>Id</td><td><div class=\"dni-plaintext\"><pre>3</pre></div></td></tr><tr><td>Name</td><td><div class=\"dni-plaintext\"><pre>Development</pre></div></td></tr><tr><td>Description</td><td><div class=\"dni-plaintext\"><pre>Prompts related to Developer</pre></div></td></tr><tr><td>Icon</td><td><div class=\"dni-plaintext\"><pre>fa-clock</pre></div></td></tr><tr><td>Color</td><td><div class=\"dni-plaintext\"><pre>#FF5733</pre></div></td></tr><tr><td>PromptCount</td><td><div class=\"dni-plaintext\"><pre>25</pre></div></td></tr><tr><td>SortOrder</td><td><div class=\"dni-plaintext\"><pre>1</pre></div></td></tr><tr><td>FilePathName</td><td><div class=\"dni-plaintext\"><pre>development.json</pre></div></td></tr></tbody></table></div></details></td></tr><tr><td>3</td><td><details class=\"dni-treeview\"><summary><span class=\"dni-code-hint\"><code>Submission#101+Category</code></span></summary><div><table><thead><tr></tr></thead><tbody><tr><td>Id</td><td><div class=\"dni-plaintext\"><pre>4</pre></div></td></tr><tr><td>Name</td><td><div class=\"dni-plaintext\"><pre>Asp Net Blazor</pre></div></td></tr><tr><td>Description</td><td><div class=\"dni-plaintext\"><pre>Prompts Related to balzor web Application</pre></div></td></tr><tr><td>Icon</td><td><div class=\"dni-plaintext\"><pre>fa-clock</pre></div></td></tr><tr><td>Color</td><td><div class=\"dni-plaintext\"><pre>#3258b8ff</pre></div></td></tr><tr><td>PromptCount</td><td><div class=\"dni-plaintext\"><pre>25</pre></div></td></tr><tr><td>SortOrder</td><td><div class=\"dni-plaintext\"><pre>2</pre></div></td></tr><tr><td>FilePathName</td><td><div class=\"dni-plaintext\"><pre>blazor.json</pre></div></td></tr></tbody></table></div></details></td></tr><tr><td>4</td><td><details class=\"dni-treeview\"><summary><span class=\"dni-code-hint\"><code>Submission#101+Category</code></span></summary><div><table><thead><tr></tr></thead><tbody><tr><td>Id</td><td><div class=\"dni-plaintext\"><pre>5</pre></div></td></tr><tr><td>Name</td><td><div class=\"dni-plaintext\"><pre>Generate Image</pre></div></td></tr><tr><td>Description</td><td><div class=\"dni-plaintext\"><pre>Prompts Related to Image Generation</pre></div></td></tr><tr><td>Icon</td><td><div class=\"dni-plaintext\"><pre>fa-clock</pre></div></td></tr><tr><td>Color</td><td><div class=\"dni-plaintext\"><pre>#3258b8ff</pre></div></td></tr><tr><td>PromptCount</td><td><div class=\"dni-plaintext\"><pre>25</pre></div></td></tr><tr><td>SortOrder</td><td><div class=\"dni-plaintext\"><pre>2</pre></div></td></tr><tr><td>FilePathName</td><td><div class=\"dni-plaintext\"><pre>image.json</pre></div></td></tr></tbody></table></div></details></td></tr></tbody></table><style>\r\n",
       ".dni-code-hint {\r\n",
       "    font-style: italic;\r\n",
       "    overflow: hidden;\r\n",
       "    white-space: nowrap;\r\n",
       "}\r\n",
       ".dni-treeview {\r\n",
       "    white-space: nowrap;\r\n",
       "}\r\n",
       ".dni-treeview td {\r\n",
       "    vertical-align: top;\r\n",
       "    text-align: start;\r\n",
       "}\r\n",
       "details.dni-treeview {\r\n",
       "    padding-left: 1em;\r\n",
       "}\r\n",
       "table td {\r\n",
       "    text-align: start;\r\n",
       "}\r\n",
       "table tr { \r\n",
       "    vertical-align: top; \r\n",
       "    margin: 0em 0px;\r\n",
       "}\r\n",
       "table tr td pre \r\n",
       "{ \r\n",
       "    vertical-align: top !important; \r\n",
       "    margin: 0em 0px !important;\r\n",
       "} \r\n",
       "table th {\r\n",
       "    text-align: start;\r\n",
       "}\r\n",
       "</style>"
      ]
     },
     "metadata": {},
     "output_type": "display_data"
    }
   ],
   "source": [
    "var  allSource = JsonSerializer.Deserialize<AllSource>(allSourceResponse);\n",
    "allSource.Categories"
   ]
  },
  {
   "cell_type": "code",
   "execution_count": 106,
   "metadata": {
    "language_info": {
     "name": "polyglot-notebook"
    },
    "polyglot_notebook": {
     "kernelName": "csharp"
    }
   },
   "outputs": [],
   "source": [
    "var newCategories = new Category()\n",
    "{\n",
    "    Id = \"5\",\n",
    "    Name = \"Generate Image\",\n",
    "    Description =\"Prompts Related to Image Generation\",\n",
    "    Icon =\"fa-clock\",\n",
    "    Color =\"#3258b8ff\",\n",
    "    PromptCount =25,\n",
    "    SortOrder =2,\n",
    "    FilePathName = newPromptCategoriesName\n",
    "};"
   ]
  },
  {
   "cell_type": "code",
   "execution_count": 107,
   "metadata": {
    "language_info": {
     "name": "polyglot-notebook"
    },
    "polyglot_notebook": {
     "kernelName": "csharp"
    }
   },
   "outputs": [
    {
     "data": {
      "text/html": [
       "<table><thead><tr><th><i>index</i></th><th>value</th></tr></thead><tbody><tr><td>0</td><td><details class=\"dni-treeview\"><summary><span class=\"dni-code-hint\"><code>Submission#101+Category</code></span></summary><div><table><thead><tr></tr></thead><tbody><tr><td>Id</td><td><div class=\"dni-plaintext\"><pre>1</pre></div></td></tr><tr><td>Name</td><td><div class=\"dni-plaintext\"><pre>Productivity</pre></div></td></tr><tr><td>Description</td><td><div class=\"dni-plaintext\"><pre>Prompts related to time management and efficiency</pre></div></td></tr><tr><td>Icon</td><td><div class=\"dni-plaintext\"><pre>fa-clock</pre></div></td></tr><tr><td>Color</td><td><div class=\"dni-plaintext\"><pre>#FF5733</pre></div></td></tr><tr><td>PromptCount</td><td><div class=\"dni-plaintext\"><pre>25</pre></div></td></tr><tr><td>SortOrder</td><td><div class=\"dni-plaintext\"><pre>1</pre></div></td></tr><tr><td>FilePathName</td><td><div class=\"dni-plaintext\"><pre>data.json</pre></div></td></tr></tbody></table></div></details></td></tr><tr><td>1</td><td><details class=\"dni-treeview\"><summary><span class=\"dni-code-hint\"><code>Submission#101+Category</code></span></summary><div><table><thead><tr></tr></thead><tbody><tr><td>Id</td><td><div class=\"dni-plaintext\"><pre>2</pre></div></td></tr><tr><td>Name</td><td><div class=\"dni-plaintext\"><pre>Marketing</pre></div></td></tr><tr><td>Description</td><td><div class=\"dni-plaintext\"><pre>Prompts related to Marketing</pre></div></td></tr><tr><td>Icon</td><td><div class=\"dni-plaintext\"><pre>fa-clock</pre></div></td></tr><tr><td>Color</td><td><div class=\"dni-plaintext\"><pre>#FF5733</pre></div></td></tr><tr><td>PromptCount</td><td><div class=\"dni-plaintext\"><pre>25</pre></div></td></tr><tr><td>SortOrder</td><td><div class=\"dni-plaintext\"><pre>1</pre></div></td></tr><tr><td>FilePathName</td><td><div class=\"dni-plaintext\"><pre>marketing.json</pre></div></td></tr></tbody></table></div></details></td></tr><tr><td>2</td><td><details class=\"dni-treeview\"><summary><span class=\"dni-code-hint\"><code>Submission#101+Category</code></span></summary><div><table><thead><tr></tr></thead><tbody><tr><td>Id</td><td><div class=\"dni-plaintext\"><pre>3</pre></div></td></tr><tr><td>Name</td><td><div class=\"dni-plaintext\"><pre>Development</pre></div></td></tr><tr><td>Description</td><td><div class=\"dni-plaintext\"><pre>Prompts related to Developer</pre></div></td></tr><tr><td>Icon</td><td><div class=\"dni-plaintext\"><pre>fa-clock</pre></div></td></tr><tr><td>Color</td><td><div class=\"dni-plaintext\"><pre>#FF5733</pre></div></td></tr><tr><td>PromptCount</td><td><div class=\"dni-plaintext\"><pre>25</pre></div></td></tr><tr><td>SortOrder</td><td><div class=\"dni-plaintext\"><pre>1</pre></div></td></tr><tr><td>FilePathName</td><td><div class=\"dni-plaintext\"><pre>development.json</pre></div></td></tr></tbody></table></div></details></td></tr><tr><td>3</td><td><details class=\"dni-treeview\"><summary><span class=\"dni-code-hint\"><code>Submission#101+Category</code></span></summary><div><table><thead><tr></tr></thead><tbody><tr><td>Id</td><td><div class=\"dni-plaintext\"><pre>4</pre></div></td></tr><tr><td>Name</td><td><div class=\"dni-plaintext\"><pre>Asp Net Blazor</pre></div></td></tr><tr><td>Description</td><td><div class=\"dni-plaintext\"><pre>Prompts Related to balzor web Application</pre></div></td></tr><tr><td>Icon</td><td><div class=\"dni-plaintext\"><pre>fa-clock</pre></div></td></tr><tr><td>Color</td><td><div class=\"dni-plaintext\"><pre>#3258b8ff</pre></div></td></tr><tr><td>PromptCount</td><td><div class=\"dni-plaintext\"><pre>25</pre></div></td></tr><tr><td>SortOrder</td><td><div class=\"dni-plaintext\"><pre>2</pre></div></td></tr><tr><td>FilePathName</td><td><div class=\"dni-plaintext\"><pre>blazor.json</pre></div></td></tr></tbody></table></div></details></td></tr><tr><td>4</td><td><details class=\"dni-treeview\"><summary><span class=\"dni-code-hint\"><code>Submission#101+Category</code></span></summary><div><table><thead><tr></tr></thead><tbody><tr><td>Id</td><td><div class=\"dni-plaintext\"><pre>5</pre></div></td></tr><tr><td>Name</td><td><div class=\"dni-plaintext\"><pre>Generate Image</pre></div></td></tr><tr><td>Description</td><td><div class=\"dni-plaintext\"><pre>Prompts Related to Image Generation</pre></div></td></tr><tr><td>Icon</td><td><div class=\"dni-plaintext\"><pre>fa-clock</pre></div></td></tr><tr><td>Color</td><td><div class=\"dni-plaintext\"><pre>#3258b8ff</pre></div></td></tr><tr><td>PromptCount</td><td><div class=\"dni-plaintext\"><pre>25</pre></div></td></tr><tr><td>SortOrder</td><td><div class=\"dni-plaintext\"><pre>2</pre></div></td></tr><tr><td>FilePathName</td><td><div class=\"dni-plaintext\"><pre>image.json</pre></div></td></tr></tbody></table></div></details></td></tr></tbody></table><style>\r\n",
       ".dni-code-hint {\r\n",
       "    font-style: italic;\r\n",
       "    overflow: hidden;\r\n",
       "    white-space: nowrap;\r\n",
       "}\r\n",
       ".dni-treeview {\r\n",
       "    white-space: nowrap;\r\n",
       "}\r\n",
       ".dni-treeview td {\r\n",
       "    vertical-align: top;\r\n",
       "    text-align: start;\r\n",
       "}\r\n",
       "details.dni-treeview {\r\n",
       "    padding-left: 1em;\r\n",
       "}\r\n",
       "table td {\r\n",
       "    text-align: start;\r\n",
       "}\r\n",
       "table tr { \r\n",
       "    vertical-align: top; \r\n",
       "    margin: 0em 0px;\r\n",
       "}\r\n",
       "table tr td pre \r\n",
       "{ \r\n",
       "    vertical-align: top !important; \r\n",
       "    margin: 0em 0px !important;\r\n",
       "} \r\n",
       "table th {\r\n",
       "    text-align: start;\r\n",
       "}\r\n",
       "</style>"
      ]
     },
     "metadata": {},
     "output_type": "display_data"
    }
   ],
   "source": [
    "if(!allSource.Categories.Any(x=>x.Id == newCategories.Id || x.FilePathName==newCategories.FilePathName))\n",
    "{\n",
    "    allSource.Categories.Add(newCategories);\n",
    "}\n",
    "allSource.Categories"
   ]
  },
  {
   "cell_type": "code",
   "execution_count": 108,
   "metadata": {
    "language_info": {
     "name": "polyglot-notebook"
    },
    "polyglot_notebook": {
     "kernelName": "csharp"
    }
   },
   "outputs": [
    {
     "data": {
      "text/plain": [
       "{\"categories\":[{\"id\":\"1\",\"name\":\"Productivity\",\"description\":\"Prompts related to time management and efficiency\",\"icon\":\"fa-clock\",\"color\":\"#FF5733\",\"promptCount\":25,\"sortOrder\":1,\"filePathName\":\"data.json\"},{\"id\":\"2\",\"name\":\"Marketing\",\"description\":\"Prompts related to Marketing\",\"icon\":\"fa-clock\",\"color\":\"#FF5733\",\"promptCount\":25,\"sortOrder\":1,\"filePathName\":\"marketing.json\"},{\"id\":\"3\",\"name\":\"Development\",\"description\":\"Prompts related to Developer\",\"icon\":\"fa-clock\",\"color\":\"#FF5733\",\"promptCount\":25,\"sortOrder\":1,\"filePathName\":\"development.json\"},{\"id\":\"4\",\"name\":\"Asp Net Blazor\",\"description\":\"Prompts Related to balzor web Application\",\"icon\":\"fa-clock\",\"color\":\"#3258b8ff\",\"promptCount\":25,\"sortOrder\":2,\"filePathName\":\"blazor.json\"},{\"id\":\"5\",\"name\":\"Generate Image\",\"description\":\"Prompts Related to Image Generation\",\"icon\":\"fa-clock\",\"color\":\"#3258b8ff\",\"promptCount\":25,\"sortOrder\":2,\"filePathName\":\"image.json\"}]}"
      ]
     },
     "metadata": {},
     "output_type": "display_data"
    }
   ],
   "source": [
    "var allSourceStringContent = JsonSerializer.Serialize(allSource);\n",
    "allSourceStringContent"
   ]
  },
  {
   "cell_type": "code",
   "execution_count": 109,
   "metadata": {
    "language_info": {
     "name": "polyglot-notebook"
    },
    "polyglot_notebook": {
     "kernelName": "csharp"
    }
   },
   "outputs": [],
   "source": [
    "File.WriteAllText(allSourcePath,allSourceStringContent)"
   ]
  },
  {
   "cell_type": "code",
   "execution_count": 110,
   "metadata": {
    "language_info": {
     "name": "polyglot-notebook"
    },
    "polyglot_notebook": {
     "kernelName": "csharp"
    }
   },
   "outputs": [],
   "source": [
    "var prompt = new Prompts()\n",
    "{\n",
    "    Id =\"34\",\n",
    "    Title = \"Senior blazor appliaction developer haveing 1000 year of Experience\",\n",
    "    Content =\"\"\"\n",
    "    1. A series of 5 emails (teaser, announcement, features, testimonials, final call)\n",
    "    2. Subject lines optimized for open rates\n",
    "    3. Compelling CTAs for each email\n",
    "    4. Personalization strategies\n",
    "    5. A/B testing suggestions\n",
    "\n",
    "    Target audience: [Define your audience]\n",
    "    Product: [Describe your product]\n",
    "    Launch date: [Specify date]\n",
    "    Key selling points: [List main benefits]\n",
    "    \"\"\",\n",
    "    Author = \"Prashant\",\n",
    "    AverageRating = 4.4,\n",
    "    Category = newPromptCategoriesName.Replace(\".json\",string.Empty),\n",
    "    Description = \"Generate detailed story outlines with three-act structure and character development\",\n",
    "    Tags = [\"fiction\", \"storytelling\", \"outline\"],\n",
    "    Difficulty = \"beginner\",\n",
    "    EstimatedTime = \"10-20 minutes\",\n",
    "    CreatedAt = DateTime.Now,\n",
    "    UpdatedAt = DateTime.Now,\n",
    "    UsageCount = 32,\n",
    "    IsPublic = true,\n",
    "    Placeholders = []\n",
    "};"
   ]
  },
  {
   "cell_type": "code",
   "execution_count": 111,
   "metadata": {
    "language_info": {
     "name": "polyglot-notebook"
    },
    "polyglot_notebook": {
     "kernelName": "csharp"
    }
   },
   "outputs": [],
   "source": [
    "var jsonContent = \"\"\"\n",
    "{\n",
    "  \"Id\": \"1\",\n",
    "  \"Title\": \"Create Earth Cake Piece\",\n",
    "  \"Content\": \"Create a stylish, hyper-realistic [X:Y] poster of a post-apocalyptic\\n[city] as a square diorama. The scene features ruined landmarks,\\nlayered terrain with exposed soil, water, and rocks for depth, and\\novergrown plants reclaiming the city. Integrate the city\\u0027s name \\u0027[city]\\u0027\\nin sleek 3D white letters, blending organically into the landscape. Use\\na cinematic, moody aesthetic-cracked structures, subtle fog, and\\ndynamic lighting to make the decay feel dramatic yet elegant. Place\\nthe diorama on a clean white background for contrast. Ultra-detailed,\\nhigh-resolution.\",\n",
    "  \"Category\": \"development\",\n",
    "  \"Description\": \"Generate A piece of city like it cake\",\n",
    "  \"Tags\": [\n",
    "    \"earth\"\n",
    "  ],\n",
    "  \"UsageCount\": 0,\n",
    "  \"AverageRating\": 0,\n",
    "  \"CreatedAt\": \"2025-09-27T10:51:56.941Z\",\n",
    "  \"UpdatedAt\": \"2025-09-27T10:51:56.941Z\",\n",
    "  \"IsPublic\": true,\n",
    "  \"Author\": \"Prompt Generator\",\n",
    "  \"Difficulty\": \"beginner\",\n",
    "  \"Placeholders\": [\n",
    "    \"X:Y\",\n",
    "    \"city\"\n",
    "  ],\n",
    "  \"UsageNotes\": \"Replace [task description] with your specific task description.\",\n",
    "  \"EstimatedTime\": \"5-10 minutes\"\n",
    "}\n",
    "\"\"\";"
   ]
  },
  {
   "cell_type": "code",
   "execution_count": 112,
   "metadata": {
    "language_info": {
     "name": "polyglot-notebook"
    },
    "polyglot_notebook": {
     "kernelName": "csharp"
    }
   },
   "outputs": [
    {
     "data": {
      "text/html": [
       "<details open=\"open\" class=\"dni-treeview\"><summary><span class=\"dni-code-hint\"><code>Submission#100+Prompts</code></span></summary><div><table><thead><tr></tr></thead><tbody><tr><td>Id</td><td><div class=\"dni-plaintext\"><pre>1</pre></div></td></tr><tr><td>Title</td><td><div class=\"dni-plaintext\"><pre>create earth cake piece</pre></div></td></tr><tr><td>Content</td><td><div class=\"dni-plaintext\"><pre>create a stylish, hyper-realistic [x:y] poster of a post-apocalyptic\n",
       "[city] as a square diorama. the scene features ruined landmarks,\n",
       "layered terrain with exposed soil, water, and rocks for depth, and\n",
       "overgrown plants reclaiming the city. integrate the city&#39;s name &#39;[city]&#39;\n",
       "in sleek 3d white letters, blending organically into the landscape. use\n",
       "a cinematic, moody aesthetic-cracked structures, subtle fog, and\n",
       "dynamic lighting to make the decay feel dramatic yet elegant. place\n",
       "the diorama on a clean white background for contrast. ultra-detailed,\n",
       "high-resolution.</pre></div></td></tr><tr><td>Category</td><td><div class=\"dni-plaintext\"><pre>development</pre></div></td></tr><tr><td>Description</td><td><div class=\"dni-plaintext\"><pre>generate a piece of city like it cake</pre></div></td></tr><tr><td>Tags</td><td><div class=\"dni-plaintext\"><pre>[ earth ]</pre></div></td></tr><tr><td>Author</td><td><div class=\"dni-plaintext\"><pre>prompt generator</pre></div></td></tr><tr><td>Difficulty</td><td><div class=\"dni-plaintext\"><pre>beginner</pre></div></td></tr><tr><td>EstimatedTime</td><td><div class=\"dni-plaintext\"><pre>&lt;null&gt;</pre></div></td></tr><tr><td>CreatedAt</td><td><span>0001-01-01 00:00:00Z</span></td></tr><tr><td>UpdatedAt</td><td><span>0001-01-01 00:00:00Z</span></td></tr><tr><td>UsageCount</td><td><div class=\"dni-plaintext\"><pre>0</pre></div></td></tr><tr><td>AverageRating</td><td><div class=\"dni-plaintext\"><pre>0</pre></div></td></tr><tr><td>IsPublic</td><td><div class=\"dni-plaintext\"><pre>False</pre></div></td></tr><tr><td>Placeholders</td><td><table><thead><tr><th><i>index</i></th><th>value</th></tr></thead><tbody><tr><td>0</td><td><span>&quot;x:y&quot;</span></td></tr><tr><td>1</td><td><span>&quot;city&quot;</span></td></tr></tbody></table></td></tr><tr><td>UsageNotes</td><td><div class=\"dni-plaintext\"><pre>&lt;null&gt;</pre></div></td></tr></tbody></table></div></details><style>\r\n",
       ".dni-code-hint {\r\n",
       "    font-style: italic;\r\n",
       "    overflow: hidden;\r\n",
       "    white-space: nowrap;\r\n",
       "}\r\n",
       ".dni-treeview {\r\n",
       "    white-space: nowrap;\r\n",
       "}\r\n",
       ".dni-treeview td {\r\n",
       "    vertical-align: top;\r\n",
       "    text-align: start;\r\n",
       "}\r\n",
       "details.dni-treeview {\r\n",
       "    padding-left: 1em;\r\n",
       "}\r\n",
       "table td {\r\n",
       "    text-align: start;\r\n",
       "}\r\n",
       "table tr { \r\n",
       "    vertical-align: top; \r\n",
       "    margin: 0em 0px;\r\n",
       "}\r\n",
       "table tr td pre \r\n",
       "{ \r\n",
       "    vertical-align: top !important; \r\n",
       "    margin: 0em 0px !important;\r\n",
       "} \r\n",
       "table th {\r\n",
       "    text-align: start;\r\n",
       "}\r\n",
       "</style>"
      ]
     },
     "metadata": {},
     "output_type": "display_data"
    }
   ],
   "source": [
    "var data = JsonSerializer.Deserialize<Prompts>(jsonContent.ToLower());\n",
    "data"
   ]
  },
  {
   "cell_type": "code",
   "execution_count": 113,
   "metadata": {
    "language_info": {
     "name": "polyglot-notebook"
    },
    "polyglot_notebook": {
     "kernelName": "csharp"
    }
   },
   "outputs": [
    {
     "data": {
      "text/plain": [
       "/Volumes/External/SourceCode/Data/Prompt/image.json"
      ]
     },
     "metadata": {},
     "output_type": "display_data"
    }
   ],
   "source": [
    "var path = Path.Combine(Directory.GetCurrentDirectory(),newPromptCategoriesName);\n",
    "path"
   ]
  },
  {
   "cell_type": "code",
   "execution_count": 114,
   "metadata": {
    "language_info": {
     "name": "polyglot-notebook"
    },
    "polyglot_notebook": {
     "kernelName": "csharp"
    }
   },
   "outputs": [
    {
     "name": "stdout",
     "output_type": "stream",
     "text": [
      "Read All Contnent\n"
     ]
    },
    {
     "data": {
      "text/html": [
       "<i>(empty)</i><style>\r\n",
       ".dni-code-hint {\r\n",
       "    font-style: italic;\r\n",
       "    overflow: hidden;\r\n",
       "    white-space: nowrap;\r\n",
       "}\r\n",
       ".dni-treeview {\r\n",
       "    white-space: nowrap;\r\n",
       "}\r\n",
       ".dni-treeview td {\r\n",
       "    vertical-align: top;\r\n",
       "    text-align: start;\r\n",
       "}\r\n",
       "details.dni-treeview {\r\n",
       "    padding-left: 1em;\r\n",
       "}\r\n",
       "table td {\r\n",
       "    text-align: start;\r\n",
       "}\r\n",
       "table tr { \r\n",
       "    vertical-align: top; \r\n",
       "    margin: 0em 0px;\r\n",
       "}\r\n",
       "table tr td pre \r\n",
       "{ \r\n",
       "    vertical-align: top !important; \r\n",
       "    margin: 0em 0px !important;\r\n",
       "} \r\n",
       "table th {\r\n",
       "    text-align: start;\r\n",
       "}\r\n",
       "</style>"
      ]
     },
     "metadata": {},
     "output_type": "display_data"
    }
   ],
   "source": [
    "var allPrompts =new List<Prompts>();\n",
    "if(!Path.Exists(path))\n",
    "{\n",
    "    Console.WriteLine(\"Boom lost Me\");\n",
    "    File.WriteAllText(newPromptCategoriesName,JsonSerializer.Serialize(allPrompts));\n",
    "}\n",
    "else\n",
    "{\n",
    "    Console.WriteLine(\"Read All Contnent\");\n",
    "    var allPromptsData = File.ReadAllText(newPromptCategoriesName);\n",
    "    if(allPromptsData.Trim().Length==0)\n",
    "    {\n",
    "        allPromptsData =\"[]\";\n",
    "    }\n",
    "    allPrompts = JsonSerializer.Deserialize<List<Prompts>>(allPromptsData);\n",
    "}\n",
    "allPrompts"
   ]
  },
  {
   "cell_type": "code",
   "execution_count": 115,
   "metadata": {
    "language_info": {
     "name": "polyglot-notebook"
    },
    "polyglot_notebook": {
     "kernelName": "csharp"
    }
   },
   "outputs": [
    {
     "data": {
      "text/html": [
       "<table><thead><tr><th><i>index</i></th><th>value</th></tr></thead><tbody><tr><td>0</td><td><details class=\"dni-treeview\"><summary><span class=\"dni-code-hint\"><code>Submission#100+Prompts</code></span></summary><div><table><thead><tr></tr></thead><tbody><tr><td>Id</td><td><div class=\"dni-plaintext\"><pre>1</pre></div></td></tr><tr><td>Title</td><td><div class=\"dni-plaintext\"><pre>create earth cake piece</pre></div></td></tr><tr><td>Content</td><td><div class=\"dni-plaintext\"><pre>create a stylish, hyper-realistic [x:y] poster of a post-apocalyptic\n",
       "[city] as a square diorama. the scene features ruined landmarks,\n",
       "layered terrain with exposed soil, water, and rocks for depth, and\n",
       "overgrown plants reclaiming the city. integrate the city&#39;s name &#39;[city]&#39;\n",
       "in sleek 3d white letters, blending organically into the landscape. use\n",
       "a cinematic, moody aesthetic-cracked structures, subtle fog, and\n",
       "dynamic lighting to make the decay feel dramatic yet elegant. place\n",
       "the diorama on a clean white background for contrast. ultra-detailed,\n",
       "high-resolution.</pre></div></td></tr><tr><td>Category</td><td><div class=\"dni-plaintext\"><pre>development</pre></div></td></tr><tr><td>Description</td><td><div class=\"dni-plaintext\"><pre>generate a piece of city like it cake</pre></div></td></tr><tr><td>Tags</td><td><div class=\"dni-plaintext\"><pre>[ earth ]</pre></div></td></tr><tr><td>Author</td><td><div class=\"dni-plaintext\"><pre>prompt generator</pre></div></td></tr><tr><td>Difficulty</td><td><div class=\"dni-plaintext\"><pre>beginner</pre></div></td></tr><tr><td>EstimatedTime</td><td><div class=\"dni-plaintext\"><pre>&lt;null&gt;</pre></div></td></tr><tr><td>CreatedAt</td><td><span>0001-01-01 00:00:00Z</span></td></tr><tr><td>UpdatedAt</td><td><span>0001-01-01 00:00:00Z</span></td></tr><tr><td>UsageCount</td><td><div class=\"dni-plaintext\"><pre>0</pre></div></td></tr><tr><td>AverageRating</td><td><div class=\"dni-plaintext\"><pre>0</pre></div></td></tr><tr><td>IsPublic</td><td><div class=\"dni-plaintext\"><pre>False</pre></div></td></tr><tr><td>Placeholders</td><td><table><thead><tr><th><i>index</i></th><th>value</th></tr></thead><tbody><tr><td>0</td><td><span>&quot;x:y&quot;</span></td></tr><tr><td>1</td><td><span>&quot;city&quot;</span></td></tr></tbody></table></td></tr><tr><td>UsageNotes</td><td><div class=\"dni-plaintext\"><pre>&lt;null&gt;</pre></div></td></tr></tbody></table></div></details></td></tr></tbody></table><style>\r\n",
       ".dni-code-hint {\r\n",
       "    font-style: italic;\r\n",
       "    overflow: hidden;\r\n",
       "    white-space: nowrap;\r\n",
       "}\r\n",
       ".dni-treeview {\r\n",
       "    white-space: nowrap;\r\n",
       "}\r\n",
       ".dni-treeview td {\r\n",
       "    vertical-align: top;\r\n",
       "    text-align: start;\r\n",
       "}\r\n",
       "details.dni-treeview {\r\n",
       "    padding-left: 1em;\r\n",
       "}\r\n",
       "table td {\r\n",
       "    text-align: start;\r\n",
       "}\r\n",
       "table tr { \r\n",
       "    vertical-align: top; \r\n",
       "    margin: 0em 0px;\r\n",
       "}\r\n",
       "table tr td pre \r\n",
       "{ \r\n",
       "    vertical-align: top !important; \r\n",
       "    margin: 0em 0px !important;\r\n",
       "} \r\n",
       "table th {\r\n",
       "    text-align: start;\r\n",
       "}\r\n",
       "</style>"
      ]
     },
     "metadata": {},
     "output_type": "display_data"
    }
   ],
   "source": [
    "if(!allPrompts.Any(x=>x.Content == prompt.Content))\n",
    "{\n",
    "    allPrompts.Add(data);\n",
    "}\n",
    "allPrompts"
   ]
  },
  {
   "cell_type": "code",
   "execution_count": 116,
   "metadata": {
    "language_info": {
     "name": "polyglot-notebook"
    },
    "polyglot_notebook": {
     "kernelName": "csharp"
    }
   },
   "outputs": [],
   "source": [
    "File.WriteAllText(newPromptCategoriesName,JsonSerializer.Serialize(allPrompts))"
   ]
  }
 ],
 "metadata": {
  "kernelspec": {
   "display_name": ".NET (C#)",
   "language": "C#",
   "name": ".net-csharp"
  },
  "language_info": {
   "name": "polyglot-notebook"
  },
  "polyglot_notebook": {
   "kernelInfo": {
    "defaultKernelName": "csharp",
    "items": [
     {
      "aliases": [],
      "name": "csharp"
     }
    ]
   }
  }
 },
 "nbformat": 4,
 "nbformat_minor": 5
}
